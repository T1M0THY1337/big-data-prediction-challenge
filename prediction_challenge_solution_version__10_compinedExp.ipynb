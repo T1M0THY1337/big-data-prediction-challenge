{
  "nbformat": 4,
  "nbformat_minor": 0,
  "metadata": {
    "kernelspec": {
      "name": "python3",
      "display_name": "Python 3"
    },
    "language_info": {
      "codemirror_mode": {
        "name": "ipython",
        "version": 3
      },
      "file_extension": ".py",
      "mimetype": "text/x-python",
      "name": "python",
      "nbconvert_exporter": "python",
      "pygments_lexer": "ipython3",
      "version": "3.7.4"
    },
    "colab": {
      "name": "prediction_challenge_solution-version_ 10_compinedExp.ipynb",
      "provenance": [],
      "collapsed_sections": [
        "lEtpbsTkxEaV"
      ],
      "include_colab_link": true
    },
    "accelerator": "GPU"
  },
  "cells": [
    {
      "cell_type": "markdown",
      "metadata": {
        "id": "view-in-github",
        "colab_type": "text"
      },
      "source": [
        "<a href=\"https://colab.research.google.com/github/T1M0THY1337/big-data-prediction-challenge/blob/master/prediction_challenge_solution_version__10_compinedExp.ipynb\" target=\"_parent\"><img src=\"https://colab.research.google.com/assets/colab-badge.svg\" alt=\"Open In Colab\"/></a>"
      ]
    },
    {
      "cell_type": "markdown",
      "metadata": {
        "id": "YNapCUQ9tj-C",
        "colab_type": "text"
      },
      "source": [
        "# Prediction Challange by Sebastian and Tim\n",
        "\n",
        "Your job is to predict whether or not a person will become a customer of a bank. The data itself contains basic demographic information about numerous  customers as well as data related to phone-based marketing calls during specific campaigns."
      ]
    },
    {
      "cell_type": "markdown",
      "metadata": {
        "id": "lEtpbsTkxEaV",
        "colab_type": "text"
      },
      "source": [
        "# Header"
      ]
    },
    {
      "cell_type": "markdown",
      "metadata": {
        "id": "T_8CKo6vuiKW",
        "colab_type": "text"
      },
      "source": [
        "## Version 0.1\n",
        "\n",
        "\n",
        "---\n",
        "\n",
        "\n",
        "**2020-01-29** Feature Engineering (Date), Hyperparameter Tuning\\\n",
        "**2020-01-24** Start mit dem Minimum Working Example"
      ]
    },
    {
      "cell_type": "markdown",
      "metadata": {
        "id": "yYyRmTQNtj-F",
        "colab_type": "text"
      },
      "source": [
        "## Data Dictionary\n",
        "\n",
        "<table style=\"width: 100%;\">\n",
        "    <thead>\n",
        "        <tr>\n",
        "            <th style=\"width: 30%; text-align: left;\">Feature</th>\n",
        "            <th style=\"width: 70%; text-align: left;\">Description</th>\n",
        "        </tr>\n",
        "    </thead>\n",
        "    <tbody>\n",
        "        <tr>\n",
        "            <td>date</td>\n",
        "            <td>The last contact date</td>\n",
        "        </tr>\n",
        "        <tr>\n",
        "            <td>age</td>\n",
        "            <td>The age of the customer</td>\n",
        "        </tr>\n",
        "        <tr>\n",
        "            <td>marital_status</td>\n",
        "            <td>The marital status of the customer</td>\n",
        "        </tr>\n",
        "        <tr>\n",
        "            <td>education</td>\n",
        "            <td>The educationan of the customer</td>\n",
        "        </tr>\n",
        "        <tr>\n",
        "            <td>job</td>\n",
        "            <td>The type of job of the customer</td>\n",
        "        </tr>\n",
        "        <tr>\n",
        "            <td>credit_default</td>\n",
        "            <td>Whether or not the customer has a credit in default</td>\n",
        "        </tr>\n",
        "        <tr>\n",
        "            <td>housing_loan</td>\n",
        "            <td>Whether or not the customer has a housing loan</td>\n",
        "        </tr>\n",
        "        <tr>\n",
        "            <td>personal_loan</td>\n",
        "            <td>Whether or not the customer has a personal loan</td>\n",
        "        </tr>\n",
        "        <tr>\n",
        "            <td>communication_type</td>\n",
        "            <td>The type of contact communication</td>\n",
        "        </tr>\n",
        "        <tr>\n",
        "            <td>n_contacts_campaign</td>\n",
        "            <td>The number of contacts performed during this marketing campaign and for this customer</td>\n",
        "        </tr>\n",
        "        <tr>\n",
        "            <td>days_since_last_contact</td>\n",
        "            <td>The number of days passed by after the customer was last contacted from a previous domain</td>\n",
        "        </tr>\n",
        "        <tr>\n",
        "            <td>n_contacts_before</td>\n",
        "            <td>The number of contacts performed before this marketing campaign and for this customer</td>\n",
        "        </tr>\n",
        "        <tr>\n",
        "            <td>previous_conversion</td>\n",
        "            <td>Whether or not the customer has been a customer before</td>\n",
        "        </tr>\n",
        "        <tr>\n",
        "            <td>success</td>\n",
        "            <td>Whether or not the customer became an actual customer (target variable)</td>\n",
        "        </tr>\n",
        "    </tbody>   \n",
        "</table>   "
      ]
    },
    {
      "cell_type": "markdown",
      "metadata": {
        "id": "I-ZH8xKaxLGH",
        "colab_type": "text"
      },
      "source": [
        "# Programming"
      ]
    },
    {
      "cell_type": "markdown",
      "metadata": {
        "id": "GGyVwYL-tj-H",
        "colab_type": "text"
      },
      "source": [
        "## Package Import"
      ]
    },
    {
      "cell_type": "code",
      "metadata": {
        "id": "zNkzZA6xtj-L",
        "colab_type": "code",
        "colab": {}
      },
      "source": [
        "import numpy as np\n",
        "import pandas as pd\n",
        "import xgboost as xgb\n",
        "import sys as sys\n",
        "import csv, datetime\n",
        "from datetime import datetime\n",
        "from scipy.stats import uniform, randint\n",
        "from sklearn.compose import ColumnTransformer\n",
        "from sklearn.metrics import f1_score, make_scorer, roc_auc_score, roc_curve, recall_score, precision_score\n",
        "from sklearn.model_selection import RandomizedSearchCV, cross_validate, StratifiedKFold\n",
        "from sklearn.pipeline import Pipeline\n",
        "from sklearn.preprocessing import MinMaxScaler, LabelEncoder, OneHotEncoder"
      ],
      "execution_count": 0,
      "outputs": []
    },
    {
      "cell_type": "code",
      "metadata": {
        "id": "wbSQ5Kh8-0v5",
        "colab_type": "code",
        "colab": {}
      },
      "source": [
        "import matplotlib.pyplot as plt\n",
        "import seaborn as sns"
      ],
      "execution_count": 0,
      "outputs": []
    },
    {
      "cell_type": "markdown",
      "metadata": {
        "id": "PRXDmV7stj-W",
        "colab_type": "text"
      },
      "source": [
        "## Data Import"
      ]
    },
    {
      "cell_type": "code",
      "metadata": {
        "id": "JL64eb7ztj-Z",
        "colab_type": "code",
        "colab": {}
      },
      "source": [
        "dataset = pd.read_csv(\n",
        "    'https://raw.githubusercontent.com/saschaschworm/big-data-and-data-science/' +\n",
        "    'master/datasets/prediction-challenge/dataset.csv', \n",
        "    index_col='identifier', parse_dates=['date'])\n",
        "\n",
        "prediction_dataset = pd.read_csv(\n",
        "    'https://raw.githubusercontent.com/saschaschworm/big-data-and-data-science/' +\n",
        "    'master/datasets/prediction-challenge/prediction-dataset.csv', \n",
        "    index_col='identifier', parse_dates=['date'])"
      ],
      "execution_count": 0,
      "outputs": []
    },
    {
      "cell_type": "markdown",
      "metadata": {
        "id": "gbrn1ws79IjG",
        "colab_type": "text"
      },
      "source": [
        "## Options"
      ]
    },
    {
      "cell_type": "code",
      "metadata": {
        "id": "seaxsZE89Iy8",
        "colab_type": "code",
        "colab": {}
      },
      "source": [
        "x_random_state = 1909"
      ],
      "execution_count": 0,
      "outputs": []
    },
    {
      "cell_type": "markdown",
      "metadata": {
        "id": "DxVLYLqEtj-v",
        "colab_type": "text"
      },
      "source": [
        "## Feature Engineering"
      ]
    },
    {
      "cell_type": "code",
      "metadata": {
        "id": "-R43QutQtj-x",
        "colab_type": "code",
        "colab": {}
      },
      "source": [
        "# Create some new features based on the given features\n",
        "# or enrich the dataset with features from datasets."
      ],
      "execution_count": 0,
      "outputs": []
    },
    {
      "cell_type": "code",
      "metadata": {
        "id": "DzRxR-JG-H1A",
        "colab_type": "code",
        "outputId": "b43aeef4-0be9-4356-dbf5-fb00b26d2b49",
        "colab": {
          "base_uri": "https://localhost:8080/",
          "height": 296
        }
      },
      "source": [
        "sns.countplot(data=dataset,x=\"success\")"
      ],
      "execution_count": 27,
      "outputs": [
        {
          "output_type": "execute_result",
          "data": {
            "text/plain": [
              "<matplotlib.axes._subplots.AxesSubplot at 0x7fb312fee6d8>"
            ]
          },
          "metadata": {
            "tags": []
          },
          "execution_count": 27
        },
        {
          "output_type": "display_data",
          "data": {
            "image/png": "[encoded data removed]",
            "text/plain": [
              "<Figure size 432x288 with 1 Axes>"
            ]
          },
          "metadata": {
            "tags": []
          }
        }
      ]
    },
    {
      "cell_type": "code",
      "metadata": {
        "id": "UvKcKeMg8u9Z",
        "colab_type": "code",
        "colab": {}
      },
      "source": [
        "# https://www.kaggle.com/anilkay/handleimbalanceddataclassification\n",
        "\n",
        "from sklearn.utils import resample\n",
        "\n",
        "majority=dataset[dataset[\"success\"]==\"No\"]\n",
        "minority=dataset[dataset[\"success\"]==\"Yes\"]\n",
        "\n",
        "minority_upsampled = resample(minority, \n",
        "                                 replace=True,     # sample with replacement\n",
        "                                 n_samples=16000,    # to match majority class\n",
        "                                 random_state=x_random_state) # reproducible results\n",
        "dataset=pd.concat([majority,minority_upsampled])"
      ],
      "execution_count": 0,
      "outputs": []
    },
    {
      "cell_type": "code",
      "metadata": {
        "id": "JOErA_yp-Xpw",
        "colab_type": "code",
        "outputId": "42728f4a-afac-4bd4-b147-1c1b8f4c1820",
        "colab": {
          "base_uri": "https://localhost:8080/",
          "height": 296
        }
      },
      "source": [
        "sns.countplot(data=dataset,x=\"success\")"
      ],
      "execution_count": 29,
      "outputs": [
        {
          "output_type": "execute_result",
          "data": {
            "text/plain": [
              "<matplotlib.axes._subplots.AxesSubplot at 0x7fb31272ea20>"
            ]
          },
          "metadata": {
            "tags": []
          },
          "execution_count": 29
        },
        {
          "output_type": "display_data",
          "data": {
            "image/png": "[encoded data removed]",
            "text/plain": [
              "<Figure size 432x288 with 1 Axes>"
            ]
          },
          "metadata": {
            "tags": []
          }
        }
      ]
    },
    {
      "cell_type": "code",
      "metadata": {
        "id": "8-qz5y9cTYOB",
        "colab_type": "code",
        "colab": {}
      },
      "source": [
        "def getYear(inDate):\n",
        "  return inDate.year\n",
        "def getMonth(inDate):\n",
        "  return inDate.month\n",
        "def getWeekday(inDate):\n",
        "  return inDate.weekday\n",
        "def getWeekendDay(inDate):\n",
        "  if (inDate.weekday == 'Saturday') or (inDate.weekday == 'Sunday'):\n",
        "    return True\n",
        "  else:\n",
        "    return False\n",
        "def getAgeGroups(inAge):\n",
        "  if (inAge < 28):\n",
        "    return 'young'\n",
        "  elif (49 > inAge > 27):\n",
        "    return 'younger'\n",
        "  elif (61 > inAge > 48):\n",
        "    return 'older'\n",
        "  else:\n",
        "    return 'old'\n",
        "\n",
        "def getDurationGroupsA(inDuration):\n",
        "  if (inDuration < 250):\n",
        "    return 'very_short'\n",
        "  elif (250 < inDuration < 500):\n",
        "    return 'short'\n",
        "  elif (500 < inDuration < 750):\n",
        "    return 'lower_medium'\n",
        "  elif (750 < inDuration < 1000):\n",
        "    return 'medium'\n",
        "  elif (1000 < inDuration < 1250):\n",
        "    return 'higher_medium'\n",
        "  elif (1250 < inDuration < 1500):\n",
        "    return 'long'\n",
        "  elif (1500 < inDuration < 1750):\n",
        "    return 'very_long'\n",
        "  else:\n",
        "    return 'very_big_call'\n",
        "\n",
        "def getDurationGroupsB(inDuration):\n",
        "  if (inDuration < 250):\n",
        "    return 0\n",
        "  elif (250 < inDuration < 500):\n",
        "    return 1\n",
        "  elif (500 < inDuration < 750):\n",
        "    return 2\n",
        "  elif (750 < inDuration < 1000):\n",
        "    return 3\n",
        "  elif (1000 < inDuration < 1250):\n",
        "    return 4\n",
        "  elif (1250 < inDuration < 1500):\n",
        "    return 5\n",
        "  elif (1500 < inDuration < 1750):\n",
        "    return 6\n",
        "  else:\n",
        "    return 7\n",
        "\n",
        "def getSeasons(inMonth):\n",
        "  if(3 < inMonth < 6):\n",
        "    return 'spring'\n",
        "  if(5 < inMonth < 9):\n",
        "    return 'summer'\n",
        "  if(8 < inMonth < 12):\n",
        "    return 'fall'\n",
        "  else:\n",
        "    return 'winter'\n",
        "\n",
        "\n",
        "def getJobGroups(inJob):\n",
        "  if(inJob == \"Unknown\"):\n",
        "    return 'True'\n",
        "  elif(inJob == \"Unemployed\" or inJob == \"Student\" or inJob == \"Pensioner\"):\n",
        "    return 'False'\n",
        "  else:\n",
        "    return 'True'\n",
        "\n",
        "dataset['date'] = pd.to_datetime(dataset['date'])\n",
        "dataset.insert(1, \"dateYear\", dataset['date'], allow_duplicates=True)\n",
        "dataset.insert(2, \"dateMonth\", dataset['date'], allow_duplicates=True)\n",
        "dataset.insert(3, \"dateWeekday\", dataset['date'], allow_duplicates=True)\n",
        "dataset.insert(4, \"dateWeekendDay\", dataset['date'], allow_duplicates=True)\n",
        "\n",
        "dataset.insert(6, \"ageGroups\", dataset['age'], allow_duplicates=True)\n",
        "dataset.insert(19, \"durationGroups\", dataset['duration'], allow_duplicates=True)\n",
        "\n",
        "# dataset.dateYear = dataset.dateYear.apply(getYear)\n",
        "# dataset.dateMonth = dataset.dateMonth.apply(getMonth)\n",
        "\n",
        "dataset.dateYear = dataset['dateYear'].dt.year\n",
        "dataset.dateMonth = dataset['dateMonth'].dt.month\n",
        "dataset.dateWeekday = dataset['dateWeekday'].dt.weekday_name\n",
        "dataset.dateWeekendDay = dataset.dateWeekendDay.apply(getWeekendDay)\n",
        "dataset.ageGroups = dataset.ageGroups.apply(getAgeGroups)\n",
        "dataset.durationGroups = dataset.durationGroups.apply(getDurationGroupsA)\n",
        "\n",
        "dataset.insert(5, \"dateSeason\", dataset['dateMonth'], allow_duplicates=True)\n",
        "dataset.dateSeason = dataset.dateSeason.apply(getSeasons)\n",
        "\n",
        "dataset.insert(11, \"jobGroup\", dataset['job'], allow_duplicates=True)\n",
        "dataset.jobGroup = dataset.jobGroup.apply(getJobGroups)"
      ],
      "execution_count": 0,
      "outputs": []
    },
    {
      "cell_type": "code",
      "metadata": {
        "id": "L2YxDxKmtTyp",
        "colab_type": "code",
        "colab": {}
      },
      "source": [
        "dataset = dataset.loc[dataset.isin([\"Unknown\"]).mean(axis=1) < 0.13]"
      ],
      "execution_count": 0,
      "outputs": []
    },
    {
      "cell_type": "code",
      "metadata": {
        "id": "eHYEOvZ4peLZ",
        "colab_type": "code",
        "colab": {}
      },
      "source": [
        "upper_lim = dataset['duration'].quantile(.97)\n",
        "\n",
        "dataset = dataset[(dataset['duration'] > 0)]\n",
        "dataset.loc[(dataset['duration'] > upper_lim), 'duration'] = upper_lim"
      ],
      "execution_count": 0,
      "outputs": []
    },
    {
      "cell_type": "markdown",
      "metadata": {
        "id": "bzCHihLktj-6",
        "colab_type": "text"
      },
      "source": [
        "## Model, Pipeline and Scoring Initialization"
      ]
    },
    {
      "cell_type": "code",
      "metadata": {
        "id": "GXtb--5Ytj--",
        "colab_type": "code",
        "colab": {}
      },
      "source": [
        "# dataset[['date', 'age', 'marital_status', 'education', 'job', 'credit_default', 'housing_loan', 'personal_loan', 'communication_type', 'n_contacts_campaign', 'days_since_last_contact', 'n_contacts_before', 'previous_conversion', 'duration']]\n",
        "\n",
        "X = dataset[['dateYear', 'dateMonth', 'dateWeekday', 'dateSeason', 'ageGroups', 'marital_status', 'education', 'jobGroup', 'credit_default', 'housing_loan', 'personal_loan', 'communication_type', 'n_contacts_campaign', 'days_since_last_contact', 'n_contacts_before', 'previous_conversion', 'durationGroups']]\n",
        "y = dataset['success']"
      ],
      "execution_count": 0,
      "outputs": []
    },
    {
      "cell_type": "markdown",
      "metadata": {
        "id": "70l38BP0xoEh",
        "colab_type": "text"
      },
      "source": [
        "## Handle Imbalanced Dataset\n",
        "with Parameter fpr xgboost: scale_pos_weight"
      ]
    },
    {
      "cell_type": "code",
      "metadata": {
        "id": "UyP6l1bPxmwi",
        "colab_type": "code",
        "outputId": "d333f69d-128c-4a8a-d092-1667bd9b95c8",
        "colab": {
          "base_uri": "https://localhost:8080/",
          "height": 34
        }
      },
      "source": [
        "ratio = float(np.sum(y == \"No\")) / np.sum(y == \"Yes\")\n",
        "ratio"
      ],
      "execution_count": 34,
      "outputs": [
        {
          "output_type": "execute_result",
          "data": {
            "text/plain": [
              "2.0481632653061226"
            ]
          },
          "metadata": {
            "tags": []
          },
          "execution_count": 34
        }
      ]
    },
    {
      "cell_type": "code",
      "metadata": {
        "id": "v0f-nV_LS2Lw",
        "colab_type": "code",
        "colab": {}
      },
      "source": [
        "# xgb.XGBClassifier?"
      ],
      "execution_count": 0,
      "outputs": []
    },
    {
      "cell_type": "code",
      "metadata": {
        "id": "AtICuwCbtj_H",
        "colab_type": "code",
        "colab": {}
      },
      "source": [
        "classifier = xgb.XGBClassifier(n_jobs=-1, random_state=x_random_state, objective='binary:logistic', scale_pos_weight=ratio)"
      ],
      "execution_count": 0,
      "outputs": []
    },
    {
      "cell_type": "code",
      "metadata": {
        "id": "6n7P31bISudv",
        "colab_type": "code",
        "colab": {}
      },
      "source": [
        "x_rscv = StratifiedKFold(n_splits=5, shuffle=True, random_state=x_random_state)\n",
        "x_rscv = x_rscv.split(X, y)"
      ],
      "execution_count": 0,
      "outputs": []
    },
    {
      "cell_type": "code",
      "metadata": {
        "id": "UhSvZBZ1tj_R",
        "colab_type": "code",
        "colab": {}
      },
      "source": [
        "#scorer = make_scorer(f1_score, pos_label='Yes')\n",
        "\n",
        "recall_scorer = make_scorer(recall_score, average='binary', pos_label='Yes')\n",
        "f1_scorer = make_scorer(f1_score, average='binary', pos_label='Yes')"
      ],
      "execution_count": 0,
      "outputs": []
    },
    {
      "cell_type": "code",
      "metadata": {
        "id": "jwLNxvgTtj_Z",
        "colab_type": "code",
        "colab": {}
      },
      "source": [
        "numeric_features = ['n_contacts_campaign', 'days_since_last_contact', 'n_contacts_before']\n",
        "numeric_transformer = Pipeline([\n",
        "    ('scaler', MinMaxScaler()),\n",
        "])\n",
        "\n",
        "categorical_features = ['dateYear', 'dateMonth', 'dateWeekday', 'dateSeason', 'ageGroups', 'marital_status', 'education', 'jobGroup', 'credit_default', 'housing_loan', 'personal_loan', 'communication_type', 'previous_conversion', 'durationGroups']\n",
        "categorical_transformer = Pipeline([\n",
        "    ('onehotencoder', OneHotEncoder(drop='first')),\n",
        "])\n",
        "\n",
        "preprocessor = ColumnTransformer([\n",
        "    ('numeric_transformer', numeric_transformer, numeric_features),\n",
        "    ('categorical_transformer', categorical_transformer, categorical_features)\n",
        "])\n",
        "\n",
        "pipeline = Pipeline([\n",
        "    ('preprocessor', preprocessor),\n",
        "    ('classifier', classifier)\n",
        "])"
      ],
      "execution_count": 0,
      "outputs": []
    },
    {
      "cell_type": "code",
      "metadata": {
        "id": "RglM927Qtj_p",
        "colab_type": "code",
        "colab": {}
      },
      "source": [
        "param_distributions = {\n",
        "                        \"classifier__learning_rate\": uniform.rvs(0.0001, 0.1, size=20),\n",
        "                        \"classifier__gamma\" : uniform.rvs(0, 2, size=20),\n",
        "                        \"classifier__max_depth\": randint.rvs(2, 100, size=20),\n",
        "                        \"classifier__colsample_bytree\": uniform.rvs(0.1, 0.9, size=20),\n",
        "                        \"classifier__subsample\": uniform.rvs(0.1, 0.9, size=20),\n",
        "                        \"classifier__reg_alpha\": uniform.rvs(0, 0.9, size=20),\n",
        "                        \"classifier__reg_lambda\": uniform.rvs(0.0001, 5, size=20),\n",
        "                        \"classifier__min_child_weight\": randint.rvs(1, 7, size=20),\n",
        "                        \"classifier__n_estimators\": randint.rvs(100, 1000, size=20)\n",
        "                      }"
      ],
      "execution_count": 0,
      "outputs": []
    },
    {
      "cell_type": "code",
      "metadata": {
        "id": "h-cGOMygtj_3",
        "colab_type": "code",
        "colab": {}
      },
      "source": [
        "search = RandomizedSearchCV(\n",
        "    pipeline, param_distributions=param_distributions, n_iter=10, scoring={'recall_score': recall_scorer, 'f1_score': f1_scorer, 'AUC': 'roc_auc'}, \n",
        "    n_jobs=-1, cv=x_rscv, random_state=x_random_state, refit='f1_score', return_train_score=True)"
      ],
      "execution_count": 0,
      "outputs": []
    },
    {
      "cell_type": "code",
      "metadata": {
        "id": "osUP_vO-tj_8",
        "colab_type": "code",
        "outputId": "1cbee40d-9fe1-4a75-d265-86f09b6c3a18",
        "colab": {
          "base_uri": "https://localhost:8080/",
          "height": 51
        }
      },
      "source": [
        "search = search.fit(X, y)"
      ],
      "execution_count": 42,
      "outputs": [
        {
          "output_type": "stream",
          "text": [
            "/usr/local/lib/python3.6/dist-packages/joblib/externals/loky/process_executor.py:706: UserWarning: A worker stopped while some jobs were given to the executor. This can be caused by a too short worker timeout or by a memory leak.\n",
            "  \"timeout or by a memory leak.\", UserWarning\n"
          ],
          "name": "stderr"
        }
      ]
    },
    {
      "cell_type": "code",
      "metadata": {
        "id": "isW770lrosok",
        "colab_type": "code",
        "outputId": "c302f776-4a3d-47fc-a43a-a85d6b0f6dad",
        "colab": {
          "base_uri": "https://localhost:8080/",
          "height": 1000
        }
      },
      "source": [
        "search.cv_results_"
      ],
      "execution_count": 43,
      "outputs": [
        {
          "output_type": "execute_result",
          "data": {
            "text/plain": [
              "{'mean_fit_time': array([57.02368641, 75.09090939, 12.17462635, 27.4925436 , 19.7019978 ,\n",
              "        25.34723406, 74.98231544, 35.98817434, 95.08948851, 95.41534362]),\n",
              " 'mean_score_time': array([3.76311588, 4.087818  , 1.24749837, 1.30949817, 1.11925659,\n",
              "        1.29150314, 3.89794402, 2.40161304, 4.55781102, 6.51411872]),\n",
              " 'mean_test_AUC': array([0.96755527, 0.96958996, 0.93117298, 0.96917458, 0.96278616,\n",
              "        0.95282015, 0.97356764, 0.96722055, 0.97219004, 0.97190192]),\n",
              " 'mean_test_f1_score': array([0.86746757, 0.88252104, 0.79465968, 0.87145468, 0.85976997,\n",
              "        0.8383561 , 0.88694172, 0.86847026, 0.88264238, 0.88101644]),\n",
              " 'mean_test_recall_score': array([0.95535322, 0.96276295, 0.87058085, 0.96144427, 0.95208791,\n",
              "        0.94216641, 0.96897959, 0.95962323, 0.96458399, 0.96571429]),\n",
              " 'mean_train_AUC': array([0.98606204, 0.99451696, 0.93542798, 0.99067509, 0.98326353,\n",
              "        0.96572494, 0.99645219, 0.98795368, 0.99499198, 0.99413719]),\n",
              " 'mean_train_f1_score': array([0.90140097, 0.93578791, 0.8001939 , 0.91234885, 0.89165367,\n",
              "        0.85467929, 0.94247772, 0.90576591, 0.93603334, 0.92981542]),\n",
              " 'mean_train_recall_score': array([0.97527473, 0.98879121, 0.87764521, 0.98376766, 0.973281  ,\n",
              "        0.95605965, 0.99207221, 0.98155416, 0.98905808, 0.98861852]),\n",
              " 'param_classifier__colsample_bytree': masked_array(data=[0.5408107059699861, 0.6211257058661556,\n",
              "                    0.11735796666558079, 0.8055965561791285,\n",
              "                    0.5408107059699861, 0.800166314406427,\n",
              "                    0.8469468200627576, 0.514744921722075,\n",
              "                    0.516828258174349, 0.514744921722075],\n",
              "              mask=[False, False, False, False, False, False, False, False,\n",
              "                    False, False],\n",
              "        fill_value='?',\n",
              "             dtype=object),\n",
              " 'param_classifier__gamma': masked_array(data=[1.4880679953340112, 1.6228507908355814,\n",
              "                    1.7473401089275002, 1.2189525271870565,\n",
              "                    1.6228507908355814, 1.2189525271870565,\n",
              "                    0.002383072156743049, 1.3687577966521909,\n",
              "                    1.7473401089275002, 0.6607686043177905],\n",
              "              mask=[False, False, False, False, False, False, False, False,\n",
              "                    False, False],\n",
              "        fill_value='?',\n",
              "             dtype=object),\n",
              " 'param_classifier__learning_rate': masked_array(data=[0.01033639507066545, 0.09695014053494251,\n",
              "                    0.04433972508227151, 0.04594175622804578,\n",
              "                    0.09262890593473978, 0.021555369628153253,\n",
              "                    0.029593473669905147, 0.033321051091457644,\n",
              "                    0.09137519067863324, 0.029593473669905147],\n",
              "              mask=[False, False, False, False, False, False, False, False,\n",
              "                    False, False],\n",
              "        fill_value='?',\n",
              "             dtype=object),\n",
              " 'param_classifier__max_depth': masked_array(data=[98, 60, 52, 76, 76, 39, 38, 80, 17, 90],\n",
              "              mask=[False, False, False, False, False, False, False, False,\n",
              "                    False, False],\n",
              "        fill_value='?',\n",
              "             dtype=object),\n",
              " 'param_classifier__min_child_weight': masked_array(data=[1, 5, 1, 1, 1, 5, 6, 5, 1, 4],\n",
              "              mask=[False, False, False, False, False, False, False, False,\n",
              "                    False, False],\n",
              "        fill_value='?',\n",
              "             dtype=object),\n",
              " 'param_classifier__n_estimators': masked_array(data=[451, 797, 691, 175, 187, 244, 512, 345, 939, 983],\n",
              "              mask=[False, False, False, False, False, False, False, False,\n",
              "                    False, False],\n",
              "        fill_value='?',\n",
              "             dtype=object),\n",
              " 'param_classifier__reg_alpha': masked_array(data=[0.7733415251260195, 0.27574502097179393,\n",
              "                    0.7324140789038845, 0.528649155251346,\n",
              "                    0.7733415251260195, 0.7885938078148046,\n",
              "                    0.3399829273427481, 0.528649155251346,\n",
              "                    0.3399829273427481, 0.6277292239366142],\n",
              "              mask=[False, False, False, False, False, False, False, False,\n",
              "                    False, False],\n",
              "        fill_value='?',\n",
              "             dtype=object),\n",
              " 'param_classifier__reg_lambda': masked_array(data=[0.08138560584364897, 1.521442576037098,\n",
              "                    1.521442576037098, 1.2780595720793102,\n",
              "                    2.235123299139907, 1.521442576037098,\n",
              "                    0.2645731327233024, 0.16017956333021155,\n",
              "                    4.477761983315267, 4.34748141399194],\n",
              "              mask=[False, False, False, False, False, False, False, False,\n",
              "                    False, False],\n",
              "        fill_value='?',\n",
              "             dtype=object),\n",
              " 'param_classifier__subsample': masked_array(data=[0.7104204041488793, 0.44766699738708515,\n",
              "                    0.9739383448637661, 0.44766699738708515,\n",
              "                    0.4100940115958477, 0.39246412144798215,\n",
              "                    0.8755273467670057, 0.8676743468467674,\n",
              "                    0.7104204041488793, 0.8755273467670057],\n",
              "              mask=[False, False, False, False, False, False, False, False,\n",
              "                    False, False],\n",
              "        fill_value='?',\n",
              "             dtype=object),\n",
              " 'params': [{'classifier__colsample_bytree': 0.5408107059699861,\n",
              "   'classifier__gamma': 1.4880679953340112,\n",
              "   'classifier__learning_rate': 0.01033639507066545,\n",
              "   'classifier__max_depth': 98,\n",
              "   'classifier__min_child_weight': 1,\n",
              "   'classifier__n_estimators': 451,\n",
              "   'classifier__reg_alpha': 0.7733415251260195,\n",
              "   'classifier__reg_lambda': 0.08138560584364897,\n",
              "   'classifier__subsample': 0.7104204041488793},\n",
              "  {'classifier__colsample_bytree': 0.6211257058661556,\n",
              "   'classifier__gamma': 1.6228507908355814,\n",
              "   'classifier__learning_rate': 0.09695014053494251,\n",
              "   'classifier__max_depth': 60,\n",
              "   'classifier__min_child_weight': 5,\n",
              "   'classifier__n_estimators': 797,\n",
              "   'classifier__reg_alpha': 0.27574502097179393,\n",
              "   'classifier__reg_lambda': 1.521442576037098,\n",
              "   'classifier__subsample': 0.44766699738708515},\n",
              "  {'classifier__colsample_bytree': 0.11735796666558079,\n",
              "   'classifier__gamma': 1.7473401089275002,\n",
              "   'classifier__learning_rate': 0.04433972508227151,\n",
              "   'classifier__max_depth': 52,\n",
              "   'classifier__min_child_weight': 1,\n",
              "   'classifier__n_estimators': 691,\n",
              "   'classifier__reg_alpha': 0.7324140789038845,\n",
              "   'classifier__reg_lambda': 1.521442576037098,\n",
              "   'classifier__subsample': 0.9739383448637661},\n",
              "  {'classifier__colsample_bytree': 0.8055965561791285,\n",
              "   'classifier__gamma': 1.2189525271870565,\n",
              "   'classifier__learning_rate': 0.04594175622804578,\n",
              "   'classifier__max_depth': 76,\n",
              "   'classifier__min_child_weight': 1,\n",
              "   'classifier__n_estimators': 175,\n",
              "   'classifier__reg_alpha': 0.528649155251346,\n",
              "   'classifier__reg_lambda': 1.2780595720793102,\n",
              "   'classifier__subsample': 0.44766699738708515},\n",
              "  {'classifier__colsample_bytree': 0.5408107059699861,\n",
              "   'classifier__gamma': 1.6228507908355814,\n",
              "   'classifier__learning_rate': 0.09262890593473978,\n",
              "   'classifier__max_depth': 76,\n",
              "   'classifier__min_child_weight': 1,\n",
              "   'classifier__n_estimators': 187,\n",
              "   'classifier__reg_alpha': 0.7733415251260195,\n",
              "   'classifier__reg_lambda': 2.235123299139907,\n",
              "   'classifier__subsample': 0.4100940115958477},\n",
              "  {'classifier__colsample_bytree': 0.800166314406427,\n",
              "   'classifier__gamma': 1.2189525271870565,\n",
              "   'classifier__learning_rate': 0.021555369628153253,\n",
              "   'classifier__max_depth': 39,\n",
              "   'classifier__min_child_weight': 5,\n",
              "   'classifier__n_estimators': 244,\n",
              "   'classifier__reg_alpha': 0.7885938078148046,\n",
              "   'classifier__reg_lambda': 1.521442576037098,\n",
              "   'classifier__subsample': 0.39246412144798215},\n",
              "  {'classifier__colsample_bytree': 0.8469468200627576,\n",
              "   'classifier__gamma': 0.002383072156743049,\n",
              "   'classifier__learning_rate': 0.029593473669905147,\n",
              "   'classifier__max_depth': 38,\n",
              "   'classifier__min_child_weight': 6,\n",
              "   'classifier__n_estimators': 512,\n",
              "   'classifier__reg_alpha': 0.3399829273427481,\n",
              "   'classifier__reg_lambda': 0.2645731327233024,\n",
              "   'classifier__subsample': 0.8755273467670057},\n",
              "  {'classifier__colsample_bytree': 0.514744921722075,\n",
              "   'classifier__gamma': 1.3687577966521909,\n",
              "   'classifier__learning_rate': 0.033321051091457644,\n",
              "   'classifier__max_depth': 80,\n",
              "   'classifier__min_child_weight': 5,\n",
              "   'classifier__n_estimators': 345,\n",
              "   'classifier__reg_alpha': 0.528649155251346,\n",
              "   'classifier__reg_lambda': 0.16017956333021155,\n",
              "   'classifier__subsample': 0.8676743468467674},\n",
              "  {'classifier__colsample_bytree': 0.516828258174349,\n",
              "   'classifier__gamma': 1.7473401089275002,\n",
              "   'classifier__learning_rate': 0.09137519067863324,\n",
              "   'classifier__max_depth': 17,\n",
              "   'classifier__min_child_weight': 1,\n",
              "   'classifier__n_estimators': 939,\n",
              "   'classifier__reg_alpha': 0.3399829273427481,\n",
              "   'classifier__reg_lambda': 4.477761983315267,\n",
              "   'classifier__subsample': 0.7104204041488793},\n",
              "  {'classifier__colsample_bytree': 0.514744921722075,\n",
              "   'classifier__gamma': 0.6607686043177905,\n",
              "   'classifier__learning_rate': 0.029593473669905147,\n",
              "   'classifier__max_depth': 90,\n",
              "   'classifier__min_child_weight': 4,\n",
              "   'classifier__n_estimators': 983,\n",
              "   'classifier__reg_alpha': 0.6277292239366142,\n",
              "   'classifier__reg_lambda': 4.34748141399194,\n",
              "   'classifier__subsample': 0.8755273467670057}],\n",
              " 'rank_test_AUC': array([ 6,  4, 10,  5,  8,  9,  1,  7,  2,  3], dtype=int32),\n",
              " 'rank_test_f1_score': array([ 7,  3, 10,  5,  8,  9,  1,  6,  2,  4], dtype=int32),\n",
              " 'rank_test_recall_score': array([ 7,  4, 10,  5,  8,  9,  1,  6,  3,  2], dtype=int32),\n",
              " 'split0_test_AUC': array([0.96678878, 0.96827081, 0.93063636, 0.96848718, 0.96186976,\n",
              "        0.95242313, 0.9728517 , 0.96676546, 0.97157276, 0.97112042]),\n",
              " 'split0_test_f1_score': array([0.86885714, 0.8830156 , 0.79684135, 0.87204332, 0.86050468,\n",
              "        0.83642967, 0.88888889, 0.86690391, 0.88417712, 0.88253877]),\n",
              " 'split0_test_recall_score': array([0.95478807, 0.95981162, 0.87127159, 0.96075353, 0.95290424,\n",
              "        0.9400314 , 0.96703297, 0.95604396, 0.96232339, 0.96483516]),\n",
              " 'split0_train_AUC': array([0.9861214 , 0.9944468 , 0.9354715 , 0.99054663, 0.98307456,\n",
              "        0.96597989, 0.99635354, 0.98810147, 0.99500064, 0.99407756]),\n",
              " 'split0_train_f1_score': array([0.90105981, 0.93515181, 0.80074435, 0.9104    , 0.89072669,\n",
              "        0.85393969, 0.94236655, 0.90472395, 0.9358541 , 0.92909842]),\n",
              " 'split0_train_recall_score': array([0.97433281, 0.98759812, 0.87817896, 0.98257457, 0.9722135 ,\n",
              "        0.95361068, 0.99081633, 0.98014129, 0.988854  , 0.98846154]),\n",
              " 'split1_test_AUC': array([0.9692192 , 0.9701343 , 0.93202112, 0.96930354, 0.96279887,\n",
              "        0.9540324 , 0.97358494, 0.96827302, 0.97256455, 0.97236442]),\n",
              " 'split1_test_f1_score': array([0.86458924, 0.87888777, 0.79566828, 0.86857792, 0.85795053,\n",
              "        0.84011668, 0.88545246, 0.86842105, 0.88058419, 0.87946301]),\n",
              " 'split1_test_recall_score': array([0.95824176, 0.96263736, 0.87660911, 0.96075353, 0.95290424,\n",
              "        0.94945055, 0.97080063, 0.96357928, 0.96546311, 0.966719  ]),\n",
              " 'split1_train_AUC': array([0.98611173, 0.99439308, 0.93518875, 0.9904987 , 0.98308012,\n",
              "        0.96575083, 0.99646648, 0.98834354, 0.9950568 , 0.99423817]),\n",
              " 'split1_train_f1_score': array([0.90122875, 0.93530197, 0.79813553, 0.91104886, 0.89130904,\n",
              "        0.85369015, 0.94145251, 0.9076806 , 0.93612597, 0.9303321 ]),\n",
              " 'split1_train_recall_score': array([0.97582418, 0.98948195, 0.87362637, 0.98281005, 0.97323391,\n",
              "        0.95651491, 0.99207221, 0.98281005, 0.98932496, 0.98948195]),\n",
              " 'split2_test_AUC': array([0.96566883, 0.96902221, 0.92675828, 0.96814214, 0.96190093,\n",
              "        0.9502484 , 0.97352558, 0.96622014, 0.97182841, 0.9718145 ]),\n",
              " 'split2_test_f1_score': array([0.8633833 , 0.87897539, 0.78832117, 0.86633452, 0.85564528,\n",
              "        0.83149518, 0.88508557, 0.86432018, 0.87792282, 0.87718294]),\n",
              " 'split2_test_recall_score': array([0.94945055, 0.9588697 , 0.86467818, 0.95541601, 0.94819466,\n",
              "        0.93500785, 0.96609105, 0.95604396, 0.96075353, 0.96200942]),\n",
              " 'split2_train_AUC': array([0.98598804, 0.99459567, 0.93624805, 0.99084385, 0.98311937,\n",
              "        0.96564112, 0.99645914, 0.9877735 , 0.99499524, 0.99406463]),\n",
              " 'split2_train_f1_score': array([0.90224528, 0.93677285, 0.80224695, 0.91261429, 0.89182001,\n",
              "        0.8552387 , 0.94229909, 0.90527535, 0.93614176, 0.93006425]),\n",
              " 'split2_train_recall_score': array([0.97621664, 0.98908948, 0.8799843 , 0.983281  , 0.97386185,\n",
              "        0.95690738, 0.99215071, 0.98194662, 0.98901099, 0.98854003]),\n",
              " 'split3_test_AUC': array([0.9674645 , 0.97058904, 0.93198293, 0.9703443 , 0.96387238,\n",
              "        0.95365136, 0.97467664, 0.96755824, 0.97294159, 0.97257298]),\n",
              " 'split3_test_f1_score': array([0.8702464 , 0.8870389 , 0.79378775, 0.87668895, 0.863907  ,\n",
              "        0.84085178, 0.88901618, 0.87185322, 0.88767596, 0.88456587]),\n",
              " 'split3_test_recall_score': array([0.95918367, 0.97017268, 0.86656201, 0.96766091, 0.9566719 ,\n",
              "        0.9422292 , 0.97456829, 0.96232339, 0.97017268, 0.97080063]),\n",
              " 'split3_train_AUC': array([0.98589857, 0.99456146, 0.9352521 , 0.99084124, 0.98345221,\n",
              "        0.96532867, 0.99651342, 0.98769407, 0.99497652, 0.99412826]),\n",
              " 'split3_train_f1_score': array([0.90085191, 0.93591743, 0.79989982, 0.91372221, 0.89264113,\n",
              "        0.85383644, 0.94309246, 0.90506031, 0.93604846, 0.92967942]),\n",
              " 'split3_train_recall_score': array([0.97527473, 0.98932496, 0.87747253, 0.98547881, 0.97307692,\n",
              "        0.955573  , 0.99317111, 0.98061224, 0.98861852, 0.98791209]),\n",
              " 'split4_test_AUC': array([0.96863505, 0.96993346, 0.93446621, 0.96959571, 0.96348884,\n",
              "        0.95374546, 0.97319936, 0.96728586, 0.97204287, 0.97163725]),\n",
              " 'split4_test_f1_score': array([0.87026177, 0.88468755, 0.79867987, 0.87362872, 0.86084234,\n",
              "        0.84288718, 0.88626548, 0.87085291, 0.8828518 , 0.88133161]),\n",
              " 'split4_test_recall_score': array([0.95510204, 0.96232339, 0.87378336, 0.96263736, 0.94976452,\n",
              "        0.94411303, 0.96640502, 0.96012559, 0.96420722, 0.96420722]),\n",
              " 'split4_train_AUC': array([0.98619045, 0.99458778, 0.93497948, 0.990645  , 0.9835914 ,\n",
              "        0.9659242 , 0.99646839, 0.98785581, 0.99493071, 0.99417734]),\n",
              " 'split4_train_f1_score': array([0.90161911, 0.9357955 , 0.79994285, 0.91395891, 0.89177147,\n",
              "        0.85669148, 0.943178  , 0.90608935, 0.93599644, 0.92990292]),\n",
              " 'split4_train_recall_score': array([0.97472527, 0.98846154, 0.87896389, 0.98469388, 0.97401884,\n",
              "        0.95769231, 0.99215071, 0.9822606 , 0.98948195, 0.98869702]),\n",
              " 'std_fit_time': array([0.31540665, 0.56357822, 0.03866421, 0.10015768, 0.12679848,\n",
              "        0.092358  , 0.69835469, 0.3723377 , 0.39565328, 0.49369597]),\n",
              " 'std_score_time': array([0.05504326, 0.04187791, 0.04578508, 0.0656471 , 0.00856448,\n",
              "        0.04361492, 0.07014743, 0.02580566, 0.12194223, 0.38170923]),\n",
              " 'std_test_AUC': array([0.00127193, 0.00083366, 0.00252975, 0.00078749, 0.00081206,\n",
              "        0.00139915, 0.00061321, 0.0006977 , 0.00049771, 0.00052013]),\n",
              " 'std_test_f1_score': array([0.00291295, 0.00319755, 0.00354615, 0.00365957, 0.00279744,\n",
              "        0.00401602, 0.00168614, 0.00271295, 0.00329383, 0.00253473]),\n",
              " 'std_test_recall_score': array([0.00341292, 0.00397444, 0.00442867, 0.00393355, 0.00292921,\n",
              "        0.00474669, 0.00326531, 0.00312461, 0.00322276, 0.00295467]),\n",
              " 'std_train_AUC': array([1.04576487e-04, 8.18051345e-05, 4.39025789e-04, 1.44639097e-04,\n",
              "        2.15976561e-04, 2.32135447e-04, 5.29056212e-05, 2.38022644e-04,\n",
              "        4.06940417e-05, 6.43579575e-05]),\n",
              " 'std_train_f1_score': array([0.00049152, 0.00057056, 0.0013345 , 0.00141682, 0.00063161,\n",
              "        0.00114871, 0.00062668, 0.00105781, 0.00010397, 0.00041692]),\n",
              " 'std_train_recall_score': array([0.00068967, 0.00069038, 0.00217605, 0.00112812, 0.00064268,\n",
              "        0.00140184, 0.00074795, 0.00101131, 0.0003124 , 0.00050626])}"
            ]
          },
          "metadata": {
            "tags": []
          },
          "execution_count": 43
        }
      ]
    },
    {
      "cell_type": "code",
      "metadata": {
        "id": "gD1RC9osIEE6",
        "colab_type": "code",
        "outputId": "5fc430c5-f35d-4365-ecd9-df987ec099c6",
        "colab": {
          "base_uri": "https://localhost:8080/",
          "height": 54
        }
      },
      "source": [
        "f'Optimal parameters: {search.best_params_}'"
      ],
      "execution_count": 44,
      "outputs": [
        {
          "output_type": "execute_result",
          "data": {
            "text/plain": [
              "\"Optimal parameters: {'classifier__subsample': 0.8755273467670057, 'classifier__reg_lambda': 0.2645731327233024, 'classifier__reg_alpha': 0.3399829273427481, 'classifier__n_estimators': 512, 'classifier__min_child_weight': 6, 'classifier__max_depth': 38, 'classifier__learning_rate': 0.029593473669905147, 'classifier__gamma': 0.002383072156743049, 'classifier__colsample_bytree': 0.8469468200627576}\""
            ]
          },
          "metadata": {
            "tags": []
          },
          "execution_count": 44
        }
      ]
    },
    {
      "cell_type": "markdown",
      "metadata": {
        "id": "uTxta8l6tkAB",
        "colab_type": "text"
      },
      "source": [
        "## Evaluation"
      ]
    },
    {
      "cell_type": "code",
      "metadata": {
        "id": "l_G8-du6tkAC",
        "colab_type": "code",
        "colab": {}
      },
      "source": [
        "training_score = search.cv_results_['mean_train_f1_score'][search.best_index_] * 100\n",
        "test_score = search.cv_results_['mean_test_f1_score'][search.best_index_] * 100"
      ],
      "execution_count": 0,
      "outputs": []
    },
    {
      "cell_type": "code",
      "metadata": {
        "id": "9d_TYdu0tkAG",
        "colab_type": "code",
        "outputId": "8765edb8-608f-4d84-ff97-2a68d1a47ae7",
        "colab": {
          "base_uri": "https://localhost:8080/",
          "height": 34
        }
      },
      "source": [
        "f'Mean F1 Score (Training/Test): {training_score:.2f}%/{test_score:.2f}%'"
      ],
      "execution_count": 46,
      "outputs": [
        {
          "output_type": "execute_result",
          "data": {
            "text/plain": [
              "'Mean F1 Score (Training/Test): 94.25%/88.69%'"
            ]
          },
          "metadata": {
            "tags": []
          },
          "execution_count": 46
        }
      ]
    },
    {
      "cell_type": "code",
      "metadata": {
        "colab_type": "code",
        "id": "EanpXjF-wdD2",
        "colab": {}
      },
      "source": [
        "training_score = search.cv_results_['mean_train_recall_score'][search.best_index_] * 100\n",
        "test_score = search.cv_results_['mean_test_recall_score'][search.best_index_] * 100"
      ],
      "execution_count": 0,
      "outputs": []
    },
    {
      "cell_type": "code",
      "metadata": {
        "colab_type": "code",
        "id": "3lLys1r-wj7y",
        "outputId": "8601ac83-aaf4-4be9-b102-86ee7422e101",
        "colab": {
          "base_uri": "https://localhost:8080/",
          "height": 34
        }
      },
      "source": [
        "f'Mean Recall Score (Training/Test): {training_score:.2f}%/{test_score:.2f}%'"
      ],
      "execution_count": 48,
      "outputs": [
        {
          "output_type": "execute_result",
          "data": {
            "text/plain": [
              "'Mean Recall Score (Training/Test): 99.21%/96.90%'"
            ]
          },
          "metadata": {
            "tags": []
          },
          "execution_count": 48
        }
      ]
    },
    {
      "cell_type": "code",
      "metadata": {
        "colab_type": "code",
        "id": "WIA6UslLwfvj",
        "colab": {}
      },
      "source": [
        "training_score = search.cv_results_['mean_train_AUC'][search.best_index_] * 100\n",
        "test_score = search.cv_results_['mean_test_AUC'][search.best_index_] * 100"
      ],
      "execution_count": 0,
      "outputs": []
    },
    {
      "cell_type": "code",
      "metadata": {
        "colab_type": "code",
        "id": "-sV46V4ewmZV",
        "outputId": "f52dc9fa-cb48-4e89-a5ee-700aebba6af8",
        "colab": {
          "base_uri": "https://localhost:8080/",
          "height": 34
        }
      },
      "source": [
        "f'Mean AUC Score (Training/Test): {training_score:.2f}%/{test_score:.2f}%'"
      ],
      "execution_count": 50,
      "outputs": [
        {
          "output_type": "execute_result",
          "data": {
            "text/plain": [
              "'Mean AUC Score (Training/Test): 99.65%/97.36%'"
            ]
          },
          "metadata": {
            "tags": []
          },
          "execution_count": 50
        }
      ]
    },
    {
      "cell_type": "code",
      "metadata": {
        "id": "aWgC5RlCw21G",
        "colab_type": "code",
        "outputId": "0578948b-0fef-415b-a289-b23993ef60dd",
        "colab": {
          "base_uri": "https://localhost:8080/",
          "height": 34
        }
      },
      "source": [
        "mean_fit_time = search.cv_results_['mean_fit_time'][search.best_index_]\n",
        "mean_score_time = search.cv_results_['mean_score_time'][search.best_index_]\n",
        "f'Mean mean_fit_time / mean_score_time: {mean_fit_time:.2f}/{mean_score_time:.2f}'"
      ],
      "execution_count": 51,
      "outputs": [
        {
          "output_type": "execute_result",
          "data": {
            "text/plain": [
              "'Mean mean_fit_time / mean_score_time: 74.98/3.90'"
            ]
          },
          "metadata": {
            "tags": []
          },
          "execution_count": 51
        }
      ]
    },
    {
      "cell_type": "markdown",
      "metadata": {
        "id": "ejCp1lI-9h9c",
        "colab_type": "text"
      },
      "source": [
        "## Log Datei füttern"
      ]
    },
    {
      "cell_type": "code",
      "metadata": {
        "id": "OEWS-tsj9hhp",
        "colab_type": "code",
        "outputId": "e729b1ea-5de3-4952-b577-9fce12467a8c",
        "colab": {
          "base_uri": "https://localhost:8080/",
          "height": 231
        }
      },
      "source": [
        "# datetime;alpha;lambda;random_state;n_estimators_min;n_estimators_max;max_depth_min;x_max_depth_max;best_n_estimators;best_max_depth;best_learning_rate;f1_training;f1_test;std_train_score;std_test_score\n",
        "\n",
        "logData = [[datetime.now()\n",
        "            ,search.best_params_['classifier__learning_rate']\n",
        "            ,search.best_params_['classifier__gamma']\n",
        "            ,search.best_params_['classifier__max_depth']\n",
        "            ,search.best_params_['classifier__colsample_bytree']\n",
        "            ,search.best_params_['classifier__subsample']\n",
        "            ,search.best_params_['classifier__reg_alpha']\n",
        "            ,search.best_params_['classifier__reg_lambda']\n",
        "            ,search.best_params_['classifier__min_child_weight']\n",
        "            ,search.best_params_['classifier__n_estimators']\n",
        "            ,training_score\n",
        "            ,test_score\n",
        "            ,search.cv_results_['std_train_score'][search.best_index_]\n",
        "            ,search.cv_results_['std_test_score'][search.best_index_]]]\n",
        "with open('log2.csv', 'a') as csvfile:\n",
        "  writer = csv.writer(csvfile, delimiter=';')\n",
        "  writer.writerows(logData)"
      ],
      "execution_count": 52,
      "outputs": [
        {
          "output_type": "error",
          "ename": "KeyError",
          "evalue": "ignored",
          "traceback": [
            "\u001b[0;31m---------------------------------------------------------------------------\u001b[0m",
            "\u001b[0;31mKeyError\u001b[0m                                  Traceback (most recent call last)",
            "\u001b[0;32m<ipython-input-52-a6eb8f3b5058>\u001b[0m in \u001b[0;36m<module>\u001b[0;34m()\u001b[0m\n\u001b[1;32m     12\u001b[0m             \u001b[0;34m,\u001b[0m\u001b[0mtraining_score\u001b[0m\u001b[0;34m\u001b[0m\u001b[0;34m\u001b[0m\u001b[0m\n\u001b[1;32m     13\u001b[0m             \u001b[0;34m,\u001b[0m\u001b[0mtest_score\u001b[0m\u001b[0;34m\u001b[0m\u001b[0;34m\u001b[0m\u001b[0m\n\u001b[0;32m---> 14\u001b[0;31m             \u001b[0;34m,\u001b[0m\u001b[0msearch\u001b[0m\u001b[0;34m.\u001b[0m\u001b[0mcv_results_\u001b[0m\u001b[0;34m[\u001b[0m\u001b[0;34m'std_train_score'\u001b[0m\u001b[0;34m]\u001b[0m\u001b[0;34m[\u001b[0m\u001b[0msearch\u001b[0m\u001b[0;34m.\u001b[0m\u001b[0mbest_index_\u001b[0m\u001b[0;34m]\u001b[0m\u001b[0;34m\u001b[0m\u001b[0;34m\u001b[0m\u001b[0m\n\u001b[0m\u001b[1;32m     15\u001b[0m             ,search.cv_results_['std_test_score'][search.best_index_]]]\n\u001b[1;32m     16\u001b[0m \u001b[0;32mwith\u001b[0m \u001b[0mopen\u001b[0m\u001b[0;34m(\u001b[0m\u001b[0;34m'log2.csv'\u001b[0m\u001b[0;34m,\u001b[0m \u001b[0;34m'a'\u001b[0m\u001b[0;34m)\u001b[0m \u001b[0;32mas\u001b[0m \u001b[0mcsvfile\u001b[0m\u001b[0;34m:\u001b[0m\u001b[0;34m\u001b[0m\u001b[0;34m\u001b[0m\u001b[0m\n",
            "\u001b[0;31mKeyError\u001b[0m: 'std_train_score'"
          ]
        }
      ]
    },
    {
      "cell_type": "markdown",
      "metadata": {
        "id": "ce1oD7CDtkAO",
        "colab_type": "text"
      },
      "source": [
        "## Prediction"
      ]
    },
    {
      "cell_type": "code",
      "metadata": {
        "id": "njPYhiz5tkAS",
        "colab_type": "code",
        "colab": {}
      },
      "source": [
        "sys.exit()\n",
        "predictions = search.best_estimator_.predict(prediction_dataset)"
      ],
      "execution_count": 0,
      "outputs": []
    },
    {
      "cell_type": "markdown",
      "metadata": {
        "id": "y6H61WM5tkAZ",
        "colab_type": "text"
      },
      "source": [
        "## Submission Dataset Preparation\n",
        "\n",
        "Your upload to the Online-Campus should contain your written report (the actual seminar paper), this notebook as file as well as the generated submission dataset with your predictions."
      ]
    },
    {
      "cell_type": "code",
      "metadata": {
        "id": "PwJtq1XltkAb",
        "colab_type": "code",
        "colab": {}
      },
      "source": [
        "submission = pd.DataFrame(\n",
        "    predictions, index=prediction_dataset.index, columns=['prediction'])"
      ],
      "execution_count": 0,
      "outputs": []
    },
    {
      "cell_type": "code",
      "metadata": {
        "id": "0PFaGgAjtkAh",
        "colab_type": "code",
        "colab": {}
      },
      "source": [
        "matriculation_number = '12345678'"
      ],
      "execution_count": 0,
      "outputs": []
    },
    {
      "cell_type": "code",
      "metadata": {
        "id": "i4Rd5zVutkAm",
        "colab_type": "code",
        "colab": {}
      },
      "source": [
        "submission.to_csv(\n",
        "    f'./submission-{matriculation_number}.csv', index_label='identifier')"
      ],
      "execution_count": 0,
      "outputs": []
    },
    {
      "cell_type": "markdown",
      "metadata": {
        "id": "16tuFXaYwPmR",
        "colab_type": "text"
      },
      "source": [
        "# Nützliche Links\n",
        "* XGboost Implementation: [https://www.datacamp.com/community/tutorials/xgboost-in-python](https://www.datacamp.com/community/tutorials/xgboost-in-python)\n",
        "* XGBoost Parameter List: [https://xgboost.readthedocs.io/en/latest/parameter.html](https://xgboost.readthedocs.io/en/latest/parameter.html)\n",
        "* XGBoost Tuning Parameters: [https://kehuiyao.github.io/2019/03/21/xgboost-tuning-parameters/](https://kehuiyao.github.io/2019/03/21/xgboost-tuning-parameters/)"
      ]
    }
  ]
}