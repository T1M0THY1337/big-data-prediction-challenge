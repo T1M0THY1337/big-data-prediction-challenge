{
  "nbformat": 4,
  "nbformat_minor": 0,
  "metadata": {
    "kernelspec": {
      "name": "python3",
      "display_name": "Python 3"
    },
    "language_info": {
      "codemirror_mode": {
        "name": "ipython",
        "version": 3
      },
      "file_extension": ".py",
      "mimetype": "text/x-python",
      "name": "python",
      "nbconvert_exporter": "python",
      "pygments_lexer": "ipython3",
      "version": "3.7.4"
    },
    "colab": {
      "name": "prediction_challenge_solution-version_4-resample.ipynb",
      "provenance": [],
      "collapsed_sections": [
        "lEtpbsTkxEaV"
      ],
      "include_colab_link": true
    },
    "accelerator": "GPU"
  },
  "cells": [
    {
      "cell_type": "markdown",
      "metadata": {
        "id": "view-in-github",
        "colab_type": "text"
      },
      "source": [
        "<a href=\"https://colab.research.google.com/github/T1M0THY1337/big-data-prediction-challenge/blob/master/prediction_challenge_solution_version_4_resample.ipynb\" target=\"_parent\"><img src=\"https://colab.research.google.com/assets/colab-badge.svg\" alt=\"Open In Colab\"/></a>"
      ]
    },
    {
      "cell_type": "markdown",
      "metadata": {
        "id": "YNapCUQ9tj-C",
        "colab_type": "text"
      },
      "source": [
        "# Prediction Challange by Sebastian and Tim\n",
        "\n",
        "Your job is to predict whether or not a person will become a customer of a bank. The data itself contains basic demographic information about numerous  customers as well as data related to phone-based marketing calls during specific campaigns."
      ]
    },
    {
      "cell_type": "markdown",
      "metadata": {
        "id": "lEtpbsTkxEaV",
        "colab_type": "text"
      },
      "source": [
        "# Header"
      ]
    },
    {
      "cell_type": "markdown",
      "metadata": {
        "id": "T_8CKo6vuiKW",
        "colab_type": "text"
      },
      "source": [
        "## Version 0.1\n",
        "\n",
        "\n",
        "---\n",
        "\n",
        "\n",
        "**2020-01-29** Feature Engineering (Date), Hyperparameter Tuning\\\n",
        "**2020-01-24** Start mit dem Minimum Working Example"
      ]
    },
    {
      "cell_type": "markdown",
      "metadata": {
        "id": "yYyRmTQNtj-F",
        "colab_type": "text"
      },
      "source": [
        "## Data Dictionary\n",
        "\n",
        "<table style=\"width: 100%;\">\n",
        "    <thead>\n",
        "        <tr>\n",
        "            <th style=\"width: 30%; text-align: left;\">Feature</th>\n",
        "            <th style=\"width: 70%; text-align: left;\">Description</th>\n",
        "        </tr>\n",
        "    </thead>\n",
        "    <tbody>\n",
        "        <tr>\n",
        "            <td>date</td>\n",
        "            <td>The last contact date</td>\n",
        "        </tr>\n",
        "        <tr>\n",
        "            <td>age</td>\n",
        "            <td>The age of the customer</td>\n",
        "        </tr>\n",
        "        <tr>\n",
        "            <td>marital_status</td>\n",
        "            <td>The marital status of the customer</td>\n",
        "        </tr>\n",
        "        <tr>\n",
        "            <td>education</td>\n",
        "            <td>The educationan of the customer</td>\n",
        "        </tr>\n",
        "        <tr>\n",
        "            <td>job</td>\n",
        "            <td>The type of job of the customer</td>\n",
        "        </tr>\n",
        "        <tr>\n",
        "            <td>credit_default</td>\n",
        "            <td>Whether or not the customer has a credit in default</td>\n",
        "        </tr>\n",
        "        <tr>\n",
        "            <td>housing_loan</td>\n",
        "            <td>Whether or not the customer has a housing loan</td>\n",
        "        </tr>\n",
        "        <tr>\n",
        "            <td>personal_loan</td>\n",
        "            <td>Whether or not the customer has a personal loan</td>\n",
        "        </tr>\n",
        "        <tr>\n",
        "            <td>communication_type</td>\n",
        "            <td>The type of contact communication</td>\n",
        "        </tr>\n",
        "        <tr>\n",
        "            <td>n_contacts_campaign</td>\n",
        "            <td>The number of contacts performed during this marketing campaign and for this customer</td>\n",
        "        </tr>\n",
        "        <tr>\n",
        "            <td>days_since_last_contact</td>\n",
        "            <td>The number of days passed by after the customer was last contacted from a previous domain</td>\n",
        "        </tr>\n",
        "        <tr>\n",
        "            <td>n_contacts_before</td>\n",
        "            <td>The number of contacts performed before this marketing campaign and for this customer</td>\n",
        "        </tr>\n",
        "        <tr>\n",
        "            <td>previous_conversion</td>\n",
        "            <td>Whether or not the customer has been a customer before</td>\n",
        "        </tr>\n",
        "        <tr>\n",
        "            <td>success</td>\n",
        "            <td>Whether or not the customer became an actual customer (target variable)</td>\n",
        "        </tr>\n",
        "    </tbody>   \n",
        "</table>   "
      ]
    },
    {
      "cell_type": "markdown",
      "metadata": {
        "id": "I-ZH8xKaxLGH",
        "colab_type": "text"
      },
      "source": [
        "# Programming"
      ]
    },
    {
      "cell_type": "markdown",
      "metadata": {
        "id": "GGyVwYL-tj-H",
        "colab_type": "text"
      },
      "source": [
        "## Package Import"
      ]
    },
    {
      "cell_type": "code",
      "metadata": {
        "id": "zNkzZA6xtj-L",
        "colab_type": "code",
        "colab": {}
      },
      "source": [
        "import numpy as np\n",
        "import pandas as pd\n",
        "import xgboost as xgb\n",
        "import sys as sys\n",
        "import csv, datetime\n",
        "from datetime import datetime\n",
        "from scipy.stats import uniform, randint\n",
        "from sklearn.compose import ColumnTransformer\n",
        "from sklearn.metrics import f1_score, make_scorer, roc_auc_score, roc_curve, recall_score, precision_score\n",
        "from sklearn.model_selection import RandomizedSearchCV, cross_validate, StratifiedKFold\n",
        "from sklearn.pipeline import Pipeline\n",
        "from sklearn.preprocessing import MinMaxScaler, LabelEncoder, OneHotEncoder"
      ],
      "execution_count": 0,
      "outputs": []
    },
    {
      "cell_type": "markdown",
      "metadata": {
        "id": "PRXDmV7stj-W",
        "colab_type": "text"
      },
      "source": [
        "## Data Import"
      ]
    },
    {
      "cell_type": "code",
      "metadata": {
        "id": "JL64eb7ztj-Z",
        "colab_type": "code",
        "colab": {}
      },
      "source": [
        "dataset = pd.read_csv(\n",
        "    'https://raw.githubusercontent.com/saschaschworm/big-data-and-data-science/' +\n",
        "    'master/datasets/prediction-challenge/dataset.csv', \n",
        "    index_col='identifier', parse_dates=['date'])\n",
        "\n",
        "prediction_dataset = pd.read_csv(\n",
        "    'https://raw.githubusercontent.com/saschaschworm/big-data-and-data-science/' +\n",
        "    'master/datasets/prediction-challenge/prediction-dataset.csv', \n",
        "    index_col='identifier', parse_dates=['date'])"
      ],
      "execution_count": 0,
      "outputs": []
    },
    {
      "cell_type": "markdown",
      "metadata": {
        "id": "DxVLYLqEtj-v",
        "colab_type": "text"
      },
      "source": [
        "## Feature Engineering"
      ]
    },
    {
      "cell_type": "code",
      "metadata": {
        "id": "-R43QutQtj-x",
        "colab_type": "code",
        "colab": {}
      },
      "source": [
        "# Create some new features based on the given features\n",
        "# or enrich the dataset with features from datasets.\n",
        "# dataset.head(3)"
      ],
      "execution_count": 0,
      "outputs": []
    },
    {
      "cell_type": "code",
      "metadata": {
        "id": "8-qz5y9cTYOB",
        "colab_type": "code",
        "colab": {}
      },
      "source": [
        "def getYear(inDate):\n",
        "  return inDate.year\n",
        "def getMonth(inDate):\n",
        "  return inDate.month\n",
        "def getWeekday(inDate):\n",
        "  return inDate.weekday\n",
        "def getWeekendDay(inDate):\n",
        "  if (inDate.weekday == 'Saturday') or (inDate.weekday == 'Sunday'):\n",
        "    return True\n",
        "  else:\n",
        "    return False\n",
        "def getAgeGroups(inAge):\n",
        "  if (inAge < 28):\n",
        "    return 'young'\n",
        "  elif (49 > inAge > 27):\n",
        "    return 'younger'\n",
        "  elif (61 > inAge > 48):\n",
        "    return 'older'\n",
        "  else:\n",
        "    return 'old'\n",
        "\n",
        "def getDurationGroupsA(inDuration):\n",
        "  if (inDuration < 250):\n",
        "    return 'very_short'\n",
        "  elif (250 < inDuration < 500):\n",
        "    return 'short'\n",
        "  elif (500 < inDuration < 750):\n",
        "    return 'lower_medium'\n",
        "  elif (750 < inDuration < 1000):\n",
        "    return 'medium'\n",
        "  elif (1000 < inDuration < 1250):\n",
        "    return 'higher_medium'\n",
        "  elif (1250 < inDuration < 1500):\n",
        "    return 'long'\n",
        "  elif (1500 < inDuration < 1750):\n",
        "    return 'very_long'\n",
        "  else:\n",
        "    return 'very_big_call'\n",
        "\n",
        "def getDurationGroupsB(inDuration):\n",
        "  if (inDuration < 250):\n",
        "    return 0\n",
        "  elif (250 < inDuration < 500):\n",
        "    return 1\n",
        "  elif (500 < inDuration < 750):\n",
        "    return 2\n",
        "  elif (750 < inDuration < 1000):\n",
        "    return 3\n",
        "  elif (1000 < inDuration < 1250):\n",
        "    return 4\n",
        "  elif (1250 < inDuration < 1500):\n",
        "    return 5\n",
        "  elif (1500 < inDuration < 1750):\n",
        "    return 6\n",
        "  else:\n",
        "    return 7\n",
        "\n",
        "def getSeasons(inMonth):\n",
        "  if(3 < inMonth < 6):\n",
        "    return 'spring'\n",
        "  if(5 < inMonth < 9):\n",
        "    return 'summer'\n",
        "  if(8 < inMonth < 12):\n",
        "    return 'fall'\n",
        "  else:\n",
        "    return 'winter'\n",
        "\n",
        "dataset['date'] = pd.to_datetime(dataset['date'])\n",
        "dataset.insert(1, \"dateYear\", dataset['date'], allow_duplicates=True)\n",
        "dataset.insert(2, \"dateMonth\", dataset['date'], allow_duplicates=True)\n",
        "dataset.insert(3, \"dateWeekday\", dataset['date'], allow_duplicates=True)\n",
        "dataset.insert(4, \"dateWeekendDay\", dataset['date'], allow_duplicates=True)\n",
        "\n",
        "dataset.insert(6, \"ageGroups\", dataset['age'], allow_duplicates=True)\n",
        "dataset.insert(19, \"durationGroups\", dataset['duration'], allow_duplicates=True)\n",
        "\n",
        "# dataset.dateYear = dataset.dateYear.apply(getYear)\n",
        "# dataset.dateMonth = dataset.dateMonth.apply(getMonth)\n",
        "\n",
        "dataset.dateYear = dataset['dateYear'].dt.year\n",
        "dataset.dateMonth = dataset['dateMonth'].dt.month\n",
        "dataset.dateWeekday = dataset['dateWeekday'].dt.weekday_name\n",
        "dataset.dateWeekendDay = dataset.dateWeekendDay.apply(getWeekendDay)\n",
        "dataset.ageGroups = dataset.ageGroups.apply(getAgeGroups)\n",
        "dataset.durationGroups = dataset.durationGroups.apply(getDurationGroupsA)\n",
        "\n",
        "dataset.insert(5, \"dateSeason\", dataset['dateMonth'], allow_duplicates=True)\n",
        "dataset.dateSeason = dataset.dateSeason.apply(getSeasons)"
      ],
      "execution_count": 0,
      "outputs": []
    },
    {
      "cell_type": "code",
      "metadata": {
        "id": "eHYEOvZ4peLZ",
        "colab_type": "code",
        "colab": {
          "base_uri": "https://localhost:8080/",
          "height": 292
        },
        "outputId": "8d840da0-5eb1-4673-a10e-c4ff1bd0bd97"
      },
      "source": [
        "dataset.head(4)"
      ],
      "execution_count": 19,
      "outputs": [
        {
          "output_type": "execute_result",
          "data": {
            "text/html": [
              "<div>\n",
              "<style scoped>\n",
              "    .dataframe tbody tr th:only-of-type {\n",
              "        vertical-align: middle;\n",
              "    }\n",
              "\n",
              "    .dataframe tbody tr th {\n",
              "        vertical-align: top;\n",
              "    }\n",
              "\n",
              "    .dataframe thead th {\n",
              "        text-align: right;\n",
              "    }\n",
              "</style>\n",
              "<table border=\"1\" class=\"dataframe\">\n",
              "  <thead>\n",
              "    <tr style=\"text-align: right;\">\n",
              "      <th></th>\n",
              "      <th>date</th>\n",
              "      <th>dateYear</th>\n",
              "      <th>dateMonth</th>\n",
              "      <th>dateWeekday</th>\n",
              "      <th>dateWeekendDay</th>\n",
              "      <th>dateSeason</th>\n",
              "      <th>age</th>\n",
              "      <th>ageGroups</th>\n",
              "      <th>marital_status</th>\n",
              "      <th>education</th>\n",
              "      <th>job</th>\n",
              "      <th>credit_default</th>\n",
              "      <th>housing_loan</th>\n",
              "      <th>personal_loan</th>\n",
              "      <th>communication_type</th>\n",
              "      <th>n_contacts_campaign</th>\n",
              "      <th>days_since_last_contact</th>\n",
              "      <th>n_contacts_before</th>\n",
              "      <th>previous_conversion</th>\n",
              "      <th>duration</th>\n",
              "      <th>durationGroups</th>\n",
              "      <th>success</th>\n",
              "    </tr>\n",
              "    <tr>\n",
              "      <th>identifier</th>\n",
              "      <th></th>\n",
              "      <th></th>\n",
              "      <th></th>\n",
              "      <th></th>\n",
              "      <th></th>\n",
              "      <th></th>\n",
              "      <th></th>\n",
              "      <th></th>\n",
              "      <th></th>\n",
              "      <th></th>\n",
              "      <th></th>\n",
              "      <th></th>\n",
              "      <th></th>\n",
              "      <th></th>\n",
              "      <th></th>\n",
              "      <th></th>\n",
              "      <th></th>\n",
              "      <th></th>\n",
              "      <th></th>\n",
              "      <th></th>\n",
              "      <th></th>\n",
              "      <th></th>\n",
              "    </tr>\n",
              "  </thead>\n",
              "  <tbody>\n",
              "    <tr>\n",
              "      <th>34203</th>\n",
              "      <td>2009-05-06</td>\n",
              "      <td>2009</td>\n",
              "      <td>5</td>\n",
              "      <td>Wednesday</td>\n",
              "      <td>False</td>\n",
              "      <td>spring</td>\n",
              "      <td>36</td>\n",
              "      <td>younger</td>\n",
              "      <td>divorced</td>\n",
              "      <td>High School</td>\n",
              "      <td>Service provider</td>\n",
              "      <td>No</td>\n",
              "      <td>No</td>\n",
              "      <td>Yes</td>\n",
              "      <td>Landline network</td>\n",
              "      <td>5</td>\n",
              "      <td>-1</td>\n",
              "      <td>0</td>\n",
              "      <td>Inexistent</td>\n",
              "      <td>992</td>\n",
              "      <td>medium</td>\n",
              "      <td>No</td>\n",
              "    </tr>\n",
              "    <tr>\n",
              "      <th>1250</th>\n",
              "      <td>2008-05-08</td>\n",
              "      <td>2008</td>\n",
              "      <td>5</td>\n",
              "      <td>Thursday</td>\n",
              "      <td>False</td>\n",
              "      <td>spring</td>\n",
              "      <td>32</td>\n",
              "      <td>younger</td>\n",
              "      <td>single</td>\n",
              "      <td>University</td>\n",
              "      <td>Student</td>\n",
              "      <td>No</td>\n",
              "      <td>Yes</td>\n",
              "      <td>No</td>\n",
              "      <td>Landline network</td>\n",
              "      <td>1</td>\n",
              "      <td>-1</td>\n",
              "      <td>0</td>\n",
              "      <td>Inexistent</td>\n",
              "      <td>147</td>\n",
              "      <td>very_short</td>\n",
              "      <td>No</td>\n",
              "    </tr>\n",
              "    <tr>\n",
              "      <th>38130</th>\n",
              "      <td>2009-09-04</td>\n",
              "      <td>2009</td>\n",
              "      <td>9</td>\n",
              "      <td>Friday</td>\n",
              "      <td>False</td>\n",
              "      <td>fall</td>\n",
              "      <td>68</td>\n",
              "      <td>old</td>\n",
              "      <td>single</td>\n",
              "      <td>University</td>\n",
              "      <td>Pensioner</td>\n",
              "      <td>No</td>\n",
              "      <td>Yes</td>\n",
              "      <td>No</td>\n",
              "      <td>Celluar phone network</td>\n",
              "      <td>1</td>\n",
              "      <td>-1</td>\n",
              "      <td>0</td>\n",
              "      <td>Inexistent</td>\n",
              "      <td>139</td>\n",
              "      <td>very_short</td>\n",
              "      <td>No</td>\n",
              "    </tr>\n",
              "    <tr>\n",
              "      <th>19300</th>\n",
              "      <td>2008-08-06</td>\n",
              "      <td>2008</td>\n",
              "      <td>8</td>\n",
              "      <td>Wednesday</td>\n",
              "      <td>False</td>\n",
              "      <td>summer</td>\n",
              "      <td>39</td>\n",
              "      <td>younger</td>\n",
              "      <td>single</td>\n",
              "      <td>University</td>\n",
              "      <td>Administrator</td>\n",
              "      <td>No</td>\n",
              "      <td>No</td>\n",
              "      <td>No</td>\n",
              "      <td>Celluar phone network</td>\n",
              "      <td>1</td>\n",
              "      <td>-1</td>\n",
              "      <td>0</td>\n",
              "      <td>Inexistent</td>\n",
              "      <td>127</td>\n",
              "      <td>very_short</td>\n",
              "      <td>No</td>\n",
              "    </tr>\n",
              "  </tbody>\n",
              "</table>\n",
              "</div>"
            ],
            "text/plain": [
              "                 date  dateYear  dateMonth  ... duration  durationGroups success\n",
              "identifier                                  ...                                 \n",
              "34203      2009-05-06      2009          5  ...      992          medium      No\n",
              "1250       2008-05-08      2008          5  ...      147      very_short      No\n",
              "38130      2009-09-04      2009          9  ...      139      very_short      No\n",
              "19300      2008-08-06      2008          8  ...      127      very_short      No\n",
              "\n",
              "[4 rows x 22 columns]"
            ]
          },
          "metadata": {
            "tags": []
          },
          "execution_count": 19
        }
      ]
    },
    {
      "cell_type": "markdown",
      "metadata": {
        "id": "bzCHihLktj-6",
        "colab_type": "text"
      },
      "source": [
        "## Model, Pipeline and Scoring Initialization"
      ]
    },
    {
      "cell_type": "code",
      "metadata": {
        "id": "GXtb--5Ytj--",
        "colab_type": "code",
        "colab": {}
      },
      "source": [
        "# dataset[['date', 'age', 'marital_status', 'education', 'job', 'credit_default', 'housing_loan', 'personal_loan', 'communication_type', 'n_contacts_campaign', 'days_since_last_contact', 'n_contacts_before', 'previous_conversion', 'duration']]\n",
        "\n",
        "X = dataset[['dateYear', 'dateMonth', 'dateWeekday', 'dateSeason', 'ageGroups', 'marital_status', 'education', 'job', 'credit_default', 'housing_loan', 'personal_loan', 'communication_type', 'n_contacts_campaign', 'days_since_last_contact', 'n_contacts_before', 'previous_conversion', 'duration', 'durationGroups']]\n",
        "y = dataset['success']"
      ],
      "execution_count": 0,
      "outputs": []
    },
    {
      "cell_type": "markdown",
      "metadata": {
        "id": "70l38BP0xoEh",
        "colab_type": "text"
      },
      "source": [
        "## Handle Imbalanced Dataset\n",
        "with Parameter fpr xgboost: scale_pos_weight"
      ]
    },
    {
      "cell_type": "code",
      "metadata": {
        "id": "UyP6l1bPxmwi",
        "colab_type": "code",
        "colab": {}
      },
      "source": [
        "ratio = float(np.sum(y == \"No\")) / np.sum(y == \"Yes\")\n",
        "ratio\n",
        "\n",
        "x_random_state = 1909"
      ],
      "execution_count": 0,
      "outputs": []
    },
    {
      "cell_type": "code",
      "metadata": {
        "id": "v0f-nV_LS2Lw",
        "colab_type": "code",
        "colab": {}
      },
      "source": [
        "# xgb.XGBClassifier?"
      ],
      "execution_count": 0,
      "outputs": []
    },
    {
      "cell_type": "code",
      "metadata": {
        "id": "AtICuwCbtj_H",
        "colab_type": "code",
        "colab": {}
      },
      "source": [
        "classifier = xgb.XGBClassifier(n_jobs=-1, random_state=x_random_state, objective='binary:logistic', scale_pos_weight=ratio)"
      ],
      "execution_count": 0,
      "outputs": []
    },
    {
      "cell_type": "code",
      "metadata": {
        "id": "6n7P31bISudv",
        "colab_type": "code",
        "colab": {}
      },
      "source": [
        "x_rscv = StratifiedKFold(n_splits=5, shuffle=True, random_state=x_random_state)\n",
        "x_rscv = x_rscv.split(X, y)"
      ],
      "execution_count": 0,
      "outputs": []
    },
    {
      "cell_type": "code",
      "metadata": {
        "id": "UhSvZBZ1tj_R",
        "colab_type": "code",
        "colab": {}
      },
      "source": [
        "#scorer = make_scorer(f1_score, pos_label='Yes')\n",
        "\n",
        "recall_scorer = make_scorer(recall_score, average='binary', pos_label='Yes')\n",
        "f1_scorer = make_scorer(f1_score, average='binary', pos_label='Yes')"
      ],
      "execution_count": 0,
      "outputs": []
    },
    {
      "cell_type": "code",
      "metadata": {
        "id": "jwLNxvgTtj_Z",
        "colab_type": "code",
        "colab": {}
      },
      "source": [
        "numeric_features = ['n_contacts_campaign', 'days_since_last_contact', 'n_contacts_before', 'duration']\n",
        "numeric_transformer = Pipeline([\n",
        "    ('scaler', MinMaxScaler()),\n",
        "])\n",
        "\n",
        "categorical_features = ['dateYear', 'dateMonth', 'dateWeekday', 'ageGroups', 'marital_status', 'education', 'job', 'credit_default', 'housing_loan', 'personal_loan', 'communication_type', 'previous_conversion', 'durationGroups']\n",
        "categorical_transformer = Pipeline([\n",
        "    ('onehotencoder', OneHotEncoder(drop='first')),\n",
        "])\n",
        "\n",
        "preprocessor = ColumnTransformer([\n",
        "    ('numeric_transformer', numeric_transformer, numeric_features),\n",
        "    ('categorical_transformer', categorical_transformer, categorical_features)\n",
        "])\n",
        "\n",
        "pipeline = Pipeline([\n",
        "    ('preprocessor', preprocessor),\n",
        "    ('classifier', classifier)\n",
        "])"
      ],
      "execution_count": 0,
      "outputs": []
    },
    {
      "cell_type": "code",
      "metadata": {
        "id": "RglM927Qtj_p",
        "colab_type": "code",
        "colab": {}
      },
      "source": [
        "param_distributions = {\n",
        "                        \"classifier__learning_rate\": uniform.rvs(0.0001, 0.1, size=20),\n",
        "                        \"classifier__gamma\" : uniform.rvs(0, 2, size=20),\n",
        "                        \"classifier__max_depth\": randint.rvs(2, 100, size=20),\n",
        "                        \"classifier__colsample_bytree\": uniform.rvs(0.1, 0.9, size=20),\n",
        "                        \"classifier__subsample\": uniform.rvs(0.1, 0.9, size=20),\n",
        "                        \"classifier__reg_alpha\": uniform.rvs(0, 0.9, size=20),\n",
        "                        \"classifier__reg_lambda\": uniform.rvs(0.0001, 5, size=20),\n",
        "                        \"classifier__min_child_weight\": randint.rvs(1, 7, size=20),\n",
        "                        \"classifier__n_estimators\": randint.rvs(100, 1000, size=20)\n",
        "                      }"
      ],
      "execution_count": 0,
      "outputs": []
    },
    {
      "cell_type": "code",
      "metadata": {
        "id": "h-cGOMygtj_3",
        "colab_type": "code",
        "colab": {}
      },
      "source": [
        "search = RandomizedSearchCV(\n",
        "    pipeline, param_distributions=param_distributions, n_iter=10, scoring={'recall_score': recall_scorer, 'f1_score': f1_scorer, 'AUC': 'roc_auc'}, \n",
        "    n_jobs=-1, cv=x_rscv, random_state=x_random_state, refit='recall_score', return_train_score=True)"
      ],
      "execution_count": 0,
      "outputs": []
    },
    {
      "cell_type": "code",
      "metadata": {
        "id": "osUP_vO-tj_8",
        "colab_type": "code",
        "colab": {
          "base_uri": "https://localhost:8080/",
          "height": 306
        },
        "outputId": "408ebdc6-0189-417b-f96c-a3e9fa3aa547"
      },
      "source": [
        "search = search.fit(X, y)"
      ],
      "execution_count": 29,
      "outputs": [
        {
          "output_type": "error",
          "ename": "KeyboardInterrupt",
          "evalue": "ignored",
          "traceback": [
            "\u001b[0;31m---------------------------------------------------------------------------\u001b[0m",
            "\u001b[0;31mKeyboardInterrupt\u001b[0m                         Traceback (most recent call last)",
            "\u001b[0;32m<ipython-input-29-58c6bc757411>\u001b[0m in \u001b[0;36m<module>\u001b[0;34m()\u001b[0m\n\u001b[0;32m----> 1\u001b[0;31m \u001b[0msearch\u001b[0m \u001b[0;34m=\u001b[0m \u001b[0msearch\u001b[0m\u001b[0;34m.\u001b[0m\u001b[0mfit\u001b[0m\u001b[0;34m(\u001b[0m\u001b[0mX\u001b[0m\u001b[0;34m,\u001b[0m \u001b[0my\u001b[0m\u001b[0;34m)\u001b[0m\u001b[0;34m\u001b[0m\u001b[0;34m\u001b[0m\u001b[0m\n\u001b[0m",
            "\u001b[0;32m/usr/local/lib/python3.6/dist-packages/sklearn/model_selection/_search.py\u001b[0m in \u001b[0;36mfit\u001b[0;34m(self, X, y, groups, **fit_params)\u001b[0m\n\u001b[1;32m    708\u001b[0m                 \u001b[0;32mreturn\u001b[0m \u001b[0mresults\u001b[0m\u001b[0;34m\u001b[0m\u001b[0;34m\u001b[0m\u001b[0m\n\u001b[1;32m    709\u001b[0m \u001b[0;34m\u001b[0m\u001b[0m\n\u001b[0;32m--> 710\u001b[0;31m             \u001b[0mself\u001b[0m\u001b[0;34m.\u001b[0m\u001b[0m_run_search\u001b[0m\u001b[0;34m(\u001b[0m\u001b[0mevaluate_candidates\u001b[0m\u001b[0;34m)\u001b[0m\u001b[0;34m\u001b[0m\u001b[0;34m\u001b[0m\u001b[0m\n\u001b[0m\u001b[1;32m    711\u001b[0m \u001b[0;34m\u001b[0m\u001b[0m\n\u001b[1;32m    712\u001b[0m         \u001b[0;31m# For multi-metric evaluation, store the best_index_, best_params_ and\u001b[0m\u001b[0;34m\u001b[0m\u001b[0;34m\u001b[0m\u001b[0;34m\u001b[0m\u001b[0m\n",
            "\u001b[0;32m/usr/local/lib/python3.6/dist-packages/sklearn/model_selection/_search.py\u001b[0m in \u001b[0;36m_run_search\u001b[0;34m(self, evaluate_candidates)\u001b[0m\n\u001b[1;32m   1482\u001b[0m         evaluate_candidates(ParameterSampler(\n\u001b[1;32m   1483\u001b[0m             \u001b[0mself\u001b[0m\u001b[0;34m.\u001b[0m\u001b[0mparam_distributions\u001b[0m\u001b[0;34m,\u001b[0m \u001b[0mself\u001b[0m\u001b[0;34m.\u001b[0m\u001b[0mn_iter\u001b[0m\u001b[0;34m,\u001b[0m\u001b[0;34m\u001b[0m\u001b[0;34m\u001b[0m\u001b[0m\n\u001b[0;32m-> 1484\u001b[0;31m             random_state=self.random_state))\n\u001b[0m",
            "\u001b[0;32m/usr/local/lib/python3.6/dist-packages/sklearn/model_selection/_search.py\u001b[0m in \u001b[0;36mevaluate_candidates\u001b[0;34m(candidate_params)\u001b[0m\n\u001b[1;32m    687\u001b[0m                                \u001b[0;32mfor\u001b[0m \u001b[0mparameters\u001b[0m\u001b[0;34m,\u001b[0m \u001b[0;34m(\u001b[0m\u001b[0mtrain\u001b[0m\u001b[0;34m,\u001b[0m \u001b[0mtest\u001b[0m\u001b[0;34m)\u001b[0m\u001b[0;34m\u001b[0m\u001b[0;34m\u001b[0m\u001b[0m\n\u001b[1;32m    688\u001b[0m                                in product(candidate_params,\n\u001b[0;32m--> 689\u001b[0;31m                                           cv.split(X, y, groups)))\n\u001b[0m\u001b[1;32m    690\u001b[0m \u001b[0;34m\u001b[0m\u001b[0m\n\u001b[1;32m    691\u001b[0m                 \u001b[0;32mif\u001b[0m \u001b[0mlen\u001b[0m\u001b[0;34m(\u001b[0m\u001b[0mout\u001b[0m\u001b[0;34m)\u001b[0m \u001b[0;34m<\u001b[0m \u001b[0;36m1\u001b[0m\u001b[0;34m:\u001b[0m\u001b[0;34m\u001b[0m\u001b[0;34m\u001b[0m\u001b[0m\n",
            "\u001b[0;32m/usr/local/lib/python3.6/dist-packages/joblib/parallel.py\u001b[0m in \u001b[0;36m__call__\u001b[0;34m(self, iterable)\u001b[0m\n\u001b[1;32m   1015\u001b[0m \u001b[0;34m\u001b[0m\u001b[0m\n\u001b[1;32m   1016\u001b[0m             \u001b[0;32mwith\u001b[0m \u001b[0mself\u001b[0m\u001b[0;34m.\u001b[0m\u001b[0m_backend\u001b[0m\u001b[0;34m.\u001b[0m\u001b[0mretrieval_context\u001b[0m\u001b[0;34m(\u001b[0m\u001b[0;34m)\u001b[0m\u001b[0;34m:\u001b[0m\u001b[0;34m\u001b[0m\u001b[0;34m\u001b[0m\u001b[0m\n\u001b[0;32m-> 1017\u001b[0;31m                 \u001b[0mself\u001b[0m\u001b[0;34m.\u001b[0m\u001b[0mretrieve\u001b[0m\u001b[0;34m(\u001b[0m\u001b[0;34m)\u001b[0m\u001b[0;34m\u001b[0m\u001b[0;34m\u001b[0m\u001b[0m\n\u001b[0m\u001b[1;32m   1018\u001b[0m             \u001b[0;31m# Make sure that we get a last message telling us we are done\u001b[0m\u001b[0;34m\u001b[0m\u001b[0;34m\u001b[0m\u001b[0;34m\u001b[0m\u001b[0m\n\u001b[1;32m   1019\u001b[0m             \u001b[0melapsed_time\u001b[0m \u001b[0;34m=\u001b[0m \u001b[0mtime\u001b[0m\u001b[0;34m.\u001b[0m\u001b[0mtime\u001b[0m\u001b[0;34m(\u001b[0m\u001b[0;34m)\u001b[0m \u001b[0;34m-\u001b[0m \u001b[0mself\u001b[0m\u001b[0;34m.\u001b[0m\u001b[0m_start_time\u001b[0m\u001b[0;34m\u001b[0m\u001b[0;34m\u001b[0m\u001b[0m\n",
            "\u001b[0;32m/usr/local/lib/python3.6/dist-packages/joblib/parallel.py\u001b[0m in \u001b[0;36mretrieve\u001b[0;34m(self)\u001b[0m\n\u001b[1;32m    907\u001b[0m             \u001b[0;32mtry\u001b[0m\u001b[0;34m:\u001b[0m\u001b[0;34m\u001b[0m\u001b[0;34m\u001b[0m\u001b[0m\n\u001b[1;32m    908\u001b[0m                 \u001b[0;32mif\u001b[0m \u001b[0mgetattr\u001b[0m\u001b[0;34m(\u001b[0m\u001b[0mself\u001b[0m\u001b[0;34m.\u001b[0m\u001b[0m_backend\u001b[0m\u001b[0;34m,\u001b[0m \u001b[0;34m'supports_timeout'\u001b[0m\u001b[0;34m,\u001b[0m \u001b[0;32mFalse\u001b[0m\u001b[0;34m)\u001b[0m\u001b[0;34m:\u001b[0m\u001b[0;34m\u001b[0m\u001b[0;34m\u001b[0m\u001b[0m\n\u001b[0;32m--> 909\u001b[0;31m                     \u001b[0mself\u001b[0m\u001b[0;34m.\u001b[0m\u001b[0m_output\u001b[0m\u001b[0;34m.\u001b[0m\u001b[0mextend\u001b[0m\u001b[0;34m(\u001b[0m\u001b[0mjob\u001b[0m\u001b[0;34m.\u001b[0m\u001b[0mget\u001b[0m\u001b[0;34m(\u001b[0m\u001b[0mtimeout\u001b[0m\u001b[0;34m=\u001b[0m\u001b[0mself\u001b[0m\u001b[0;34m.\u001b[0m\u001b[0mtimeout\u001b[0m\u001b[0;34m)\u001b[0m\u001b[0;34m)\u001b[0m\u001b[0;34m\u001b[0m\u001b[0;34m\u001b[0m\u001b[0m\n\u001b[0m\u001b[1;32m    910\u001b[0m                 \u001b[0;32melse\u001b[0m\u001b[0;34m:\u001b[0m\u001b[0;34m\u001b[0m\u001b[0;34m\u001b[0m\u001b[0m\n\u001b[1;32m    911\u001b[0m                     \u001b[0mself\u001b[0m\u001b[0;34m.\u001b[0m\u001b[0m_output\u001b[0m\u001b[0;34m.\u001b[0m\u001b[0mextend\u001b[0m\u001b[0;34m(\u001b[0m\u001b[0mjob\u001b[0m\u001b[0;34m.\u001b[0m\u001b[0mget\u001b[0m\u001b[0;34m(\u001b[0m\u001b[0;34m)\u001b[0m\u001b[0;34m)\u001b[0m\u001b[0;34m\u001b[0m\u001b[0;34m\u001b[0m\u001b[0m\n",
            "\u001b[0;32m/usr/local/lib/python3.6/dist-packages/joblib/_parallel_backends.py\u001b[0m in \u001b[0;36mwrap_future_result\u001b[0;34m(future, timeout)\u001b[0m\n\u001b[1;32m    560\u001b[0m         AsyncResults.get from multiprocessing.\"\"\"\n\u001b[1;32m    561\u001b[0m         \u001b[0;32mtry\u001b[0m\u001b[0;34m:\u001b[0m\u001b[0;34m\u001b[0m\u001b[0;34m\u001b[0m\u001b[0m\n\u001b[0;32m--> 562\u001b[0;31m             \u001b[0;32mreturn\u001b[0m \u001b[0mfuture\u001b[0m\u001b[0;34m.\u001b[0m\u001b[0mresult\u001b[0m\u001b[0;34m(\u001b[0m\u001b[0mtimeout\u001b[0m\u001b[0;34m=\u001b[0m\u001b[0mtimeout\u001b[0m\u001b[0;34m)\u001b[0m\u001b[0;34m\u001b[0m\u001b[0;34m\u001b[0m\u001b[0m\n\u001b[0m\u001b[1;32m    563\u001b[0m         \u001b[0;32mexcept\u001b[0m \u001b[0mLokyTimeoutError\u001b[0m\u001b[0;34m:\u001b[0m\u001b[0;34m\u001b[0m\u001b[0;34m\u001b[0m\u001b[0m\n\u001b[1;32m    564\u001b[0m             \u001b[0;32mraise\u001b[0m \u001b[0mTimeoutError\u001b[0m\u001b[0;34m(\u001b[0m\u001b[0;34m)\u001b[0m\u001b[0;34m\u001b[0m\u001b[0;34m\u001b[0m\u001b[0m\n",
            "\u001b[0;32m/usr/lib/python3.6/concurrent/futures/_base.py\u001b[0m in \u001b[0;36mresult\u001b[0;34m(self, timeout)\u001b[0m\n\u001b[1;32m    425\u001b[0m                 \u001b[0;32mreturn\u001b[0m \u001b[0mself\u001b[0m\u001b[0;34m.\u001b[0m\u001b[0m__get_result\u001b[0m\u001b[0;34m(\u001b[0m\u001b[0;34m)\u001b[0m\u001b[0;34m\u001b[0m\u001b[0;34m\u001b[0m\u001b[0m\n\u001b[1;32m    426\u001b[0m \u001b[0;34m\u001b[0m\u001b[0m\n\u001b[0;32m--> 427\u001b[0;31m             \u001b[0mself\u001b[0m\u001b[0;34m.\u001b[0m\u001b[0m_condition\u001b[0m\u001b[0;34m.\u001b[0m\u001b[0mwait\u001b[0m\u001b[0;34m(\u001b[0m\u001b[0mtimeout\u001b[0m\u001b[0;34m)\u001b[0m\u001b[0;34m\u001b[0m\u001b[0;34m\u001b[0m\u001b[0m\n\u001b[0m\u001b[1;32m    428\u001b[0m \u001b[0;34m\u001b[0m\u001b[0m\n\u001b[1;32m    429\u001b[0m             \u001b[0;32mif\u001b[0m \u001b[0mself\u001b[0m\u001b[0;34m.\u001b[0m\u001b[0m_state\u001b[0m \u001b[0;32min\u001b[0m \u001b[0;34m[\u001b[0m\u001b[0mCANCELLED\u001b[0m\u001b[0;34m,\u001b[0m \u001b[0mCANCELLED_AND_NOTIFIED\u001b[0m\u001b[0;34m]\u001b[0m\u001b[0;34m:\u001b[0m\u001b[0;34m\u001b[0m\u001b[0;34m\u001b[0m\u001b[0m\n",
            "\u001b[0;32m/usr/lib/python3.6/threading.py\u001b[0m in \u001b[0;36mwait\u001b[0;34m(self, timeout)\u001b[0m\n\u001b[1;32m    293\u001b[0m         \u001b[0;32mtry\u001b[0m\u001b[0;34m:\u001b[0m    \u001b[0;31m# restore state no matter what (e.g., KeyboardInterrupt)\u001b[0m\u001b[0;34m\u001b[0m\u001b[0;34m\u001b[0m\u001b[0m\n\u001b[1;32m    294\u001b[0m             \u001b[0;32mif\u001b[0m \u001b[0mtimeout\u001b[0m \u001b[0;32mis\u001b[0m \u001b[0;32mNone\u001b[0m\u001b[0;34m:\u001b[0m\u001b[0;34m\u001b[0m\u001b[0;34m\u001b[0m\u001b[0m\n\u001b[0;32m--> 295\u001b[0;31m                 \u001b[0mwaiter\u001b[0m\u001b[0;34m.\u001b[0m\u001b[0macquire\u001b[0m\u001b[0;34m(\u001b[0m\u001b[0;34m)\u001b[0m\u001b[0;34m\u001b[0m\u001b[0;34m\u001b[0m\u001b[0m\n\u001b[0m\u001b[1;32m    296\u001b[0m                 \u001b[0mgotit\u001b[0m \u001b[0;34m=\u001b[0m \u001b[0;32mTrue\u001b[0m\u001b[0;34m\u001b[0m\u001b[0;34m\u001b[0m\u001b[0m\n\u001b[1;32m    297\u001b[0m             \u001b[0;32melse\u001b[0m\u001b[0;34m:\u001b[0m\u001b[0;34m\u001b[0m\u001b[0;34m\u001b[0m\u001b[0m\n",
            "\u001b[0;31mKeyboardInterrupt\u001b[0m: "
          ]
        }
      ]
    },
    {
      "cell_type": "code",
      "metadata": {
        "id": "isW770lrosok",
        "colab_type": "code",
        "colab": {}
      },
      "source": [
        "search.cv_results_"
      ],
      "execution_count": 0,
      "outputs": []
    },
    {
      "cell_type": "code",
      "metadata": {
        "id": "gD1RC9osIEE6",
        "colab_type": "code",
        "colab": {}
      },
      "source": [
        "f'Optimal parameters: {search.best_params_}'"
      ],
      "execution_count": 0,
      "outputs": []
    },
    {
      "cell_type": "markdown",
      "metadata": {
        "id": "uTxta8l6tkAB",
        "colab_type": "text"
      },
      "source": [
        "## Evaluation"
      ]
    },
    {
      "cell_type": "code",
      "metadata": {
        "id": "l_G8-du6tkAC",
        "colab_type": "code",
        "colab": {}
      },
      "source": [
        "training_score = search.cv_results_['mean_train_score'][search.best_index_] * 100\n",
        "test_score = search.cv_results_['mean_test_score'][search.best_index_] * 100"
      ],
      "execution_count": 0,
      "outputs": []
    },
    {
      "cell_type": "code",
      "metadata": {
        "id": "9d_TYdu0tkAG",
        "colab_type": "code",
        "colab": {}
      },
      "source": [
        "f'Mean F1 Score (Training/Test): {training_score:.2f}%/{test_score:.2f}%'"
      ],
      "execution_count": 0,
      "outputs": []
    },
    {
      "cell_type": "markdown",
      "metadata": {
        "id": "ejCp1lI-9h9c",
        "colab_type": "text"
      },
      "source": [
        "## Log Datei füttern"
      ]
    },
    {
      "cell_type": "code",
      "metadata": {
        "id": "OEWS-tsj9hhp",
        "colab_type": "code",
        "colab": {}
      },
      "source": [
        "# datetime;alpha;lambda;random_state;n_estimators_min;n_estimators_max;max_depth_min;x_max_depth_max;best_n_estimators;best_max_depth;best_learning_rate;f1_training;f1_test;std_train_score;std_test_score\n",
        "\n",
        "logData = [[datetime.now()\n",
        "            ,search.best_params_['classifier__learning_rate']\n",
        "            ,search.best_params_['classifier__gamma']\n",
        "            ,search.best_params_['classifier__max_depth']\n",
        "            ,search.best_params_['classifier__colsample_bytree']\n",
        "            ,search.best_params_['classifier__subsample']\n",
        "            ,search.best_params_['classifier__reg_alpha']\n",
        "            ,search.best_params_['classifier__reg_lambda']\n",
        "            ,search.best_params_['classifier__min_child_weight']\n",
        "            ,search.best_params_['classifier__n_estimators']\n",
        "            ,training_score\n",
        "            ,test_score\n",
        "            ,search.cv_results_['std_train_score'][search.best_index_]\n",
        "            ,search.cv_results_['std_test_score'][search.best_index_]]]\n",
        "with open('log2.csv', 'a') as csvfile:\n",
        "  writer = csv.writer(csvfile, delimiter=';')\n",
        "  writer.writerows(logData)"
      ],
      "execution_count": 0,
      "outputs": []
    },
    {
      "cell_type": "markdown",
      "metadata": {
        "id": "ce1oD7CDtkAO",
        "colab_type": "text"
      },
      "source": [
        "## Prediction"
      ]
    },
    {
      "cell_type": "code",
      "metadata": {
        "id": "njPYhiz5tkAS",
        "colab_type": "code",
        "colab": {}
      },
      "source": [
        "sys.exit()\n",
        "predictions = search.best_estimator_.predict(prediction_dataset)"
      ],
      "execution_count": 0,
      "outputs": []
    },
    {
      "cell_type": "markdown",
      "metadata": {
        "id": "y6H61WM5tkAZ",
        "colab_type": "text"
      },
      "source": [
        "## Submission Dataset Preparation\n",
        "\n",
        "Your upload to the Online-Campus should contain your written report (the actual seminar paper), this notebook as file as well as the generated submission dataset with your predictions."
      ]
    },
    {
      "cell_type": "code",
      "metadata": {
        "id": "PwJtq1XltkAb",
        "colab_type": "code",
        "colab": {}
      },
      "source": [
        "submission = pd.DataFrame(\n",
        "    predictions, index=prediction_dataset.index, columns=['prediction'])"
      ],
      "execution_count": 0,
      "outputs": []
    },
    {
      "cell_type": "code",
      "metadata": {
        "id": "0PFaGgAjtkAh",
        "colab_type": "code",
        "colab": {}
      },
      "source": [
        "matriculation_number = '12345678'"
      ],
      "execution_count": 0,
      "outputs": []
    },
    {
      "cell_type": "code",
      "metadata": {
        "id": "i4Rd5zVutkAm",
        "colab_type": "code",
        "colab": {}
      },
      "source": [
        "submission.to_csv(\n",
        "    f'./submission-{matriculation_number}.csv', index_label='identifier')"
      ],
      "execution_count": 0,
      "outputs": []
    },
    {
      "cell_type": "markdown",
      "metadata": {
        "id": "16tuFXaYwPmR",
        "colab_type": "text"
      },
      "source": [
        "# Nützliche Links\n",
        "* XGboost Implementation: [https://www.datacamp.com/community/tutorials/xgboost-in-python](https://www.datacamp.com/community/tutorials/xgboost-in-python)\n",
        "* XGBoost Parameter List: [https://xgboost.readthedocs.io/en/latest/parameter.html](https://xgboost.readthedocs.io/en/latest/parameter.html)\n",
        "* XGBoost Tuning Parameters: [https://kehuiyao.github.io/2019/03/21/xgboost-tuning-parameters/](https://kehuiyao.github.io/2019/03/21/xgboost-tuning-parameters/)"
      ]
    }
  ]
}
