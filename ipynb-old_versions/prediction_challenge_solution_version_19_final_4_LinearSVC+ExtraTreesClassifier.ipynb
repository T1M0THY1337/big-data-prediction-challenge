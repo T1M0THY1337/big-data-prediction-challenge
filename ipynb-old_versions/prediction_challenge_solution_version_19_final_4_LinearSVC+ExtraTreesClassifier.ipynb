{
  "nbformat": 4,
  "nbformat_minor": 0,
  "metadata": {
    "kernelspec": {
      "name": "python3",
      "display_name": "Python 3"
    },
    "language_info": {
      "codemirror_mode": {
        "name": "ipython",
        "version": 3
      },
      "file_extension": ".py",
      "mimetype": "text/x-python",
      "name": "python",
      "nbconvert_exporter": "python",
      "pygments_lexer": "ipython3",
      "version": "3.7.4"
    },
    "colab": {
      "name": "prediction_challenge_solution-version_19_final-4_LinearSVC+ExtraTreesClassifier.ipynb",
      "provenance": [],
      "collapsed_sections": [
        "4idoUyrtrQSK",
        "Xq305VW7qmq8"
      ],
      "include_colab_link": true
    },
    "accelerator": "GPU"
  },
  "cells": [
    {
      "cell_type": "markdown",
      "metadata": {
        "id": "view-in-github",
        "colab_type": "text"
      },
      "source": [
        "<a href=\"https://colab.research.google.com/github/T1M0THY1337/big-data-prediction-challenge/blob/master/prediction_challenge_solution_version_19_final_4_LinearSVC%2BExtraTreesClassifier.ipynb\" target=\"_parent\"><img src=\"https://colab.research.google.com/assets/colab-badge.svg\" alt=\"Open In Colab\"/></a>"
      ]
    },
    {
      "cell_type": "markdown",
      "metadata": {
        "id": "YNapCUQ9tj-C",
        "colab_type": "text"
      },
      "source": [
        "# Prediction Challenge by Sebastian Krakau and Tim Schalk\n",
        "\n",
        "Your job is to predict whether or not a person will become a customer of a bank. The data itself contains basic demographic information about numerous  customers as well as data related to phone-based marketing calls during specific campaigns."
      ]
    },
    {
      "cell_type": "markdown",
      "metadata": {
        "id": "lEtpbsTkxEaV",
        "colab_type": "text"
      },
      "source": [
        "# Header"
      ]
    },
    {
      "cell_type": "markdown",
      "metadata": {
        "id": "T_8CKo6vuiKW",
        "colab_type": "text"
      },
      "source": [
        "## Version 9.4\n",
        "\n",
        "\n",
        "---"
      ]
    },
    {
      "cell_type": "markdown",
      "metadata": {
        "id": "yYyRmTQNtj-F",
        "colab_type": "text"
      },
      "source": [
        "## Data Dictionary\n",
        "\n",
        "<table style=\"width: 100%;\">\n",
        "    <thead>\n",
        "        <tr>\n",
        "            <th style=\"width: 30%; text-align: left;\">Feature</th>\n",
        "            <th style=\"width: 70%; text-align: left;\">Description</th>\n",
        "        </tr>\n",
        "    </thead>\n",
        "    <tbody>\n",
        "        <tr>\n",
        "            <td>date</td>\n",
        "            <td>The last contact date</td>\n",
        "        </tr>\n",
        "        <tr>\n",
        "            <td>age</td>\n",
        "            <td>The age of the customer</td>\n",
        "        </tr>\n",
        "        <tr>\n",
        "            <td>marital_status</td>\n",
        "            <td>The marital status of the customer</td>\n",
        "        </tr>\n",
        "        <tr>\n",
        "            <td>education</td>\n",
        "            <td>The educationan of the customer</td>\n",
        "        </tr>\n",
        "        <tr>\n",
        "            <td>job</td>\n",
        "            <td>The type of job of the customer</td>\n",
        "        </tr>\n",
        "        <tr>\n",
        "            <td>credit_default</td>\n",
        "            <td>Whether or not the customer has a credit in default</td>\n",
        "        </tr>\n",
        "        <tr>\n",
        "            <td>housing_loan</td>\n",
        "            <td>Whether or not the customer has a housing loan</td>\n",
        "        </tr>\n",
        "        <tr>\n",
        "            <td>personal_loan</td>\n",
        "            <td>Whether or not the customer has a personal loan</td>\n",
        "        </tr>\n",
        "        <tr>\n",
        "            <td>communication_type</td>\n",
        "            <td>The type of contact communication</td>\n",
        "        </tr>\n",
        "        <tr>\n",
        "            <td>n_contacts_campaign</td>\n",
        "            <td>The number of contacts performed during this marketing campaign and for this customer</td>\n",
        "        </tr>\n",
        "        <tr>\n",
        "            <td>days_since_last_contact</td>\n",
        "            <td>The number of days passed by after the customer was last contacted from a previous domain</td>\n",
        "        </tr>\n",
        "        <tr>\n",
        "            <td>n_contacts_before</td>\n",
        "            <td>The number of contacts performed before this marketing campaign and for this customer</td>\n",
        "        </tr>\n",
        "        <tr>\n",
        "            <td>previous_conversion</td>\n",
        "            <td>Whether or not the customer has been a customer before</td>\n",
        "        </tr>\n",
        "        <tr>\n",
        "            <td>success</td>\n",
        "            <td>Whether or not the customer became an actual customer (target variable)</td>\n",
        "        </tr>\n",
        "    </tbody>   \n",
        "</table>   "
      ]
    },
    {
      "cell_type": "markdown",
      "metadata": {
        "id": "I-ZH8xKaxLGH",
        "colab_type": "text"
      },
      "source": [
        "# Programming"
      ]
    },
    {
      "cell_type": "markdown",
      "metadata": {
        "id": "GGyVwYL-tj-H",
        "colab_type": "text"
      },
      "source": [
        "## Package Import"
      ]
    },
    {
      "cell_type": "code",
      "metadata": {
        "id": "zNkzZA6xtj-L",
        "colab_type": "code",
        "colab": {}
      },
      "source": [
        "import numpy as np\n",
        "import pandas as pd\n",
        "import xgboost as xgb\n",
        "import sys as sys\n",
        "import csv, datetime\n",
        "import seaborn as sns\n",
        "import matplotlib.pyplot as plt\n",
        "from datetime import datetime\n",
        "from scipy.stats import uniform, randint\n",
        "from sklearn.compose import ColumnTransformer\n",
        "from sklearn.metrics import f1_score, make_scorer, roc_auc_score, roc_curve, recall_score, precision_score\n",
        "from sklearn.model_selection import RandomizedSearchCV, cross_validate, StratifiedKFold\n",
        "from sklearn.pipeline import Pipeline\n",
        "from sklearn.preprocessing import MinMaxScaler, LabelEncoder, OneHotEncoder\n",
        "from sklearn.utils import resample\n",
        "from sklearn.svm import LinearSVC\n",
        "from sklearn.feature_selection import SelectFromModel\n",
        "from sklearn.ensemble import ExtraTreesClassifier"
      ],
      "execution_count": 0,
      "outputs": []
    },
    {
      "cell_type": "markdown",
      "metadata": {
        "id": "PRXDmV7stj-W",
        "colab_type": "text"
      },
      "source": [
        "## Data Import"
      ]
    },
    {
      "cell_type": "code",
      "metadata": {
        "id": "JL64eb7ztj-Z",
        "colab_type": "code",
        "colab": {}
      },
      "source": [
        "original_dataset = pd.read_csv(\n",
        "    'https://raw.githubusercontent.com/saschaschworm/big-data-and-data-science/' +\n",
        "    'master/datasets/prediction-challenge/dataset.csv', \n",
        "    index_col='identifier', parse_dates=['date'])\n",
        "\n",
        "original_dataset_prediction = pd.read_csv(\n",
        "    'https://raw.githubusercontent.com/saschaschworm/big-data-and-data-science/' +\n",
        "    'master/datasets/prediction-challenge/prediction-dataset.csv', \n",
        "    index_col='identifier', parse_dates=['date'])\n",
        "\n",
        "# https://www.kaggle.com/sohier/interest-rate-records\n",
        "dataset_PrimeRate = pd.read_csv(\n",
        "    'https://raw.githubusercontent.com/T1M0THY1337/big-data-prediction-challenge/' +\n",
        "    'master/datasets/dataset_PrimeRate.csv', parse_dates=['time_period'])"
      ],
      "execution_count": 0,
      "outputs": []
    },
    {
      "cell_type": "markdown",
      "metadata": {
        "id": "gbrn1ws79IjG",
        "colab_type": "text"
      },
      "source": [
        "## Options"
      ]
    },
    {
      "cell_type": "code",
      "metadata": {
        "id": "seaxsZE89Iy8",
        "colab_type": "code",
        "colab": {}
      },
      "source": [
        "x_random_state = 1909\n",
        "x_rscv_n_iter = 7 # For param_distributions and RandomizedSearchCV"
      ],
      "execution_count": 0,
      "outputs": []
    },
    {
      "cell_type": "markdown",
      "metadata": {
        "id": "DxVLYLqEtj-v",
        "colab_type": "text"
      },
      "source": [
        "## Feature Engineering"
      ]
    },
    {
      "cell_type": "code",
      "metadata": {
        "id": "-R43QutQtj-x",
        "colab_type": "code",
        "colab": {}
      },
      "source": [
        "# Create some new features based on the given features\n",
        "# or enrich the dataset with features from datasets."
      ],
      "execution_count": 0,
      "outputs": []
    },
    {
      "cell_type": "markdown",
      "metadata": {
        "id": "4idoUyrtrQSK",
        "colab_type": "text"
      },
      "source": [
        "### A problem with the data set: It is unbalanced:"
      ]
    },
    {
      "cell_type": "code",
      "metadata": {
        "id": "DzRxR-JG-H1A",
        "colab_type": "code",
        "outputId": "c2ebf02a-b41b-4c81-9a24-4287e33e1719",
        "colab": {
          "base_uri": "https://localhost:8080/",
          "height": 316
        }
      },
      "source": [
        "sns.countplot(data=original_dataset,x=\"success\")"
      ],
      "execution_count": 0,
      "outputs": [
        {
          "output_type": "execute_result",
          "data": {
            "text/plain": [
              "<matplotlib.axes._subplots.AxesSubplot at 0x7f7e7e7296d8>"
            ]
          },
          "metadata": {
            "tags": []
          },
          "execution_count": 5
        },
        {
          "output_type": "display_data",
          "data": {
            "image/png": "[encoded data removed]",
            "text/plain": [
              "<Figure size 432x288 with 1 Axes>"
            ]
          },
          "metadata": {
            "tags": []
          }
        }
      ]
    },
    {
      "cell_type": "markdown",
      "metadata": {
        "id": "A6PyrYmVrn9j",
        "colab_type": "text"
      },
      "source": [
        "### Following function will be needed for Feature Engineering:"
      ]
    },
    {
      "cell_type": "code",
      "metadata": {
        "id": "O4MgxB1rsvgk",
        "colab_type": "code",
        "colab": {}
      },
      "source": [
        "def getWeekendDay(inDate):\n",
        "  if (inDate.weekday == 'Saturday') or (inDate.weekday == 'Sunday'):\n",
        "    return True\n",
        "  else:\n",
        "    return False"
      ],
      "execution_count": 0,
      "outputs": []
    },
    {
      "cell_type": "code",
      "metadata": {
        "id": "q2GAn1mms0Yj",
        "colab_type": "code",
        "colab": {}
      },
      "source": [
        "def getAgeGroup(inAge):\n",
        "  if (inAge < 28):\n",
        "    return 'young'\n",
        "  elif (49 > inAge > 27):\n",
        "    return 'younger'\n",
        "  elif (61 > inAge > 48):\n",
        "    return 'older'\n",
        "  else:\n",
        "    return 'old'"
      ],
      "execution_count": 0,
      "outputs": []
    },
    {
      "cell_type": "code",
      "metadata": {
        "id": "R_lIvMGbyUoq",
        "colab_type": "code",
        "colab": {}
      },
      "source": [
        "def getDurationGroup(inDuration):\n",
        "  if (inDuration < 250):\n",
        "    return 'very_short'\n",
        "  elif (250 < inDuration < 500):\n",
        "    return 'short'\n",
        "  elif (500 < inDuration < 750):\n",
        "    return 'lower_medium'\n",
        "  elif (750 < inDuration < 1000):\n",
        "    return 'medium'\n",
        "  elif (1000 < inDuration < 1250):\n",
        "    return 'higher_medium'\n",
        "  elif (1250 < inDuration < 1500):\n",
        "    return 'long'\n",
        "  elif (1500 < inDuration < 1750):\n",
        "    return 'very_long'\n",
        "  else:\n",
        "    return 'very_big_call'"
      ],
      "execution_count": 0,
      "outputs": []
    },
    {
      "cell_type": "code",
      "metadata": {
        "id": "ze-a__nyydJq",
        "colab_type": "code",
        "colab": {}
      },
      "source": [
        "def getSeason(inMonth):\n",
        "  if(3 < inMonth < 6):\n",
        "    return 'spring'\n",
        "  if(5 < inMonth < 9):\n",
        "    return 'summer'\n",
        "  if(8 < inMonth < 12):\n",
        "    return 'fall'\n",
        "  else:\n",
        "    return 'winter'"
      ],
      "execution_count": 0,
      "outputs": []
    },
    {
      "cell_type": "code",
      "metadata": {
        "id": "8vYPw8uhyfdA",
        "colab_type": "code",
        "colab": {}
      },
      "source": [
        "def getJobGroup(inJob):\n",
        "  if(inJob == \"Unknown\"):\n",
        "    return 'True'\n",
        "  elif(inJob == \"Unemployed\" or inJob == \"Student\" or inJob == \"Pensioner\"):\n",
        "    return 'False'\n",
        "  else:\n",
        "    return 'True'"
      ],
      "execution_count": 0,
      "outputs": []
    },
    {
      "cell_type": "code",
      "metadata": {
        "id": "Ckm8Op92yhLM",
        "colab_type": "code",
        "colab": {}
      },
      "source": [
        "def getContactCampaignGroup(inN_contacts_campaign):\n",
        "  if (inN_contacts_campaign < 15):\n",
        "    return 'xsmall'\n",
        "  elif (15 < inN_contacts_campaign < 30):\n",
        "    return 'small'\n",
        "  elif (30 < inN_contacts_campaign < 45):\n",
        "    return 'medium'\n",
        "  else:\n",
        "    return 'high'"
      ],
      "execution_count": 0,
      "outputs": []
    },
    {
      "cell_type": "code",
      "metadata": {
        "id": "X3zVJTWeyjdS",
        "colab_type": "code",
        "colab": {}
      },
      "source": [
        "def getContactsBeforeGroup(inN_contacts_before):\n",
        "  if (inN_contacts_before < 3):\n",
        "    return 'small'\n",
        "  elif (3 < inN_contacts_before < 6):\n",
        "    return 'medium'\n",
        "  else:\n",
        "    return 'high'"
      ],
      "execution_count": 0,
      "outputs": []
    },
    {
      "cell_type": "code",
      "metadata": {
        "id": "tlT8uYjFyqOB",
        "colab_type": "code",
        "colab": {}
      },
      "source": [
        "def getLastContactGroup(inDays_since_last_contact):\n",
        "  if (inDays_since_last_contact < 0):\n",
        "    return 'no_contact'\n",
        "  elif (0 <= inDays_since_last_contact <= 6):\n",
        "    return 'less'\n",
        "  elif (6 < inDays_since_last_contact <= 15):\n",
        "    return 'medium'\n",
        "  elif (15 < inDays_since_last_contact):\n",
        "    return 'high'  "
      ],
      "execution_count": 0,
      "outputs": []
    },
    {
      "cell_type": "code",
      "metadata": {
        "id": "u_ob9Z4JytTL",
        "colab_type": "code",
        "colab": {}
      },
      "source": [
        "def getPrimeRate(inDate):\n",
        "  prime_rate = dataset_PrimeRate[dataset_PrimeRate['time_period'] == inDate]\n",
        "  #prime_rate = prime_rate.iat[0,0].strftime(format='%Y-%m-%d')\n",
        "  prime_rate = prime_rate['prime_rate']\n",
        "  prime_rate = prime_rate.iat[0]\n",
        "  return prime_rate"
      ],
      "execution_count": 0,
      "outputs": []
    },
    {
      "cell_type": "code",
      "metadata": {
        "id": "Gl6wYRehVoSd",
        "colab_type": "code",
        "colab": {}
      },
      "source": [
        "def getWeekDay(inDate):\n",
        "  return inDate.day_name()"
      ],
      "execution_count": 0,
      "outputs": []
    },
    {
      "cell_type": "markdown",
      "metadata": {
        "id": "v_01HCdvsHqx",
        "colab_type": "text"
      },
      "source": [
        "### An Overview over all features in the dataset:"
      ]
    },
    {
      "cell_type": "code",
      "metadata": {
        "id": "KlGE-cv6-ghq",
        "colab_type": "code",
        "colab": {}
      },
      "source": [
        "featureList = [[1,   'date',                           'date',     0],\n",
        "               [2,   'dateYear',                       'string',   1],\n",
        "               [3,   'dateMonth',                      'string',   1],\n",
        "               [4,   'dateWeekday',                    'string',   1],\n",
        "               [5,   'dateWeekendDay',                 'boolean',  0],\n",
        "               [6,   'dateSeason',                     'string',   1],\n",
        "               [7,   'n_contacts_campaign',            'integer',  1],\n",
        "               [8,   'n_contacts_campaignGroup',       'string',   0],\n",
        "               [9,   'n_contacts_before',              'integer',  1],\n",
        "               [10,  'n_contacts_beforeGroup',         'string',   1],\n",
        "               [11,  'days_since_last_contact',        'integer',  1],\n",
        "               [12,  'days_since_last_contactGroup',   'string',   1],\n",
        "               [13,  'age',                            'integer',  0],\n",
        "               [14,  'ageGroup',                       'string',   1],\n",
        "               [15,  'job',                            'string',   0],\n",
        "               [16,  'jobGroup',                       'boolean',  1],\n",
        "               [17,  'marital_status',                 'string',   1],\n",
        "               [18,  'education',                      'string',   1],\n",
        "               [19,  'credit_default',                 'string',   1],\n",
        "               [20,  'housing_loan',                   'string',   1],\n",
        "               [21,  'personal_loan',                  'string',   1],\n",
        "               [22,  'communication_type',             'string',   1],\n",
        "               [23,  'previous_conversion',            'string',   1],\n",
        "               [24,  'duration',                       'integer',  1],\n",
        "               [25,  'durationGroup',                  'string',   1],\n",
        "               [26,  'prime_rate',                     'float',    1]]\n"
      ],
      "execution_count": 0,
      "outputs": []
    },
    {
      "cell_type": "markdown",
      "metadata": {
        "id": "13hTsr5wsTlx",
        "colab_type": "text"
      },
      "source": [
        "### Editing and Enhancing the features:"
      ]
    },
    {
      "cell_type": "code",
      "metadata": {
        "id": "8-qz5y9cTYOB",
        "colab_type": "code",
        "colab": {}
      },
      "source": [
        "def getModifiedDataframe(inDataframe):\n",
        "\n",
        "  # 00 - init\n",
        "  outDataframe = pd.DataFrame()\n",
        "\n",
        "  # 01 - date\n",
        "  outDataframe['date'] = pd.to_datetime(inDataframe['date'])\n",
        "\n",
        "  # 02 - dateYear\n",
        "  outDataframe.insert(1, \"dateYear\", outDataframe['date'], allow_duplicates=True)\n",
        "  outDataframe.dateYear = outDataframe['dateYear'].dt.year\n",
        "\n",
        "  # 03 - dateMonth\n",
        "  outDataframe.insert(2, \"dateMonth\", outDataframe['date'], allow_duplicates=True)\n",
        "  outDataframe.dateMonth = outDataframe['dateMonth'].dt.month\n",
        "\n",
        "  # 04 - dateWeekday\n",
        "  outDataframe.insert(3, \"dateWeekday\", outDataframe['date'], allow_duplicates=True)\n",
        "  outDataframe.dateWeekday = outDataframe.dateWeekday.apply(getWeekDay)\n",
        "\n",
        "  # 05 - dateWeekendDay\n",
        "  outDataframe.insert(4, \"dateWeekendDay\", outDataframe['date'], allow_duplicates=True)\n",
        "  outDataframe.dateWeekendDay = outDataframe.dateWeekendDay.apply(getWeekendDay)\n",
        "\n",
        "  # 06 - dateSeason\n",
        "  outDataframe.insert(5, \"dateSeason\", outDataframe['dateMonth'], allow_duplicates=True)\n",
        "  outDataframe.dateSeason = outDataframe.dateSeason.apply(getSeason)\n",
        "\n",
        "  # 07 - n_contacts_campaign\n",
        "  outDataframe.insert(6, \"n_contacts_campaign\", inDataframe['n_contacts_campaign'], allow_duplicates=True)\n",
        "\n",
        "  # 08 - n_contacts_campaignGroup\n",
        "  outDataframe.insert(7, \"n_contacts_campaignGroup\", inDataframe['n_contacts_campaign'], allow_duplicates=True)\n",
        "  outDataframe.n_contacts_campaignGroup = outDataframe.n_contacts_campaign.apply(getContactCampaignGroup)\n",
        "\n",
        "  # 09 - n_contacts_before\n",
        "  outDataframe.insert(8, \"n_contacts_before\", inDataframe['n_contacts_before'], allow_duplicates=True)\n",
        "\n",
        "  # 10 - n_contacts_beforeGroup\n",
        "  outDataframe.insert(9, \"n_contacts_beforeGroup\", inDataframe['n_contacts_before'], allow_duplicates=True)\n",
        "  outDataframe.n_contacts_beforeGroup = outDataframe.n_contacts_before.apply(getContactsBeforeGroup)\n",
        "\n",
        "  # 11 - days_since_last_contact\n",
        "  outDataframe.insert(10, \"days_since_last_contact\", inDataframe['days_since_last_contact'], allow_duplicates=True)\n",
        "\n",
        "  # 12 - days_since_last_contactGroup\n",
        "  outDataframe.insert(11, \"days_since_last_contactGroup\", inDataframe['days_since_last_contact'], allow_duplicates=True)\n",
        "  outDataframe.days_since_last_contactGroup = outDataframe.days_since_last_contact.apply(getLastContactGroup)\n",
        "\n",
        "  # 13 - age\n",
        "  outDataframe.insert(12, \"age\", inDataframe['age'], allow_duplicates=True)\n",
        "\n",
        "  # 14 - ageGroup\n",
        "  outDataframe.insert(13, \"ageGroup\", inDataframe['age'], allow_duplicates=True)\n",
        "  outDataframe.ageGroup = outDataframe.ageGroup.apply(getAgeGroup)\n",
        "\n",
        "  # 15 - job\n",
        "  outDataframe.insert(14, \"job\", inDataframe['job'], allow_duplicates=True)\n",
        "\n",
        "  # 16 - jobGroup\n",
        "  outDataframe.insert(15, \"jobGroup\", inDataframe['job'], allow_duplicates=True)\n",
        "  outDataframe.jobGroup = outDataframe.jobGroup.apply(getJobGroup)\n",
        "\n",
        "  # 17 - marital_status\n",
        "  outDataframe.insert(16, \"marital_status\", inDataframe['marital_status'], allow_duplicates=True)\n",
        "\n",
        "  # 18 - education\n",
        "  outDataframe.insert(17, \"education\", inDataframe['education'], allow_duplicates=True)\n",
        "\n",
        "  # 19 - credit_default\n",
        "  outDataframe.insert(18, \"credit_default\", inDataframe['credit_default'], allow_duplicates=True)\n",
        "\n",
        "  # 20 - housing_loan\n",
        "  outDataframe.insert(19, \"housing_loan\", inDataframe['housing_loan'], allow_duplicates=True)\n",
        "\n",
        "  # 21 - personal_loan\n",
        "  outDataframe.insert(20, \"personal_loan\", inDataframe['personal_loan'], allow_duplicates=True)\n",
        "\n",
        "  # 22 - communication_type\n",
        "  outDataframe.insert(21, \"communication_type\", inDataframe['communication_type'], allow_duplicates=True)\n",
        "\n",
        "  # 23 - previous_conversion\n",
        "  outDataframe.insert(22, \"previous_conversion\", inDataframe['previous_conversion'], allow_duplicates=True)\n",
        "\n",
        "  # 24 - duration\n",
        "  outDataframe.insert(23, \"duration\", inDataframe['duration'], allow_duplicates=True)\n",
        "\n",
        "  # 25 - durationGroup\n",
        "  outDataframe.insert(24, \"durationGroup\", inDataframe['duration'], allow_duplicates=True)\n",
        "  outDataframe.durationGroup = outDataframe.durationGroup.apply(getDurationGroup)\n",
        "\n",
        "  # 26 - prime_rate\n",
        "  outDataframe.insert(25, \"prime_rate\", inDataframe['date'], allow_duplicates=True)\n",
        "  outDataframe.prime_rate = outDataframe.prime_rate.apply(getPrimeRate)\n",
        "\n",
        "  return outDataframe"
      ],
      "execution_count": 0,
      "outputs": []
    },
    {
      "cell_type": "markdown",
      "metadata": {
        "id": "NTaWQxmZtGof",
        "colab_type": "text"
      },
      "source": [
        "### Cleaning the training data set:"
      ]
    },
    {
      "cell_type": "code",
      "metadata": {
        "id": "60zn_AYPtFd6",
        "colab_type": "code",
        "colab": {}
      },
      "source": [
        "def getModifiedTrainingSet(inDataframe, inDataframeSuccess):\n",
        "\n",
        "  outDataframe = inDataframe\n",
        "\n",
        "  # 27 - success\n",
        "  outDataframe.insert(26, \"success\", inDataframeSuccess, allow_duplicates=True)\n",
        "\n",
        "  # Remove all datasets with feature date more the 2 \"Unkowns\"\n",
        "  outDataframe = outDataframe.loc[outDataframe.isin([\"Unknown\"]).mean(axis=1) < 0.13]\n",
        "\n",
        "  # Remove all datasets with duration = 0\n",
        "  outDataframe = outDataframe[(outDataframe['duration'] > 0)]\n",
        "\n",
        "  # Remove all datasets with credit_default = 'Yes'\n",
        "  outDataframe = outDataframe[(outDataframe['credit_default'] != 'Yes')]\n",
        "\n",
        "  # Remove all datasets with education = 'Illiterate'\n",
        "  # outDataframe = outDataframe[(outDataframe['education'] != 'Illiterate')]\n",
        "\n",
        "  # Capping Feature duration\n",
        "  upper_lim = outDataframe['duration'].quantile(.97)\n",
        "  outDataframe.loc[(outDataframe['duration'] > upper_lim), 'duration'] = upper_lim\n",
        "\n",
        "  # Resample the imbalanced dataframe | https://www.kaggle.com/anilkay/handleimbalanceddataclassification\n",
        "\n",
        "  majority=outDataframe[outDataframe[\"success\"]==\"No\"]\n",
        "  minority=outDataframe[outDataframe[\"success\"]==\"Yes\"]\n",
        "  minority_upsampled = resample(minority, replace=True, n_samples=16000, random_state=x_random_state)\n",
        "  outDataframe = pd.concat([majority,minority_upsampled])\n",
        "\n",
        "  return outDataframe"
      ],
      "execution_count": 0,
      "outputs": []
    },
    {
      "cell_type": "markdown",
      "metadata": {
        "id": "TJex4Fj9tevg",
        "colab_type": "text"
      },
      "source": [
        "### Following functions returns the complete feature list, the list with only numeric values and the list with categorical values:"
      ]
    },
    {
      "cell_type": "code",
      "metadata": {
        "id": "hzaQ0rUSFDVx",
        "colab_type": "code",
        "colab": {}
      },
      "source": [
        "def getFeatureList():\n",
        "  listSize = 0\n",
        "  for y in featureList:\n",
        "    if(y[3] == 1):\n",
        "      if(listSize == 0):\n",
        "        outList = [(y[1])]\n",
        "      else:\n",
        "        outList.append(y[1])\n",
        "      listSize = listSize + 1\n",
        "  return outList"
      ],
      "execution_count": 0,
      "outputs": []
    },
    {
      "cell_type": "code",
      "metadata": {
        "id": "5411y7ntIHJq",
        "colab_type": "code",
        "colab": {}
      },
      "source": [
        "def getFeatureListNumeric():\n",
        "  listSize = 0\n",
        "  for y in featureList:\n",
        "    if((y[3] == 1) and ((y[2] == 'integer') or (y[2] == 'float'))):\n",
        "      if(listSize == 0):\n",
        "        outList = [(y[1])]\n",
        "      else:\n",
        "        outList.append(y[1])\n",
        "      listSize = listSize + 1\n",
        "  return outList"
      ],
      "execution_count": 0,
      "outputs": []
    },
    {
      "cell_type": "code",
      "metadata": {
        "colab_type": "code",
        "id": "7ns5kulNIdXB",
        "colab": {}
      },
      "source": [
        "def getFeatureListCategoric():\n",
        "  listSize = 0\n",
        "  for y in featureList:\n",
        "    if((y[3] == 1) and ((y[2] == 'string') or (y[2] == 'boolean'))):\n",
        "      if(listSize == 0):\n",
        "        outList = [(y[1])]\n",
        "      else:\n",
        "        outList.append(y[1])\n",
        "      listSize = listSize + 1\n",
        "  return outList"
      ],
      "execution_count": 0,
      "outputs": []
    },
    {
      "cell_type": "markdown",
      "metadata": {
        "id": "dkdo_AGQtxZp",
        "colab_type": "text"
      },
      "source": [
        "### Initiate with the execution of feature engineering:"
      ]
    },
    {
      "cell_type": "code",
      "metadata": {
        "id": "8GFxG1dljrtL",
        "colab_type": "code",
        "colab": {}
      },
      "source": [
        "dataset = getModifiedDataframe(original_dataset)\n",
        "dataset = getModifiedTrainingSet(dataset, original_dataset['success'])\n",
        "dataset_prediction = getModifiedDataframe(original_dataset_prediction)\n",
        "dataset_prediction = dataset_prediction[getFeatureList()]"
      ],
      "execution_count": 0,
      "outputs": []
    },
    {
      "cell_type": "markdown",
      "metadata": {
        "id": "Xq305VW7qmq8",
        "colab_type": "text"
      },
      "source": [
        "### Final target feature after oversampling:"
      ]
    },
    {
      "cell_type": "code",
      "metadata": {
        "id": "LWOO-mvQPL46",
        "colab_type": "code",
        "outputId": "8b39b528-b625-41b2-d7b5-dc9a2979d37e",
        "colab": {
          "base_uri": "https://localhost:8080/",
          "height": 316
        }
      },
      "source": [
        "sns.countplot(data=dataset,x=\"success\")"
      ],
      "execution_count": 0,
      "outputs": [
        {
          "output_type": "execute_result",
          "data": {
            "text/plain": [
              "<matplotlib.axes._subplots.AxesSubplot at 0x7f7e64e5a5f8>"
            ]
          },
          "metadata": {
            "tags": []
          },
          "execution_count": 23
        },
        {
          "output_type": "display_data",
          "data": {
            "image/png": "[encoded data removed]",
            "text/plain": [
              "<Figure size 432x288 with 1 Axes>"
            ]
          },
          "metadata": {
            "tags": []
          }
        }
      ]
    },
    {
      "cell_type": "markdown",
      "metadata": {
        "id": "7XYja8NUq52b",
        "colab_type": "text"
      },
      "source": [
        "### Save the Final Feature set and target feature "
      ]
    },
    {
      "cell_type": "code",
      "metadata": {
        "id": "GXtb--5Ytj--",
        "colab_type": "code",
        "colab": {}
      },
      "source": [
        "X = dataset[getFeatureList()]\n",
        "y = dataset['success']"
      ],
      "execution_count": 0,
      "outputs": []
    },
    {
      "cell_type": "markdown",
      "metadata": {
        "id": "uDfq4e-4uVdy",
        "colab_type": "text"
      },
      "source": [
        "### An overview of the important features in data:"
      ]
    },
    {
      "cell_type": "code",
      "metadata": {
        "id": "z4N4IrtKugme",
        "colab_type": "code",
        "colab": {}
      },
      "source": [
        "X_dummie = pd.get_dummies(X, prefix_sep='_', drop_first=True)"
      ],
      "execution_count": 0,
      "outputs": []
    },
    {
      "cell_type": "code",
      "metadata": {
        "id": "Nh3DwKc4uu98",
        "colab_type": "code",
        "outputId": "6ae38b40-62ae-4318-a414-fd43f4df38b3",
        "colab": {
          "base_uri": "https://localhost:8080/",
          "height": 153
        }
      },
      "source": [
        "model = ExtraTreesClassifier()\n",
        "model.fit(X_dummie,y)"
      ],
      "execution_count": 0,
      "outputs": [
        {
          "output_type": "execute_result",
          "data": {
            "text/plain": [
              "ExtraTreesClassifier(bootstrap=False, ccp_alpha=0.0, class_weight=None,\n",
              "                     criterion='gini', max_depth=None, max_features='auto',\n",
              "                     max_leaf_nodes=None, max_samples=None,\n",
              "                     min_impurity_decrease=0.0, min_impurity_split=None,\n",
              "                     min_samples_leaf=1, min_samples_split=2,\n",
              "                     min_weight_fraction_leaf=0.0, n_estimators=100,\n",
              "                     n_jobs=None, oob_score=False, random_state=None, verbose=0,\n",
              "                     warm_start=False)"
            ]
          },
          "metadata": {
            "tags": []
          },
          "execution_count": 26
        }
      ]
    },
    {
      "cell_type": "code",
      "metadata": {
        "id": "AHnrbKWouz7N",
        "colab_type": "code",
        "colab": {}
      },
      "source": [
        "feat_importances = pd.Series(model.feature_importances_, index=X_dummie.columns)"
      ],
      "execution_count": 0,
      "outputs": []
    },
    {
      "cell_type": "markdown",
      "metadata": {
        "id": "Wy8CUIZdu8uF",
        "colab_type": "text"
      },
      "source": [
        "### The top 10 most important features in data:"
      ]
    },
    {
      "cell_type": "code",
      "metadata": {
        "id": "u1fnYCxavFfF",
        "colab_type": "code",
        "outputId": "9158f885-7158-46f0-fd23-ea9b7379d46d",
        "colab": {
          "base_uri": "https://localhost:8080/",
          "height": 265
        }
      },
      "source": [
        "feat_importances.nlargest(10).plot(kind='barh')\n",
        "plt.show()"
      ],
      "execution_count": 0,
      "outputs": [
        {
          "output_type": "display_data",
          "data": {
            "image/png": "[encoded data removed]",
            "text/plain": [
              "<Figure size 432x288 with 1 Axes>"
            ]
          },
          "metadata": {
            "tags": []
          }
        }
      ]
    },
    {
      "cell_type": "markdown",
      "metadata": {
        "id": "65gjnfTOvFG2",
        "colab_type": "text"
      },
      "source": [
        "### The top 15 most unimportant feature in data:"
      ]
    },
    {
      "cell_type": "code",
      "metadata": {
        "id": "fV0DA2jxu9Ga",
        "colab_type": "code",
        "outputId": "3dc8bc97-f40d-4420-9211-cc68fe068d69",
        "colab": {
          "base_uri": "https://localhost:8080/",
          "height": 265
        }
      },
      "source": [
        "feat_importances.nsmallest(15).plot(kind='barh')\n",
        "plt.show()"
      ],
      "execution_count": 0,
      "outputs": [
        {
          "output_type": "display_data",
          "data": {
            "image/png": "[encoded data removed]",
            "text/plain": [
              "<Figure size 432x288 with 1 Axes>"
            ]
          },
          "metadata": {
            "tags": []
          }
        }
      ]
    },
    {
      "cell_type": "markdown",
      "metadata": {
        "id": "bzCHihLktj-6",
        "colab_type": "text"
      },
      "source": [
        "## Model, Pipeline and Scoring Initialization"
      ]
    },
    {
      "cell_type": "code",
      "metadata": {
        "id": "UyP6l1bPxmwi",
        "colab_type": "code",
        "outputId": "957400dd-8808-49dd-f558-8f4bebfa0b12",
        "colab": {
          "base_uri": "https://localhost:8080/",
          "height": 34
        }
      },
      "source": [
        "ratio = float(np.sum(y == \"No\")) / np.sum(y == \"Yes\")\n",
        "f'Optimal ratio at: {ratio}'"
      ],
      "execution_count": 0,
      "outputs": [
        {
          "output_type": "execute_result",
          "data": {
            "text/plain": [
              "'Optimal ratio at: 2.0544375'"
            ]
          },
          "metadata": {
            "tags": []
          },
          "execution_count": 30
        }
      ]
    },
    {
      "cell_type": "code",
      "metadata": {
        "id": "AtICuwCbtj_H",
        "colab_type": "code",
        "colab": {}
      },
      "source": [
        "classifier = xgb.XGBClassifier(n_jobs=-1, random_state=x_random_state, objective='binary:logistic', scale_pos_weight=ratio)"
      ],
      "execution_count": 0,
      "outputs": []
    },
    {
      "cell_type": "code",
      "metadata": {
        "id": "6n7P31bISudv",
        "colab_type": "code",
        "colab": {}
      },
      "source": [
        "x_rscv = StratifiedKFold(n_splits=5, shuffle=True, random_state=x_random_state)\n",
        "x_rscv = x_rscv.split(X, y)"
      ],
      "execution_count": 0,
      "outputs": []
    },
    {
      "cell_type": "markdown",
      "metadata": {
        "id": "AHCkuQ-ucC1X",
        "colab_type": "text"
      },
      "source": [
        "### Setting up scorer for evaluation:"
      ]
    },
    {
      "cell_type": "code",
      "metadata": {
        "id": "UhSvZBZ1tj_R",
        "colab_type": "code",
        "colab": {}
      },
      "source": [
        "recall_scorer = make_scorer(recall_score, average='binary', pos_label='Yes')\n",
        "f1_scorer = make_scorer(f1_score, average='binary', pos_label='Yes')"
      ],
      "execution_count": 0,
      "outputs": []
    },
    {
      "cell_type": "markdown",
      "metadata": {
        "id": "YL2ZyhkEcKh0",
        "colab_type": "text"
      },
      "source": [
        "### Definition of the pipeline:"
      ]
    },
    {
      "cell_type": "code",
      "metadata": {
        "id": "jwLNxvgTtj_Z",
        "colab_type": "code",
        "colab": {}
      },
      "source": [
        "numeric_features = getFeatureListNumeric()\n",
        "numeric_transformer = Pipeline([\n",
        "    ('scaler', MinMaxScaler()),\n",
        "])\n",
        "\n",
        "categorical_features = getFeatureListCategoric()\n",
        "categorical_transformer = Pipeline([\n",
        "    ('onehotencoder', OneHotEncoder(drop='first')),\n",
        "])\n",
        "\n",
        "preprocessor = ColumnTransformer([\n",
        "    ('numeric_transformer', numeric_transformer, numeric_features),\n",
        "    ('categorical_transformer', categorical_transformer, categorical_features)\n",
        "])\n",
        "\n",
        "pipeline = Pipeline([\n",
        "    ('preprocessor', preprocessor),\n",
        "    ('feature_selection', SelectFromModel(LinearSVC(penalty=\"l1\", dual=False, random_state=x_random_state))),\n",
        "    ('classifier', classifier)\n",
        "])"
      ],
      "execution_count": 0,
      "outputs": []
    },
    {
      "cell_type": "markdown",
      "metadata": {
        "id": "R032k3qEcPji",
        "colab_type": "text"
      },
      "source": [
        "### Hyperparameter Tuning with random numbers:"
      ]
    },
    {
      "cell_type": "code",
      "metadata": {
        "id": "RglM927Qtj_p",
        "colab_type": "code",
        "colab": {}
      },
      "source": [
        "param_distributions = {\n",
        "                        \"classifier__learning_rate\": uniform.rvs(0.0001, 0.1, size=x_rscv_n_iter),\n",
        "                        \"classifier__gamma\" : uniform.rvs(0, 2, size=x_rscv_n_iter),\n",
        "                        \"classifier__max_depth\": randint.rvs(2, 100, size=x_rscv_n_iter),\n",
        "                        \"classifier__colsample_bytree\": uniform.rvs(0.1, 0.9, size=x_rscv_n_iter),\n",
        "                        \"classifier__subsample\": uniform.rvs(0.1, 0.9, size=x_rscv_n_iter),\n",
        "                        \"classifier__reg_alpha\": uniform.rvs(0, 0.9, size=x_rscv_n_iter),\n",
        "                        \"classifier__reg_lambda\": uniform.rvs(0.0001, 5, size=x_rscv_n_iter),\n",
        "                        \"classifier__min_child_weight\": randint.rvs(1, 7, size=x_rscv_n_iter),\n",
        "                        \"classifier__n_estimators\": randint.rvs(100, 1000, size=x_rscv_n_iter)\n",
        "                      }"
      ],
      "execution_count": 0,
      "outputs": []
    },
    {
      "cell_type": "code",
      "metadata": {
        "id": "h-cGOMygtj_3",
        "colab_type": "code",
        "colab": {}
      },
      "source": [
        "search = RandomizedSearchCV(\n",
        "    pipeline, param_distributions=param_distributions, n_iter=x_rscv_n_iter, scoring={'recall_score': recall_scorer, 'f1_score': f1_scorer}, \n",
        "    n_jobs=-1, cv=x_rscv, random_state=x_random_state, refit='f1_score', return_train_score=True)"
      ],
      "execution_count": 0,
      "outputs": []
    },
    {
      "cell_type": "markdown",
      "metadata": {
        "id": "NCyCPf5UcWh3",
        "colab_type": "text"
      },
      "source": [
        "### Running the algorithm:"
      ]
    },
    {
      "cell_type": "code",
      "metadata": {
        "id": "osUP_vO-tj_8",
        "colab_type": "code",
        "outputId": "19fa72b1-bbb3-4a3a-ffb9-e1be8bafaac5",
        "colab": {
          "base_uri": "https://localhost:8080/",
          "height": 51
        }
      },
      "source": [
        "search = search.fit(X, y)"
      ],
      "execution_count": 0,
      "outputs": [
        {
          "output_type": "stream",
          "text": [
            "/usr/local/lib/python3.6/dist-packages/sklearn/svm/_base.py:947: ConvergenceWarning: Liblinear failed to converge, increase the number of iterations.\n",
            "  \"the number of iterations.\", ConvergenceWarning)\n"
          ],
          "name": "stderr"
        }
      ]
    },
    {
      "cell_type": "code",
      "metadata": {
        "id": "gD1RC9osIEE6",
        "colab_type": "code",
        "outputId": "19143b43-b520-472d-faee-c39a908b1df7",
        "colab": {
          "base_uri": "https://localhost:8080/",
          "height": 54
        }
      },
      "source": [
        "f'Optimal parameters: {search.best_params_}'"
      ],
      "execution_count": 0,
      "outputs": [
        {
          "output_type": "execute_result",
          "data": {
            "text/plain": [
              "\"Optimal parameters: {'classifier__subsample': 0.4637657024646088, 'classifier__reg_lambda': 0.4953093659056039, 'classifier__reg_alpha': 0.03126189613662087, 'classifier__n_estimators': 875, 'classifier__min_child_weight': 4, 'classifier__max_depth': 85, 'classifier__learning_rate': 0.07498733331720439, 'classifier__gamma': 1.0568887941262566, 'classifier__colsample_bytree': 0.9599632874048281}\""
            ]
          },
          "metadata": {
            "tags": []
          },
          "execution_count": 38
        }
      ]
    },
    {
      "cell_type": "markdown",
      "metadata": {
        "id": "uTxta8l6tkAB",
        "colab_type": "text"
      },
      "source": [
        "## Evaluation"
      ]
    },
    {
      "cell_type": "code",
      "metadata": {
        "id": "l_G8-du6tkAC",
        "colab_type": "code",
        "outputId": "271c173c-5abc-47b5-e585-5b7ba8bf9b17",
        "colab": {
          "base_uri": "https://localhost:8080/",
          "height": 34
        }
      },
      "source": [
        "training_score_f1 = search.cv_results_['mean_train_f1_score'][search.best_index_] * 100\n",
        "test_score_f1 = search.cv_results_['mean_test_f1_score'][search.best_index_] * 100\n",
        "f'Mean F1 Score (Training/Test): {training_score_f1:.2f}%/{test_score_f1:.2f}%'"
      ],
      "execution_count": 0,
      "outputs": [
        {
          "output_type": "execute_result",
          "data": {
            "text/plain": [
              "'Mean F1 Score (Training/Test): 98.95%/91.67%'"
            ]
          },
          "metadata": {
            "tags": []
          },
          "execution_count": 39
        }
      ]
    },
    {
      "cell_type": "code",
      "metadata": {
        "colab_type": "code",
        "id": "EanpXjF-wdD2",
        "outputId": "f51369ee-c1cf-486a-a34e-99a9ae92c0a2",
        "colab": {
          "base_uri": "https://localhost:8080/",
          "height": 34
        }
      },
      "source": [
        "training_score_recall = search.cv_results_['mean_train_recall_score'][search.best_index_] * 100\n",
        "test_score_recall = search.cv_results_['mean_test_recall_score'][search.best_index_] * 100\n",
        "f'Mean Recall Score (Training/Test): {training_score_recall:.2f}%/{test_score_recall:.2f}%'"
      ],
      "execution_count": 0,
      "outputs": [
        {
          "output_type": "execute_result",
          "data": {
            "text/plain": [
              "'Mean Recall Score (Training/Test): 99.98%/98.38%'"
            ]
          },
          "metadata": {
            "tags": []
          },
          "execution_count": 40
        }
      ]
    },
    {
      "cell_type": "code",
      "metadata": {
        "id": "aWgC5RlCw21G",
        "colab_type": "code",
        "outputId": "669e4eb9-e8be-44e5-bb01-af6d98d8c788",
        "colab": {
          "base_uri": "https://localhost:8080/",
          "height": 34
        }
      },
      "source": [
        "mean_fit_time = search.cv_results_['mean_fit_time'][search.best_index_]\n",
        "mean_score_time = search.cv_results_['mean_score_time'][search.best_index_]\n",
        "f'Mean mean_fit_time / mean_score_time: {mean_fit_time:.2f}/{mean_score_time:.2f}'"
      ],
      "execution_count": 0,
      "outputs": [
        {
          "output_type": "execute_result",
          "data": {
            "text/plain": [
              "'Mean mean_fit_time / mean_score_time: 377.06/2.34'"
            ]
          },
          "metadata": {
            "tags": []
          },
          "execution_count": 41
        }
      ]
    },
    {
      "cell_type": "markdown",
      "metadata": {
        "id": "ejCp1lI-9h9c",
        "colab_type": "text"
      },
      "source": [
        "## Write into the Log-File"
      ]
    },
    {
      "cell_type": "code",
      "metadata": {
        "id": "OEWS-tsj9hhp",
        "colab_type": "code",
        "colab": {}
      },
      "source": [
        "# datetime;alpha;lambda;random_state;n_estimators_min;n_estimators_max;max_depth_min;x_max_depth_max;best_n_estimators;best_max_depth;best_learning_rate;f1_training;f1_test;std_train_score;std_test_score\n",
        "\n",
        "logData = [[datetime.now()\n",
        "            ,search.best_params_['classifier__learning_rate']\n",
        "            ,search.best_params_['classifier__gamma']\n",
        "            ,search.best_params_['classifier__max_depth']\n",
        "            ,search.best_params_['classifier__colsample_bytree']\n",
        "            ,search.best_params_['classifier__subsample']\n",
        "            ,search.best_params_['classifier__reg_alpha']\n",
        "            ,search.best_params_['classifier__reg_lambda']\n",
        "            ,search.best_params_['classifier__min_child_weight']\n",
        "            ,search.best_params_['classifier__n_estimators']\n",
        "            ,training_score_f1\n",
        "            ,test_score_f1\n",
        "            ,search.cv_results_['mean_fit_time'][search.best_index_]\n",
        "            ,search.cv_results_['mean_score_time'][search.best_index_]]]\n",
        "with open('log2.csv', 'a') as csvfile:\n",
        "  writer = csv.writer(csvfile, delimiter=';')\n",
        "  writer.writerows(logData)"
      ],
      "execution_count": 0,
      "outputs": []
    },
    {
      "cell_type": "markdown",
      "metadata": {
        "id": "ce1oD7CDtkAO",
        "colab_type": "text"
      },
      "source": [
        "## Prediction"
      ]
    },
    {
      "cell_type": "code",
      "metadata": {
        "id": "njPYhiz5tkAS",
        "colab_type": "code",
        "colab": {}
      },
      "source": [
        "predictions = search.best_estimator_.predict(dataset_prediction)"
      ],
      "execution_count": 0,
      "outputs": []
    },
    {
      "cell_type": "markdown",
      "metadata": {
        "id": "y6H61WM5tkAZ",
        "colab_type": "text"
      },
      "source": [
        "### Submission Dataset Preparation\n",
        "\n",
        "Your upload to the Online-Campus should contain your written report (the actual seminar paper), this notebook as file as well as the generated submission dataset with your predictions."
      ]
    },
    {
      "cell_type": "code",
      "metadata": {
        "id": "PwJtq1XltkAb",
        "colab_type": "code",
        "colab": {}
      },
      "source": [
        "submission = pd.DataFrame(\n",
        "    predictions, index=dataset_prediction.index, columns=['prediction'])"
      ],
      "execution_count": 0,
      "outputs": []
    },
    {
      "cell_type": "code",
      "metadata": {
        "id": "0PFaGgAjtkAh",
        "colab_type": "code",
        "colab": {}
      },
      "source": [
        "matriculation_number = '467429'"
      ],
      "execution_count": 0,
      "outputs": []
    },
    {
      "cell_type": "code",
      "metadata": {
        "id": "i4Rd5zVutkAm",
        "colab_type": "code",
        "colab": {}
      },
      "source": [
        "submission.to_csv(\n",
        "    f'./{test_score_f1:.2f}-submission-{matriculation_number}.csv', index_label='identifier')"
      ],
      "execution_count": 0,
      "outputs": []
    },
    {
      "cell_type": "markdown",
      "metadata": {
        "id": "16tuFXaYwPmR",
        "colab_type": "text"
      },
      "source": [
        "# Nützliche Links\n",
        "* XGboost Implementation: [https://www.datacamp.com/community/tutorials/xgboost-in-python](https://www.datacamp.com/community/tutorials/xgboost-in-python)\n",
        "* XGBoost Parameter List: [https://xgboost.readthedocs.io/en/latest/parameter.html](https://xgboost.readthedocs.io/en/latest/parameter.html)\n",
        "* XGBoost Tuning Parameters: [https://kehuiyao.github.io/2019/03/21/xgboost-tuning-parameters/](https://kehuiyao.github.io/2019/03/21/xgboost-tuning-parameters/)"
      ]
    }
  ]
}
