{
  "nbformat": 4,
  "nbformat_minor": 0,
  "metadata": {
    "kernelspec": {
      "name": "python3",
      "display_name": "Python 3"
    },
    "language_info": {
      "codemirror_mode": {
        "name": "ipython",
        "version": 3
      },
      "file_extension": ".py",
      "mimetype": "text/x-python",
      "name": "python",
      "nbconvert_exporter": "python",
      "pygments_lexer": "ipython3",
      "version": "3.7.4"
    },
    "colab": {
      "name": "prediction_challenge_solution-version_5-resample.ipynb",
      "provenance": [],
      "collapsed_sections": [
        "lEtpbsTkxEaV"
      ],
      "include_colab_link": true
    },
    "accelerator": "GPU"
  },
  "cells": [
    {
      "cell_type": "markdown",
      "metadata": {
        "id": "view-in-github",
        "colab_type": "text"
      },
      "source": [
        "<a href=\"https://colab.research.google.com/github/T1M0THY1337/big-data-prediction-challenge/blob/master/prediction_challenge_solution_version_5_resample.ipynb\" target=\"_parent\"><img src=\"https://colab.research.google.com/assets/colab-badge.svg\" alt=\"Open In Colab\"/></a>"
      ]
    },
    {
      "cell_type": "markdown",
      "metadata": {
        "id": "YNapCUQ9tj-C",
        "colab_type": "text"
      },
      "source": [
        "# Prediction Challange by Sebastian and Tim\n",
        "\n",
        "Your job is to predict whether or not a person will become a customer of a bank. The data itself contains basic demographic information about numerous  customers as well as data related to phone-based marketing calls during specific campaigns."
      ]
    },
    {
      "cell_type": "markdown",
      "metadata": {
        "id": "lEtpbsTkxEaV",
        "colab_type": "text"
      },
      "source": [
        "# Header"
      ]
    },
    {
      "cell_type": "markdown",
      "metadata": {
        "id": "T_8CKo6vuiKW",
        "colab_type": "text"
      },
      "source": [
        "## Version 0.1\n",
        "\n",
        "\n",
        "---\n",
        "\n",
        "\n",
        "**2020-01-29** Feature Engineering (Date), Hyperparameter Tuning\\\n",
        "**2020-01-24** Start mit dem Minimum Working Example"
      ]
    },
    {
      "cell_type": "markdown",
      "metadata": {
        "id": "yYyRmTQNtj-F",
        "colab_type": "text"
      },
      "source": [
        "## Data Dictionary\n",
        "\n",
        "<table style=\"width: 100%;\">\n",
        "    <thead>\n",
        "        <tr>\n",
        "            <th style=\"width: 30%; text-align: left;\">Feature</th>\n",
        "            <th style=\"width: 70%; text-align: left;\">Description</th>\n",
        "        </tr>\n",
        "    </thead>\n",
        "    <tbody>\n",
        "        <tr>\n",
        "            <td>date</td>\n",
        "            <td>The last contact date</td>\n",
        "        </tr>\n",
        "        <tr>\n",
        "            <td>age</td>\n",
        "            <td>The age of the customer</td>\n",
        "        </tr>\n",
        "        <tr>\n",
        "            <td>marital_status</td>\n",
        "            <td>The marital status of the customer</td>\n",
        "        </tr>\n",
        "        <tr>\n",
        "            <td>education</td>\n",
        "            <td>The educationan of the customer</td>\n",
        "        </tr>\n",
        "        <tr>\n",
        "            <td>job</td>\n",
        "            <td>The type of job of the customer</td>\n",
        "        </tr>\n",
        "        <tr>\n",
        "            <td>credit_default</td>\n",
        "            <td>Whether or not the customer has a credit in default</td>\n",
        "        </tr>\n",
        "        <tr>\n",
        "            <td>housing_loan</td>\n",
        "            <td>Whether or not the customer has a housing loan</td>\n",
        "        </tr>\n",
        "        <tr>\n",
        "            <td>personal_loan</td>\n",
        "            <td>Whether or not the customer has a personal loan</td>\n",
        "        </tr>\n",
        "        <tr>\n",
        "            <td>communication_type</td>\n",
        "            <td>The type of contact communication</td>\n",
        "        </tr>\n",
        "        <tr>\n",
        "            <td>n_contacts_campaign</td>\n",
        "            <td>The number of contacts performed during this marketing campaign and for this customer</td>\n",
        "        </tr>\n",
        "        <tr>\n",
        "            <td>days_since_last_contact</td>\n",
        "            <td>The number of days passed by after the customer was last contacted from a previous domain</td>\n",
        "        </tr>\n",
        "        <tr>\n",
        "            <td>n_contacts_before</td>\n",
        "            <td>The number of contacts performed before this marketing campaign and for this customer</td>\n",
        "        </tr>\n",
        "        <tr>\n",
        "            <td>previous_conversion</td>\n",
        "            <td>Whether or not the customer has been a customer before</td>\n",
        "        </tr>\n",
        "        <tr>\n",
        "            <td>success</td>\n",
        "            <td>Whether or not the customer became an actual customer (target variable)</td>\n",
        "        </tr>\n",
        "    </tbody>   \n",
        "</table>   "
      ]
    },
    {
      "cell_type": "markdown",
      "metadata": {
        "id": "I-ZH8xKaxLGH",
        "colab_type": "text"
      },
      "source": [
        "# Programming"
      ]
    },
    {
      "cell_type": "markdown",
      "metadata": {
        "id": "GGyVwYL-tj-H",
        "colab_type": "text"
      },
      "source": [
        "## Package Import"
      ]
    },
    {
      "cell_type": "code",
      "metadata": {
        "id": "zNkzZA6xtj-L",
        "colab_type": "code",
        "colab": {}
      },
      "source": [
        "import numpy as np\n",
        "import pandas as pd\n",
        "import xgboost as xgb\n",
        "import sys as sys\n",
        "import csv, datetime\n",
        "from datetime import datetime\n",
        "from scipy.stats import uniform, randint\n",
        "from sklearn.compose import ColumnTransformer\n",
        "from sklearn.metrics import f1_score, make_scorer, roc_auc_score, roc_curve, recall_score, precision_score\n",
        "from sklearn.model_selection import RandomizedSearchCV, cross_validate, StratifiedKFold\n",
        "from sklearn.pipeline import Pipeline\n",
        "from sklearn.preprocessing import MinMaxScaler, LabelEncoder, OneHotEncoder"
      ],
      "execution_count": 0,
      "outputs": []
    },
    {
      "cell_type": "code",
      "metadata": {
        "id": "wbSQ5Kh8-0v5",
        "colab_type": "code",
        "colab": {}
      },
      "source": [
        "import matplotlib.pyplot as plt\n",
        "import seaborn as sns"
      ],
      "execution_count": 0,
      "outputs": []
    },
    {
      "cell_type": "markdown",
      "metadata": {
        "id": "PRXDmV7stj-W",
        "colab_type": "text"
      },
      "source": [
        "## Data Import"
      ]
    },
    {
      "cell_type": "code",
      "metadata": {
        "id": "JL64eb7ztj-Z",
        "colab_type": "code",
        "colab": {}
      },
      "source": [
        "dataset = pd.read_csv(\n",
        "    'https://raw.githubusercontent.com/saschaschworm/big-data-and-data-science/' +\n",
        "    'master/datasets/prediction-challenge/dataset.csv', \n",
        "    index_col='identifier', parse_dates=['date'])\n",
        "\n",
        "prediction_dataset = pd.read_csv(\n",
        "    'https://raw.githubusercontent.com/saschaschworm/big-data-and-data-science/' +\n",
        "    'master/datasets/prediction-challenge/prediction-dataset.csv', \n",
        "    index_col='identifier', parse_dates=['date'])"
      ],
      "execution_count": 0,
      "outputs": []
    },
    {
      "cell_type": "markdown",
      "metadata": {
        "id": "gbrn1ws79IjG",
        "colab_type": "text"
      },
      "source": [
        "## Options"
      ]
    },
    {
      "cell_type": "code",
      "metadata": {
        "id": "seaxsZE89Iy8",
        "colab_type": "code",
        "colab": {}
      },
      "source": [
        "x_random_state = 1909"
      ],
      "execution_count": 0,
      "outputs": []
    },
    {
      "cell_type": "markdown",
      "metadata": {
        "id": "DxVLYLqEtj-v",
        "colab_type": "text"
      },
      "source": [
        "## Feature Engineering"
      ]
    },
    {
      "cell_type": "code",
      "metadata": {
        "id": "-R43QutQtj-x",
        "colab_type": "code",
        "colab": {}
      },
      "source": [
        "# Create some new features based on the given features\n",
        "# or enrich the dataset with features from datasets."
      ],
      "execution_count": 0,
      "outputs": []
    },
    {
      "cell_type": "code",
      "metadata": {
        "id": "DzRxR-JG-H1A",
        "colab_type": "code",
        "colab": {
          "base_uri": "https://localhost:8080/",
          "height": 296
        },
        "outputId": "c889e872-95e2-4cf8-ba52-ea92c774f4d7"
      },
      "source": [
        "sns.countplot(data=dataset,x=\"success\")"
      ],
      "execution_count": 67,
      "outputs": [
        {
          "output_type": "execute_result",
          "data": {
            "text/plain": [
              "<matplotlib.axes._subplots.AxesSubplot at 0x7ff29e7eaeb8>"
            ]
          },
          "metadata": {
            "tags": []
          },
          "execution_count": 67
        },
        {
          "output_type": "display_data",
          "data": {
            "image/png": "[encoded data removed]",
            "text/plain": [
              "<Figure size 432x288 with 1 Axes>"
            ]
          },
          "metadata": {
            "tags": []
          }
        }
      ]
    },
    {
      "cell_type": "code",
      "metadata": {
        "id": "UvKcKeMg8u9Z",
        "colab_type": "code",
        "colab": {}
      },
      "source": [
        "# https://www.kaggle.com/anilkay/handleimbalanceddataclassification\n",
        "\n",
        "from sklearn.utils import resample\n",
        "\n",
        "majority=dataset[dataset[\"success\"]==\"No\"]\n",
        "minority=dataset[dataset[\"success\"]==\"Yes\"]\n",
        "\n",
        "minority_upsampled = resample(minority, \n",
        "                                 replace=True,     # sample with replacement\n",
        "                                 n_samples=15000,    # to match majority class\n",
        "                                 random_state=x_random_state) # reproducible results\n",
        "dataset=pd.concat([majority,minority_upsampled])"
      ],
      "execution_count": 0,
      "outputs": []
    },
    {
      "cell_type": "code",
      "metadata": {
        "id": "JOErA_yp-Xpw",
        "colab_type": "code",
        "colab": {
          "base_uri": "https://localhost:8080/",
          "height": 296
        },
        "outputId": "07f14555-e539-49e1-d4e5-59184b89b1cb"
      },
      "source": [
        "sns.countplot(data=dataset,x=\"success\")"
      ],
      "execution_count": 69,
      "outputs": [
        {
          "output_type": "execute_result",
          "data": {
            "text/plain": [
              "<matplotlib.axes._subplots.AxesSubplot at 0x7ff29e6bfc50>"
            ]
          },
          "metadata": {
            "tags": []
          },
          "execution_count": 69
        },
        {
          "output_type": "display_data",
          "data": {
            "image/png": "[encoded data removed]",
            "text/plain": [
              "<Figure size 432x288 with 1 Axes>"
            ]
          },
          "metadata": {
            "tags": []
          }
        }
      ]
    },
    {
      "cell_type": "code",
      "metadata": {
        "id": "8-qz5y9cTYOB",
        "colab_type": "code",
        "colab": {}
      },
      "source": [
        "def getYear(inDate):\n",
        "  return inDate.year\n",
        "def getMonth(inDate):\n",
        "  return inDate.month\n",
        "def getWeekday(inDate):\n",
        "  return inDate.weekday\n",
        "def getWeekendDay(inDate):\n",
        "  if (inDate.weekday == 'Saturday') or (inDate.weekday == 'Sunday'):\n",
        "    return True\n",
        "  else:\n",
        "    return False\n",
        "def getAgeGroups(inAge):\n",
        "  if (inAge < 28):\n",
        "    return 'young'\n",
        "  elif (49 > inAge > 27):\n",
        "    return 'younger'\n",
        "  elif (61 > inAge > 48):\n",
        "    return 'older'\n",
        "  else:\n",
        "    return 'old'\n",
        "\n",
        "def getDurationGroupsA(inDuration):\n",
        "  if (inDuration < 250):\n",
        "    return 'very_short'\n",
        "  elif (250 < inDuration < 500):\n",
        "    return 'short'\n",
        "  elif (500 < inDuration < 750):\n",
        "    return 'lower_medium'\n",
        "  elif (750 < inDuration < 1000):\n",
        "    return 'medium'\n",
        "  elif (1000 < inDuration < 1250):\n",
        "    return 'higher_medium'\n",
        "  elif (1250 < inDuration < 1500):\n",
        "    return 'long'\n",
        "  elif (1500 < inDuration < 1750):\n",
        "    return 'very_long'\n",
        "  else:\n",
        "    return 'very_big_call'\n",
        "\n",
        "def getDurationGroupsB(inDuration):\n",
        "  if (inDuration < 250):\n",
        "    return 0\n",
        "  elif (250 < inDuration < 500):\n",
        "    return 1\n",
        "  elif (500 < inDuration < 750):\n",
        "    return 2\n",
        "  elif (750 < inDuration < 1000):\n",
        "    return 3\n",
        "  elif (1000 < inDuration < 1250):\n",
        "    return 4\n",
        "  elif (1250 < inDuration < 1500):\n",
        "    return 5\n",
        "  elif (1500 < inDuration < 1750):\n",
        "    return 6\n",
        "  else:\n",
        "    return 7\n",
        "\n",
        "def getSeasons(inMonth):\n",
        "  if(3 < inMonth < 6):\n",
        "    return 'spring'\n",
        "  if(5 < inMonth < 9):\n",
        "    return 'summer'\n",
        "  if(8 < inMonth < 12):\n",
        "    return 'fall'\n",
        "  else:\n",
        "    return 'winter'\n",
        "\n",
        "dataset['date'] = pd.to_datetime(dataset['date'])\n",
        "dataset.insert(1, \"dateYear\", dataset['date'], allow_duplicates=True)\n",
        "dataset.insert(2, \"dateMonth\", dataset['date'], allow_duplicates=True)\n",
        "dataset.insert(3, \"dateWeekday\", dataset['date'], allow_duplicates=True)\n",
        "dataset.insert(4, \"dateWeekendDay\", dataset['date'], allow_duplicates=True)\n",
        "\n",
        "dataset.insert(6, \"ageGroups\", dataset['age'], allow_duplicates=True)\n",
        "dataset.insert(19, \"durationGroups\", dataset['duration'], allow_duplicates=True)\n",
        "\n",
        "# dataset.dateYear = dataset.dateYear.apply(getYear)\n",
        "# dataset.dateMonth = dataset.dateMonth.apply(getMonth)\n",
        "\n",
        "dataset.dateYear = dataset['dateYear'].dt.year\n",
        "dataset.dateMonth = dataset['dateMonth'].dt.month\n",
        "dataset.dateWeekday = dataset['dateWeekday'].dt.weekday_name\n",
        "dataset.dateWeekendDay = dataset.dateWeekendDay.apply(getWeekendDay)\n",
        "dataset.ageGroups = dataset.ageGroups.apply(getAgeGroups)\n",
        "dataset.durationGroups = dataset.durationGroups.apply(getDurationGroupsA)\n",
        "\n",
        "dataset.insert(5, \"dateSeason\", dataset['dateMonth'], allow_duplicates=True)\n",
        "dataset.dateSeason = dataset.dateSeason.apply(getSeasons)"
      ],
      "execution_count": 0,
      "outputs": []
    },
    {
      "cell_type": "code",
      "metadata": {
        "id": "eHYEOvZ4peLZ",
        "colab_type": "code",
        "colab": {
          "base_uri": "https://localhost:8080/",
          "height": 148
        },
        "outputId": "bbbd7af4-e688-4571-dfa8-0ee8ecd88b71"
      },
      "source": [
        "dataset.head(1)"
      ],
      "execution_count": 71,
      "outputs": [
        {
          "output_type": "execute_result",
          "data": {
            "text/html": [
              "<div>\n",
              "<style scoped>\n",
              "    .dataframe tbody tr th:only-of-type {\n",
              "        vertical-align: middle;\n",
              "    }\n",
              "\n",
              "    .dataframe tbody tr th {\n",
              "        vertical-align: top;\n",
              "    }\n",
              "\n",
              "    .dataframe thead th {\n",
              "        text-align: right;\n",
              "    }\n",
              "</style>\n",
              "<table border=\"1\" class=\"dataframe\">\n",
              "  <thead>\n",
              "    <tr style=\"text-align: right;\">\n",
              "      <th></th>\n",
              "      <th>date</th>\n",
              "      <th>dateYear</th>\n",
              "      <th>dateMonth</th>\n",
              "      <th>dateWeekday</th>\n",
              "      <th>dateWeekendDay</th>\n",
              "      <th>dateSeason</th>\n",
              "      <th>age</th>\n",
              "      <th>ageGroups</th>\n",
              "      <th>marital_status</th>\n",
              "      <th>education</th>\n",
              "      <th>job</th>\n",
              "      <th>credit_default</th>\n",
              "      <th>housing_loan</th>\n",
              "      <th>personal_loan</th>\n",
              "      <th>communication_type</th>\n",
              "      <th>n_contacts_campaign</th>\n",
              "      <th>days_since_last_contact</th>\n",
              "      <th>n_contacts_before</th>\n",
              "      <th>previous_conversion</th>\n",
              "      <th>duration</th>\n",
              "      <th>durationGroups</th>\n",
              "      <th>success</th>\n",
              "    </tr>\n",
              "    <tr>\n",
              "      <th>identifier</th>\n",
              "      <th></th>\n",
              "      <th></th>\n",
              "      <th></th>\n",
              "      <th></th>\n",
              "      <th></th>\n",
              "      <th></th>\n",
              "      <th></th>\n",
              "      <th></th>\n",
              "      <th></th>\n",
              "      <th></th>\n",
              "      <th></th>\n",
              "      <th></th>\n",
              "      <th></th>\n",
              "      <th></th>\n",
              "      <th></th>\n",
              "      <th></th>\n",
              "      <th></th>\n",
              "      <th></th>\n",
              "      <th></th>\n",
              "      <th></th>\n",
              "      <th></th>\n",
              "      <th></th>\n",
              "    </tr>\n",
              "  </thead>\n",
              "  <tbody>\n",
              "    <tr>\n",
              "      <th>34203</th>\n",
              "      <td>2009-05-06</td>\n",
              "      <td>2009</td>\n",
              "      <td>5</td>\n",
              "      <td>Wednesday</td>\n",
              "      <td>False</td>\n",
              "      <td>spring</td>\n",
              "      <td>36</td>\n",
              "      <td>younger</td>\n",
              "      <td>divorced</td>\n",
              "      <td>High School</td>\n",
              "      <td>Service provider</td>\n",
              "      <td>No</td>\n",
              "      <td>No</td>\n",
              "      <td>Yes</td>\n",
              "      <td>Landline network</td>\n",
              "      <td>5</td>\n",
              "      <td>-1</td>\n",
              "      <td>0</td>\n",
              "      <td>Inexistent</td>\n",
              "      <td>992</td>\n",
              "      <td>medium</td>\n",
              "      <td>No</td>\n",
              "    </tr>\n",
              "  </tbody>\n",
              "</table>\n",
              "</div>"
            ],
            "text/plain": [
              "                 date  dateYear  dateMonth  ... duration  durationGroups success\n",
              "identifier                                  ...                                 \n",
              "34203      2009-05-06      2009          5  ...      992          medium      No\n",
              "\n",
              "[1 rows x 22 columns]"
            ]
          },
          "metadata": {
            "tags": []
          },
          "execution_count": 71
        }
      ]
    },
    {
      "cell_type": "markdown",
      "metadata": {
        "id": "bzCHihLktj-6",
        "colab_type": "text"
      },
      "source": [
        "## Model, Pipeline and Scoring Initialization"
      ]
    },
    {
      "cell_type": "code",
      "metadata": {
        "id": "GXtb--5Ytj--",
        "colab_type": "code",
        "colab": {}
      },
      "source": [
        "# dataset[['date', 'age', 'marital_status', 'education', 'job', 'credit_default', 'housing_loan', 'personal_loan', 'communication_type', 'n_contacts_campaign', 'days_since_last_contact', 'n_contacts_before', 'previous_conversion', 'duration']]\n",
        "\n",
        "X = dataset[['dateYear', 'dateMonth', 'dateWeekday', 'dateSeason', 'ageGroups', 'marital_status', 'education', 'job', 'credit_default', 'housing_loan', 'personal_loan', 'communication_type', 'n_contacts_campaign', 'days_since_last_contact', 'n_contacts_before', 'previous_conversion', 'duration', 'durationGroups']]\n",
        "y = dataset['success']"
      ],
      "execution_count": 0,
      "outputs": []
    },
    {
      "cell_type": "markdown",
      "metadata": {
        "id": "70l38BP0xoEh",
        "colab_type": "text"
      },
      "source": [
        "## Handle Imbalanced Dataset\n",
        "with Parameter fpr xgboost: scale_pos_weight"
      ]
    },
    {
      "cell_type": "code",
      "metadata": {
        "id": "UyP6l1bPxmwi",
        "colab_type": "code",
        "colab": {
          "base_uri": "https://localhost:8080/",
          "height": 34
        },
        "outputId": "b11412c1-67a9-45bb-ef33-43225f5c358f"
      },
      "source": [
        "ratio = float(np.sum(y == \"No\")) / np.sum(y == \"Yes\")\n",
        "ratio"
      ],
      "execution_count": 73,
      "outputs": [
        {
          "output_type": "execute_result",
          "data": {
            "text/plain": [
              "2.1928666666666667"
            ]
          },
          "metadata": {
            "tags": []
          },
          "execution_count": 73
        }
      ]
    },
    {
      "cell_type": "code",
      "metadata": {
        "id": "v0f-nV_LS2Lw",
        "colab_type": "code",
        "colab": {}
      },
      "source": [
        "# xgb.XGBClassifier?"
      ],
      "execution_count": 0,
      "outputs": []
    },
    {
      "cell_type": "code",
      "metadata": {
        "id": "AtICuwCbtj_H",
        "colab_type": "code",
        "colab": {}
      },
      "source": [
        "classifier = xgb.XGBClassifier(n_jobs=-1, random_state=x_random_state, objective='binary:logistic', scale_pos_weight=ratio)"
      ],
      "execution_count": 0,
      "outputs": []
    },
    {
      "cell_type": "code",
      "metadata": {
        "id": "6n7P31bISudv",
        "colab_type": "code",
        "colab": {}
      },
      "source": [
        "x_rscv = StratifiedKFold(n_splits=5, shuffle=True, random_state=x_random_state)\n",
        "x_rscv = x_rscv.split(X, y)"
      ],
      "execution_count": 0,
      "outputs": []
    },
    {
      "cell_type": "code",
      "metadata": {
        "id": "UhSvZBZ1tj_R",
        "colab_type": "code",
        "colab": {}
      },
      "source": [
        "#scorer = make_scorer(f1_score, pos_label='Yes')\n",
        "\n",
        "recall_scorer = make_scorer(recall_score, average='binary', pos_label='Yes')\n",
        "f1_scorer = make_scorer(f1_score, average='binary', pos_label='Yes')"
      ],
      "execution_count": 0,
      "outputs": []
    },
    {
      "cell_type": "code",
      "metadata": {
        "id": "jwLNxvgTtj_Z",
        "colab_type": "code",
        "colab": {}
      },
      "source": [
        "numeric_features = ['n_contacts_campaign', 'days_since_last_contact', 'n_contacts_before', 'duration']\n",
        "numeric_transformer = Pipeline([\n",
        "    ('scaler', MinMaxScaler()),\n",
        "])\n",
        "\n",
        "categorical_features = ['dateYear', 'dateMonth', 'dateWeekday', 'dateSeason', 'ageGroups', 'marital_status', 'education', 'job', 'credit_default', 'housing_loan', 'personal_loan', 'communication_type', 'previous_conversion', 'durationGroups']\n",
        "categorical_transformer = Pipeline([\n",
        "    ('onehotencoder', OneHotEncoder(drop='first')),\n",
        "])\n",
        "\n",
        "preprocessor = ColumnTransformer([\n",
        "    ('numeric_transformer', numeric_transformer, numeric_features),\n",
        "    ('categorical_transformer', categorical_transformer, categorical_features)\n",
        "])\n",
        "\n",
        "pipeline = Pipeline([\n",
        "    ('preprocessor', preprocessor),\n",
        "    ('classifier', classifier)\n",
        "])"
      ],
      "execution_count": 0,
      "outputs": []
    },
    {
      "cell_type": "code",
      "metadata": {
        "id": "RglM927Qtj_p",
        "colab_type": "code",
        "colab": {}
      },
      "source": [
        "param_distributions = {\n",
        "                        \"classifier__learning_rate\": uniform.rvs(0.0001, 0.1, size=20),\n",
        "                        \"classifier__gamma\" : uniform.rvs(0, 2, size=20),\n",
        "                        \"classifier__max_depth\": randint.rvs(2, 100, size=20),\n",
        "                        \"classifier__colsample_bytree\": uniform.rvs(0.1, 0.9, size=20),\n",
        "                        \"classifier__subsample\": uniform.rvs(0.1, 0.9, size=20),\n",
        "                        \"classifier__reg_alpha\": uniform.rvs(0, 0.9, size=20),\n",
        "                        \"classifier__reg_lambda\": uniform.rvs(0.0001, 5, size=20),\n",
        "                        \"classifier__min_child_weight\": randint.rvs(1, 7, size=20),\n",
        "                        \"classifier__n_estimators\": randint.rvs(100, 1000, size=20)\n",
        "                      }"
      ],
      "execution_count": 0,
      "outputs": []
    },
    {
      "cell_type": "code",
      "metadata": {
        "id": "h-cGOMygtj_3",
        "colab_type": "code",
        "colab": {}
      },
      "source": [
        "search = RandomizedSearchCV(\n",
        "    pipeline, param_distributions=param_distributions, n_iter=10, scoring={'recall_score': recall_scorer, 'f1_score': f1_scorer, 'AUC': 'roc_auc'}, \n",
        "    n_jobs=-1, cv=x_rscv, random_state=x_random_state, refit='recall_score', return_train_score=True)"
      ],
      "execution_count": 0,
      "outputs": []
    },
    {
      "cell_type": "code",
      "metadata": {
        "id": "osUP_vO-tj_8",
        "colab_type": "code",
        "colab": {}
      },
      "source": [
        "search = search.fit(X, y)"
      ],
      "execution_count": 0,
      "outputs": []
    },
    {
      "cell_type": "code",
      "metadata": {
        "id": "isW770lrosok",
        "colab_type": "code",
        "colab": {
          "base_uri": "https://localhost:8080/",
          "height": 1000
        },
        "outputId": "497c2d45-b6be-4698-e136-b037123eae0a"
      },
      "source": [
        "search.cv_results_"
      ],
      "execution_count": 82,
      "outputs": [
        {
          "output_type": "execute_result",
          "data": {
            "text/plain": [
              "{'mean_fit_time': array([  8.72622619, 118.83883801,   8.45440593,  61.37715654,\n",
              "         40.02890368,  32.93415647,  20.77072568,  15.96230493,\n",
              "         64.75027528,  86.17803445]),\n",
              " 'mean_score_time': array([0.90630059, 6.97272072, 0.8840723 , 3.93803   , 3.57120805,\n",
              "        2.14082327, 1.39896731, 1.17013283, 4.08039694, 3.8323566 ]),\n",
              " 'mean_test_AUC': array([0.9528007 , 0.98475951, 0.94176612, 0.98231086, 0.96267502,\n",
              "        0.97256295, 0.97860368, 0.95539566, 0.98368838, 0.98817513]),\n",
              " 'mean_test_f1_score': array([0.83252435, 0.90829993, 0.8116179 , 0.90465773, 0.86386478,\n",
              "        0.88706837, 0.89329117, 0.84161244, 0.90828302, 0.91553225]),\n",
              " 'mean_test_recall_score': array([0.93726667, 0.98153333, 0.91726667, 0.98266667, 0.9552    ,\n",
              "        0.96973333, 0.97413333, 0.9378    , 0.9824    , 0.982     ]),\n",
              " 'mean_train_AUC': array([0.96025875, 0.99977984, 0.94357919, 0.9993541 , 0.97949977,\n",
              "        0.99428705, 0.99632361, 0.96542567, 0.99980636, 0.99999933]),\n",
              " 'mean_train_f1_score': array([0.84134202, 0.97470038, 0.81385068, 0.96312948, 0.89010509,\n",
              "        0.93193781, 0.93646632, 0.85635598, 0.97659557, 0.99846901]),\n",
              " 'mean_train_recall_score': array([0.94585   , 0.9991    , 0.9202    , 0.9985    , 0.97801667,\n",
              "        0.9919    , 0.99451667, 0.95236667, 0.99933333, 0.99996667]),\n",
              " 'param_classifier__colsample_bytree': masked_array(data=[0.399282152420369, 0.4578617916615041,\n",
              "                    0.5941306314883432, 0.5226075917234883,\n",
              "                    0.399282152420369, 0.8000072904450488,\n",
              "                    0.4045920491046734, 0.8616791402137484,\n",
              "                    0.595343812456806, 0.8616791402137484],\n",
              "              mask=[False, False, False, False, False, False, False, False,\n",
              "                    False, False],\n",
              "        fill_value='?',\n",
              "             dtype=object),\n",
              " 'param_classifier__gamma': masked_array(data=[0.25383467187393105, 1.5122713374362533,\n",
              "                    0.06911259189123564, 0.5221927921022986,\n",
              "                    1.5122713374362533, 0.5221927921022986,\n",
              "                    1.377570512979065, 0.1881609762157337,\n",
              "                    0.06911259189123564, 0.3250862475040406],\n",
              "              mask=[False, False, False, False, False, False, False, False,\n",
              "                    False, False],\n",
              "        fill_value='?',\n",
              "             dtype=object),\n",
              " 'param_classifier__learning_rate': masked_array(data=[0.06412340862806493, 0.028240140178693963,\n",
              "                    0.008843755347202798, 0.041207625579580034,\n",
              "                    0.059099364663633774, 0.07319691451045775,\n",
              "                    0.04752304081869499, 0.0298403940075888,\n",
              "                    0.04800921210417008, 0.04752304081869499],\n",
              "              mask=[False, False, False, False, False, False, False, False,\n",
              "                    False, False],\n",
              "        fill_value='?',\n",
              "             dtype=object),\n",
              " 'param_classifier__max_depth': masked_array(data=[5, 49, 5, 63, 63, 66, 73, 86, 44, 46],\n",
              "              mask=[False, False, False, False, False, False, False, False,\n",
              "                    False, False],\n",
              "        fill_value='?',\n",
              "             dtype=object),\n",
              " 'param_classifier__min_child_weight': masked_array(data=[5, 3, 5, 5, 5, 2, 2, 3, 5, 1],\n",
              "              mask=[False, False, False, False, False, False, False, False,\n",
              "                    False, False],\n",
              "        fill_value='?',\n",
              "             dtype=object),\n",
              " 'param_classifier__n_estimators': masked_array(data=[300, 963, 311, 518, 889, 367, 192, 221, 529, 477],\n",
              "              mask=[False, False, False, False, False, False, False, False,\n",
              "                    False, False],\n",
              "        fill_value='?',\n",
              "             dtype=object),\n",
              " 'param_classifier__reg_alpha': masked_array(data=[0.7721068387574775, 0.24918197433184924,\n",
              "                    0.1514993523361089, 0.5238945533823781,\n",
              "                    0.7721068387574775, 0.5144874660630586,\n",
              "                    0.5440373483418036, 0.5238945533823781,\n",
              "                    0.5440373483418036, 0.21211981846197733],\n",
              "              mask=[False, False, False, False, False, False, False, False,\n",
              "                    False, False],\n",
              "        fill_value='?',\n",
              "             dtype=object),\n",
              " 'param_classifier__reg_lambda': masked_array(data=[2.1342780246962847, 1.792897875699958,\n",
              "                    1.792897875699958, 3.3281957219036458,\n",
              "                    2.152388330206869, 1.792897875699958,\n",
              "                    0.038599104795646225, 1.8770598746568672,\n",
              "                    0.6932619165869301, 1.4337208970590998],\n",
              "              mask=[False, False, False, False, False, False, False, False,\n",
              "                    False, False],\n",
              "        fill_value='?',\n",
              "             dtype=object),\n",
              " 'param_classifier__subsample': masked_array(data=[0.6342669688096124, 0.8298951492918261,\n",
              "                    0.17838760829085024, 0.8298951492918261,\n",
              "                    0.1433927190816793, 0.15822151193843237,\n",
              "                    0.5161225739347615, 0.10601837016718496,\n",
              "                    0.6342669688096124, 0.5161225739347615],\n",
              "              mask=[False, False, False, False, False, False, False, False,\n",
              "                    False, False],\n",
              "        fill_value='?',\n",
              "             dtype=object),\n",
              " 'params': [{'classifier__colsample_bytree': 0.399282152420369,\n",
              "   'classifier__gamma': 0.25383467187393105,\n",
              "   'classifier__learning_rate': 0.06412340862806493,\n",
              "   'classifier__max_depth': 5,\n",
              "   'classifier__min_child_weight': 5,\n",
              "   'classifier__n_estimators': 300,\n",
              "   'classifier__reg_alpha': 0.7721068387574775,\n",
              "   'classifier__reg_lambda': 2.1342780246962847,\n",
              "   'classifier__subsample': 0.6342669688096124},\n",
              "  {'classifier__colsample_bytree': 0.4578617916615041,\n",
              "   'classifier__gamma': 1.5122713374362533,\n",
              "   'classifier__learning_rate': 0.028240140178693963,\n",
              "   'classifier__max_depth': 49,\n",
              "   'classifier__min_child_weight': 3,\n",
              "   'classifier__n_estimators': 963,\n",
              "   'classifier__reg_alpha': 0.24918197433184924,\n",
              "   'classifier__reg_lambda': 1.792897875699958,\n",
              "   'classifier__subsample': 0.8298951492918261},\n",
              "  {'classifier__colsample_bytree': 0.5941306314883432,\n",
              "   'classifier__gamma': 0.06911259189123564,\n",
              "   'classifier__learning_rate': 0.008843755347202798,\n",
              "   'classifier__max_depth': 5,\n",
              "   'classifier__min_child_weight': 5,\n",
              "   'classifier__n_estimators': 311,\n",
              "   'classifier__reg_alpha': 0.1514993523361089,\n",
              "   'classifier__reg_lambda': 1.792897875699958,\n",
              "   'classifier__subsample': 0.17838760829085024},\n",
              "  {'classifier__colsample_bytree': 0.5226075917234883,\n",
              "   'classifier__gamma': 0.5221927921022986,\n",
              "   'classifier__learning_rate': 0.041207625579580034,\n",
              "   'classifier__max_depth': 63,\n",
              "   'classifier__min_child_weight': 5,\n",
              "   'classifier__n_estimators': 518,\n",
              "   'classifier__reg_alpha': 0.5238945533823781,\n",
              "   'classifier__reg_lambda': 3.3281957219036458,\n",
              "   'classifier__subsample': 0.8298951492918261},\n",
              "  {'classifier__colsample_bytree': 0.399282152420369,\n",
              "   'classifier__gamma': 1.5122713374362533,\n",
              "   'classifier__learning_rate': 0.059099364663633774,\n",
              "   'classifier__max_depth': 63,\n",
              "   'classifier__min_child_weight': 5,\n",
              "   'classifier__n_estimators': 889,\n",
              "   'classifier__reg_alpha': 0.7721068387574775,\n",
              "   'classifier__reg_lambda': 2.152388330206869,\n",
              "   'classifier__subsample': 0.1433927190816793},\n",
              "  {'classifier__colsample_bytree': 0.8000072904450488,\n",
              "   'classifier__gamma': 0.5221927921022986,\n",
              "   'classifier__learning_rate': 0.07319691451045775,\n",
              "   'classifier__max_depth': 66,\n",
              "   'classifier__min_child_weight': 2,\n",
              "   'classifier__n_estimators': 367,\n",
              "   'classifier__reg_alpha': 0.5144874660630586,\n",
              "   'classifier__reg_lambda': 1.792897875699958,\n",
              "   'classifier__subsample': 0.15822151193843237},\n",
              "  {'classifier__colsample_bytree': 0.4045920491046734,\n",
              "   'classifier__gamma': 1.377570512979065,\n",
              "   'classifier__learning_rate': 0.04752304081869499,\n",
              "   'classifier__max_depth': 73,\n",
              "   'classifier__min_child_weight': 2,\n",
              "   'classifier__n_estimators': 192,\n",
              "   'classifier__reg_alpha': 0.5440373483418036,\n",
              "   'classifier__reg_lambda': 0.038599104795646225,\n",
              "   'classifier__subsample': 0.5161225739347615},\n",
              "  {'classifier__colsample_bytree': 0.8616791402137484,\n",
              "   'classifier__gamma': 0.1881609762157337,\n",
              "   'classifier__learning_rate': 0.0298403940075888,\n",
              "   'classifier__max_depth': 86,\n",
              "   'classifier__min_child_weight': 3,\n",
              "   'classifier__n_estimators': 221,\n",
              "   'classifier__reg_alpha': 0.5238945533823781,\n",
              "   'classifier__reg_lambda': 1.8770598746568672,\n",
              "   'classifier__subsample': 0.10601837016718496},\n",
              "  {'classifier__colsample_bytree': 0.595343812456806,\n",
              "   'classifier__gamma': 0.06911259189123564,\n",
              "   'classifier__learning_rate': 0.04800921210417008,\n",
              "   'classifier__max_depth': 44,\n",
              "   'classifier__min_child_weight': 5,\n",
              "   'classifier__n_estimators': 529,\n",
              "   'classifier__reg_alpha': 0.5440373483418036,\n",
              "   'classifier__reg_lambda': 0.6932619165869301,\n",
              "   'classifier__subsample': 0.6342669688096124},\n",
              "  {'classifier__colsample_bytree': 0.8616791402137484,\n",
              "   'classifier__gamma': 0.3250862475040406,\n",
              "   'classifier__learning_rate': 0.04752304081869499,\n",
              "   'classifier__max_depth': 46,\n",
              "   'classifier__min_child_weight': 1,\n",
              "   'classifier__n_estimators': 477,\n",
              "   'classifier__reg_alpha': 0.21211981846197733,\n",
              "   'classifier__reg_lambda': 1.4337208970590998,\n",
              "   'classifier__subsample': 0.5161225739347615}],\n",
              " 'rank_test_AUC': array([ 9,  2, 10,  4,  7,  6,  5,  8,  3,  1], dtype=int32),\n",
              " 'rank_test_f1_score': array([ 9,  2, 10,  4,  7,  6,  5,  8,  3,  1], dtype=int32),\n",
              " 'rank_test_recall_score': array([ 9,  4, 10,  1,  7,  6,  5,  8,  2,  3], dtype=int32),\n",
              " 'split0_test_AUC': array([0.95122488, 0.98579374, 0.93987724, 0.98297335, 0.96121756,\n",
              "        0.97255029, 0.97921847, 0.95428252, 0.98467427, 0.98947885]),\n",
              " 'split0_test_f1_score': array([0.82874707, 0.90522776, 0.81178014, 0.90275453, 0.86170371,\n",
              "        0.88389626, 0.89140956, 0.83696135, 0.90742158, 0.91501854]),\n",
              " 'split0_test_recall_score': array([0.94366667, 0.987     , 0.928     , 0.98866667, 0.96266667,\n",
              "        0.977     , 0.98233333, 0.942     , 0.98833333, 0.987     ]),\n",
              " 'split0_train_AUC': array([0.96087259, 0.99976951, 0.9440539 , 0.99934156, 0.97913979,\n",
              "        0.99424856, 0.9964903 , 0.9654859 , 0.99978588, 0.99999838]),\n",
              " 'split0_train_f1_score': array([0.84267537, 0.97480085, 0.81565731, 0.96222249, 0.88940302,\n",
              "        0.93161624, 0.93784867, 0.85665004, 0.97535984, 0.998502  ]),\n",
              " 'split0_train_recall_score': array([0.9465    , 0.99933333, 0.92033333, 0.99866667, 0.97708333,\n",
              "        0.99166667, 0.99466667, 0.95191667, 0.9995    , 0.99983333]),\n",
              " 'split1_test_AUC': array([0.95180341, 0.98354932, 0.94148794, 0.9813917 , 0.96114354,\n",
              "        0.97046251, 0.97770766, 0.95415686, 0.98192729, 0.98702835]),\n",
              " 'split1_test_f1_score': array([0.8361194 , 0.90968041, 0.81262909, 0.90599078, 0.86679741,\n",
              "        0.89004276, 0.8956229 , 0.84321396, 0.90967941, 0.91424125]),\n",
              " 'split1_test_recall_score': array([0.93366667, 0.982     , 0.918     , 0.983     , 0.95766667,\n",
              "        0.97133333, 0.97533333, 0.934     , 0.98366667, 0.979     ]),\n",
              " 'split1_train_AUC': array([0.96059208, 0.99979345, 0.94383204, 0.99939762, 0.97944888,\n",
              "        0.9942976 , 0.99663508, 0.96590306, 0.99981455, 0.99999963]),\n",
              " 'split1_train_f1_score': array([0.84065282, 0.97372802, 0.81370276, 0.96337983, 0.89194738,\n",
              "        0.93166875, 0.93765468, 0.85674621, 0.9772255 , 0.99866844]),\n",
              " 'split1_train_recall_score': array([0.94433333, 0.99916667, 0.92141667, 0.99858333, 0.9775    ,\n",
              "        0.99191667, 0.9945    , 0.95141667, 0.99941667, 1.        ]),\n",
              " 'split2_test_AUC': array([0.95508626, 0.98596512, 0.94409366, 0.98386105, 0.96482771,\n",
              "        0.97418774, 0.98022202, 0.95758978, 0.98532388, 0.98941149]),\n",
              " 'split2_test_f1_score': array([0.83360306, 0.90925955, 0.81253679, 0.90629328, 0.86419753,\n",
              "        0.88956774, 0.89438133, 0.84415196, 0.90872587, 0.9181095 ]),\n",
              " 'split2_test_recall_score': array([0.94433333, 0.98033333, 0.92033333, 0.98166667, 0.95666667,\n",
              "        0.97066667, 0.971     , 0.94066667, 0.98066667, 0.981     ]),\n",
              " 'split2_train_AUC': array([0.9596281 , 0.99974639, 0.94304674, 0.99932722, 0.97934596,\n",
              "        0.9943698 , 0.99647456, 0.9651467 , 0.99980083, 0.99999956]),\n",
              " 'split2_train_f1_score': array([0.84093766, 0.97443609, 0.81247701, 0.96275164, 0.88901519,\n",
              "        0.93134609, 0.93731836, 0.8562872 , 0.97618757, 0.99871   ]),\n",
              " 'split2_train_recall_score': array([0.94766667, 0.999     , 0.92033333, 0.99833333, 0.97758333,\n",
              "        0.992     , 0.99441667, 0.95308333, 0.99925   , 1.        ]),\n",
              " 'split3_test_AUC': array([0.95132127, 0.98290747, 0.94009696, 0.98029401, 0.96097456,\n",
              "        0.97125109, 0.97648543, 0.95430582, 0.98182284, 0.98636713]),\n",
              " 'split3_test_f1_score': array([0.82526003, 0.9041944 , 0.80498664, 0.89996922, 0.85346265,\n",
              "        0.87964521, 0.8883428 , 0.83433373, 0.90366476, 0.91277259]),\n",
              " 'split3_test_recall_score': array([0.92566667, 0.97366667, 0.904     , 0.97466667, 0.93866667,\n",
              "        0.95866667, 0.964     , 0.92666667, 0.974     , 0.97666667]),\n",
              " 'split3_train_AUC': array([0.96034082, 0.99981996, 0.94402055, 0.99939183, 0.9798506 ,\n",
              "        0.9944838 , 0.99609613, 0.96560561, 0.99982931, 0.99999961]),\n",
              " 'split3_train_f1_score': array([0.8425895 , 0.97535183, 0.81467849, 0.96403862, 0.88995978,\n",
              "        0.93287382, 0.93576974, 0.85701425, 0.97678586, 0.99825306]),\n",
              " 'split3_train_recall_score': array([0.94633333, 0.99916667, 0.92225   , 0.99858333, 0.97725   ,\n",
              "        0.9925    , 0.99433333, 0.952     , 0.99933333, 1.        ]),\n",
              " 'split4_test_AUC': array([0.95456765, 0.98558189, 0.9432748 , 0.98303418, 0.96521174,\n",
              "        0.9743631 , 0.97938484, 0.95664331, 0.9846936 , 0.98858984]),\n",
              " 'split4_test_f1_score': array([0.8388922 , 0.91313756, 0.81615682, 0.90828084, 0.8731626 ,\n",
              "        0.89218989, 0.89669927, 0.8494012 , 0.91192349, 0.91751938]),\n",
              " 'split4_test_recall_score': array([0.939     , 0.98466667, 0.916     , 0.98533333, 0.96033333,\n",
              "        0.971     , 0.978     , 0.94566667, 0.98533333, 0.98633333]),\n",
              " 'split4_train_AUC': array([0.95986018, 0.99976989, 0.9429427 , 0.99931227, 0.97971359,\n",
              "        0.9940355 , 0.99592196, 0.96498706, 0.99980121, 0.99999948]),\n",
              " 'split4_train_f1_score': array([0.83985475, 0.97518509, 0.81273782, 0.9632548 , 0.89020008,\n",
              "        0.93218413, 0.93374012, 0.85508221, 0.97741909, 0.99821154]),\n",
              " 'split4_train_recall_score': array([0.94441667, 0.99883333, 0.91666667, 0.99833333, 0.98066667,\n",
              "        0.99141667, 0.99466667, 0.95341667, 0.99916667, 1.        ]),\n",
              " 'std_fit_time': array([0.21345322, 0.73958701, 0.10411871, 0.61664171, 0.32000097,\n",
              "        0.26812452, 0.41615901, 0.17583643, 0.27484616, 1.32858982]),\n",
              " 'std_score_time': array([0.05176864, 0.05971416, 0.04217285, 0.0617421 , 0.07147247,\n",
              "        0.06371599, 0.06521361, 0.06862819, 0.13010501, 0.36063197]),\n",
              " 'std_test_AUC': array([0.00167406, 0.00127232, 0.00168077, 0.00128668, 0.00191991,\n",
              "        0.00155007, 0.00133395, 0.00143752, 0.00149926, 0.00126366]),\n",
              " 'std_test_f1_score': array([0.00493307, 0.00324108, 0.00364605, 0.00293882, 0.00645035,\n",
              "        0.00461496, 0.00304195, 0.00537198, 0.0027375 , 0.00200685]),\n",
              " 'std_test_recall_score': array([0.0069487 , 0.0045441 , 0.00778146, 0.00465236, 0.00852864,\n",
              "        0.00600518, 0.00626312, 0.00672508, 0.00487807, 0.00405518]),\n",
              " 'std_train_AUC': array([4.58522847e-04, 2.49781065e-05, 4.84294136e-04, 3.44860806e-05,\n",
              "        2.54808574e-04, 1.48612482e-04, 2.68573066e-04, 3.26835720e-04,\n",
              "        1.46319171e-05, 4.77899431e-07]),\n",
              " 'std_train_f1_score': array([0.00111216, 0.00058047, 0.00119134, 0.00061161, 0.00101044,\n",
              "        0.00054087, 0.00154702, 0.00067813, 0.00074896, 0.00020585]),\n",
              " 'std_train_recall_score': array([1.28927197e-03, 1.69967317e-04, 1.90802399e-03, 1.39443338e-04,\n",
              "        1.33687031e-03, 3.62859018e-04, 1.33333333e-04, 7.55718937e-04,\n",
              "        1.17851130e-04, 6.66666667e-05])}"
            ]
          },
          "metadata": {
            "tags": []
          },
          "execution_count": 82
        }
      ]
    },
    {
      "cell_type": "code",
      "metadata": {
        "id": "gD1RC9osIEE6",
        "colab_type": "code",
        "outputId": "9d3fb7e9-9192-4f71-ccc3-f23a222680c4",
        "colab": {
          "base_uri": "https://localhost:8080/",
          "height": 54
        }
      },
      "source": [
        "f'Optimal parameters: {search.best_params_}'"
      ],
      "execution_count": 83,
      "outputs": [
        {
          "output_type": "execute_result",
          "data": {
            "text/plain": [
              "\"Optimal parameters: {'classifier__subsample': 0.8298951492918261, 'classifier__reg_lambda': 3.3281957219036458, 'classifier__reg_alpha': 0.5238945533823781, 'classifier__n_estimators': 518, 'classifier__min_child_weight': 5, 'classifier__max_depth': 63, 'classifier__learning_rate': 0.041207625579580034, 'classifier__gamma': 0.5221927921022986, 'classifier__colsample_bytree': 0.5226075917234883}\""
            ]
          },
          "metadata": {
            "tags": []
          },
          "execution_count": 83
        }
      ]
    },
    {
      "cell_type": "markdown",
      "metadata": {
        "id": "uTxta8l6tkAB",
        "colab_type": "text"
      },
      "source": [
        "## Evaluation"
      ]
    },
    {
      "cell_type": "code",
      "metadata": {
        "id": "l_G8-du6tkAC",
        "colab_type": "code",
        "colab": {}
      },
      "source": [
        "training_score = search.cv_results_['mean_train_f1_score'][search.best_index_] * 100\n",
        "test_score = search.cv_results_['mean_test_f1_score'][search.best_index_] * 100"
      ],
      "execution_count": 0,
      "outputs": []
    },
    {
      "cell_type": "code",
      "metadata": {
        "id": "9d_TYdu0tkAG",
        "colab_type": "code",
        "outputId": "5157f90a-586a-40b4-ee74-db6ac84cde2c",
        "colab": {
          "base_uri": "https://localhost:8080/",
          "height": 34
        }
      },
      "source": [
        "f'Mean F1 Score (Training/Test): {training_score:.2f}%/{test_score:.2f}%'"
      ],
      "execution_count": 85,
      "outputs": [
        {
          "output_type": "execute_result",
          "data": {
            "text/plain": [
              "'Mean F1 Score (Training/Test): 96.31%/90.47%'"
            ]
          },
          "metadata": {
            "tags": []
          },
          "execution_count": 85
        }
      ]
    },
    {
      "cell_type": "code",
      "metadata": {
        "colab_type": "code",
        "id": "EanpXjF-wdD2",
        "colab": {}
      },
      "source": [
        "training_score = search.cv_results_['mean_train_recall_score'][search.best_index_] * 100\n",
        "test_score = search.cv_results_['mean_test_recall_score'][search.best_index_] * 100"
      ],
      "execution_count": 0,
      "outputs": []
    },
    {
      "cell_type": "code",
      "metadata": {
        "colab_type": "code",
        "outputId": "2866fb88-602e-492f-f8e9-793ec9ffeb45",
        "id": "3lLys1r-wj7y",
        "colab": {
          "base_uri": "https://localhost:8080/",
          "height": 34
        }
      },
      "source": [
        "f'Mean Recall Score (Training/Test): {training_score:.2f}%/{test_score:.2f}%'"
      ],
      "execution_count": 87,
      "outputs": [
        {
          "output_type": "execute_result",
          "data": {
            "text/plain": [
              "'Mean Recall Score (Training/Test): 99.85%/98.27%'"
            ]
          },
          "metadata": {
            "tags": []
          },
          "execution_count": 87
        }
      ]
    },
    {
      "cell_type": "code",
      "metadata": {
        "colab_type": "code",
        "id": "WIA6UslLwfvj",
        "colab": {}
      },
      "source": [
        "training_score = search.cv_results_['mean_train_AUC'][search.best_index_] * 100\n",
        "test_score = search.cv_results_['mean_test_AUC'][search.best_index_] * 100"
      ],
      "execution_count": 0,
      "outputs": []
    },
    {
      "cell_type": "code",
      "metadata": {
        "colab_type": "code",
        "outputId": "9ac9f8b1-71ea-4f61-fbe1-4267e0d0ca5c",
        "id": "-sV46V4ewmZV",
        "colab": {
          "base_uri": "https://localhost:8080/",
          "height": 34
        }
      },
      "source": [
        "f'Mean AUC Score (Training/Test): {training_score:.2f}%/{test_score:.2f}%'"
      ],
      "execution_count": 89,
      "outputs": [
        {
          "output_type": "execute_result",
          "data": {
            "text/plain": [
              "'Mean AUC Score (Training/Test): 99.94%/98.23%'"
            ]
          },
          "metadata": {
            "tags": []
          },
          "execution_count": 89
        }
      ]
    },
    {
      "cell_type": "code",
      "metadata": {
        "id": "aWgC5RlCw21G",
        "colab_type": "code",
        "outputId": "70ce5f09-7e9d-4ef7-a490-7435113e30ab",
        "colab": {
          "base_uri": "https://localhost:8080/",
          "height": 34
        }
      },
      "source": [
        "mean_fit_time = search.cv_results_['mean_fit_time'][search.best_index_]\n",
        "mean_score_time = search.cv_results_['mean_score_time'][search.best_index_]\n",
        "f'Mean mean_fit_time / mean_score_time: {mean_fit_time:.2f}/{mean_score_time:.2f}'"
      ],
      "execution_count": 90,
      "outputs": [
        {
          "output_type": "execute_result",
          "data": {
            "text/plain": [
              "'Mean mean_fit_time / mean_score_time: 61.38/3.94'"
            ]
          },
          "metadata": {
            "tags": []
          },
          "execution_count": 90
        }
      ]
    },
    {
      "cell_type": "markdown",
      "metadata": {
        "id": "ejCp1lI-9h9c",
        "colab_type": "text"
      },
      "source": [
        "## Log Datei füttern"
      ]
    },
    {
      "cell_type": "code",
      "metadata": {
        "id": "OEWS-tsj9hhp",
        "colab_type": "code",
        "outputId": "e5cede9b-09a4-47cc-90e4-8c49864943c7",
        "colab": {
          "base_uri": "https://localhost:8080/",
          "height": 231
        }
      },
      "source": [
        "# datetime;alpha;lambda;random_state;n_estimators_min;n_estimators_max;max_depth_min;x_max_depth_max;best_n_estimators;best_max_depth;best_learning_rate;f1_training;f1_test;std_train_score;std_test_score\n",
        "\n",
        "logData = [[datetime.now()\n",
        "            ,search.best_params_['classifier__learning_rate']\n",
        "            ,search.best_params_['classifier__gamma']\n",
        "            ,search.best_params_['classifier__max_depth']\n",
        "            ,search.best_params_['classifier__colsample_bytree']\n",
        "            ,search.best_params_['classifier__subsample']\n",
        "            ,search.best_params_['classifier__reg_alpha']\n",
        "            ,search.best_params_['classifier__reg_lambda']\n",
        "            ,search.best_params_['classifier__min_child_weight']\n",
        "            ,search.best_params_['classifier__n_estimators']\n",
        "            ,training_score\n",
        "            ,test_score\n",
        "            ,search.cv_results_['std_train_score'][search.best_index_]\n",
        "            ,search.cv_results_['std_test_score'][search.best_index_]]]\n",
        "with open('log2.csv', 'a') as csvfile:\n",
        "  writer = csv.writer(csvfile, delimiter=';')\n",
        "  writer.writerows(logData)"
      ],
      "execution_count": 91,
      "outputs": [
        {
          "output_type": "error",
          "ename": "KeyError",
          "evalue": "ignored",
          "traceback": [
            "\u001b[0;31m---------------------------------------------------------------------------\u001b[0m",
            "\u001b[0;31mKeyError\u001b[0m                                  Traceback (most recent call last)",
            "\u001b[0;32m<ipython-input-91-a6eb8f3b5058>\u001b[0m in \u001b[0;36m<module>\u001b[0;34m()\u001b[0m\n\u001b[1;32m     12\u001b[0m             \u001b[0;34m,\u001b[0m\u001b[0mtraining_score\u001b[0m\u001b[0;34m\u001b[0m\u001b[0;34m\u001b[0m\u001b[0m\n\u001b[1;32m     13\u001b[0m             \u001b[0;34m,\u001b[0m\u001b[0mtest_score\u001b[0m\u001b[0;34m\u001b[0m\u001b[0;34m\u001b[0m\u001b[0m\n\u001b[0;32m---> 14\u001b[0;31m             \u001b[0;34m,\u001b[0m\u001b[0msearch\u001b[0m\u001b[0;34m.\u001b[0m\u001b[0mcv_results_\u001b[0m\u001b[0;34m[\u001b[0m\u001b[0;34m'std_train_score'\u001b[0m\u001b[0;34m]\u001b[0m\u001b[0;34m[\u001b[0m\u001b[0msearch\u001b[0m\u001b[0;34m.\u001b[0m\u001b[0mbest_index_\u001b[0m\u001b[0;34m]\u001b[0m\u001b[0;34m\u001b[0m\u001b[0;34m\u001b[0m\u001b[0m\n\u001b[0m\u001b[1;32m     15\u001b[0m             ,search.cv_results_['std_test_score'][search.best_index_]]]\n\u001b[1;32m     16\u001b[0m \u001b[0;32mwith\u001b[0m \u001b[0mopen\u001b[0m\u001b[0;34m(\u001b[0m\u001b[0;34m'log2.csv'\u001b[0m\u001b[0;34m,\u001b[0m \u001b[0;34m'a'\u001b[0m\u001b[0;34m)\u001b[0m \u001b[0;32mas\u001b[0m \u001b[0mcsvfile\u001b[0m\u001b[0;34m:\u001b[0m\u001b[0;34m\u001b[0m\u001b[0;34m\u001b[0m\u001b[0m\n",
            "\u001b[0;31mKeyError\u001b[0m: 'std_train_score'"
          ]
        }
      ]
    },
    {
      "cell_type": "markdown",
      "metadata": {
        "id": "ce1oD7CDtkAO",
        "colab_type": "text"
      },
      "source": [
        "## Prediction"
      ]
    },
    {
      "cell_type": "code",
      "metadata": {
        "id": "njPYhiz5tkAS",
        "colab_type": "code",
        "colab": {}
      },
      "source": [
        "sys.exit()\n",
        "predictions = search.best_estimator_.predict(prediction_dataset)"
      ],
      "execution_count": 0,
      "outputs": []
    },
    {
      "cell_type": "markdown",
      "metadata": {
        "id": "y6H61WM5tkAZ",
        "colab_type": "text"
      },
      "source": [
        "## Submission Dataset Preparation\n",
        "\n",
        "Your upload to the Online-Campus should contain your written report (the actual seminar paper), this notebook as file as well as the generated submission dataset with your predictions."
      ]
    },
    {
      "cell_type": "code",
      "metadata": {
        "id": "PwJtq1XltkAb",
        "colab_type": "code",
        "colab": {}
      },
      "source": [
        "submission = pd.DataFrame(\n",
        "    predictions, index=prediction_dataset.index, columns=['prediction'])"
      ],
      "execution_count": 0,
      "outputs": []
    },
    {
      "cell_type": "code",
      "metadata": {
        "id": "0PFaGgAjtkAh",
        "colab_type": "code",
        "colab": {}
      },
      "source": [
        "matriculation_number = '12345678'"
      ],
      "execution_count": 0,
      "outputs": []
    },
    {
      "cell_type": "code",
      "metadata": {
        "id": "i4Rd5zVutkAm",
        "colab_type": "code",
        "colab": {}
      },
      "source": [
        "submission.to_csv(\n",
        "    f'./submission-{matriculation_number}.csv', index_label='identifier')"
      ],
      "execution_count": 0,
      "outputs": []
    },
    {
      "cell_type": "markdown",
      "metadata": {
        "id": "16tuFXaYwPmR",
        "colab_type": "text"
      },
      "source": [
        "# Nützliche Links\n",
        "* XGboost Implementation: [https://www.datacamp.com/community/tutorials/xgboost-in-python](https://www.datacamp.com/community/tutorials/xgboost-in-python)\n",
        "* XGBoost Parameter List: [https://xgboost.readthedocs.io/en/latest/parameter.html](https://xgboost.readthedocs.io/en/latest/parameter.html)\n",
        "* XGBoost Tuning Parameters: [https://kehuiyao.github.io/2019/03/21/xgboost-tuning-parameters/](https://kehuiyao.github.io/2019/03/21/xgboost-tuning-parameters/)"
      ]
    }
  ]
}