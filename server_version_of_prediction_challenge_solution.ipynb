{
  "nbformat": 4,
  "nbformat_minor": 0,
  "metadata": {
    "kernelspec": {
      "name": "python3",
      "display_name": "Python 3"
    },
    "language_info": {
      "codemirror_mode": {
        "name": "ipython",
        "version": 3
      },
      "file_extension": ".py",
      "mimetype": "text/x-python",
      "name": "python",
      "nbconvert_exporter": "python",
      "pygments_lexer": "ipython3",
      "version": "3.7.4"
    },
    "colab": {
      "name": "server-version of prediction_challenge_solution.ipynb",
      "provenance": [],
      "collapsed_sections": [],
      "include_colab_link": true
    },
    "accelerator": "GPU"
  },
  "cells": [
    {
      "cell_type": "markdown",
      "metadata": {
        "id": "view-in-github",
        "colab_type": "text"
      },
      "source": [
        "<a href=\"https://colab.research.google.com/github/T1M0THY1337/big-data-prediction-challenge/blob/master/server_version_of_prediction_challenge_solution.ipynb\" target=\"_parent\"><img src=\"https://colab.research.google.com/assets/colab-badge.svg\" alt=\"Open In Colab\"/></a>"
      ]
    },
    {
      "cell_type": "markdown",
      "metadata": {
        "id": "GGyVwYL-tj-H",
        "colab_type": "text"
      },
      "source": [
        "## Package Import"
      ]
    },
    {
      "cell_type": "code",
      "metadata": {
        "id": "zNkzZA6xtj-L",
        "colab_type": "code",
        "colab": {}
      },
      "source": [
        "import numpy as np\n",
        "import random\n",
        "import pandas as pd\n",
        "import xgboost as xgb\n",
        "import sys as sys\n",
        "import csv, datetime\n",
        "from datetime import datetime\n",
        "from scipy.stats import uniform, randint\n",
        "from sklearn.compose import ColumnTransformer\n",
        "from sklearn.metrics import f1_score, make_scorer\n",
        "from sklearn.model_selection import RandomizedSearchCV, cross_validate, StratifiedKFold\n",
        "from sklearn.pipeline import Pipeline\n",
        "from sklearn.preprocessing import MinMaxScaler, LabelEncoder, OneHotEncoder"
      ],
      "execution_count": 0,
      "outputs": []
    },
    {
      "cell_type": "markdown",
      "metadata": {
        "id": "PRXDmV7stj-W",
        "colab_type": "text"
      },
      "source": [
        "## Data Import"
      ]
    },
    {
      "cell_type": "code",
      "metadata": {
        "id": "JL64eb7ztj-Z",
        "colab_type": "code",
        "colab": {}
      },
      "source": [
        "dataset = pd.read_csv(\n",
        "    'https://raw.githubusercontent.com/saschaschworm/big-data-and-data-science/' +\n",
        "    'master/datasets/prediction-challenge/dataset.csv', \n",
        "    index_col='identifier', parse_dates=['date'])\n",
        "\n",
        "prediction_dataset = pd.read_csv(\n",
        "    'https://raw.githubusercontent.com/saschaschworm/big-data-and-data-science/' +\n",
        "    'master/datasets/prediction-challenge/prediction-dataset.csv', \n",
        "    index_col='identifier', parse_dates=['date'])"
      ],
      "execution_count": 0,
      "outputs": []
    },
    {
      "cell_type": "markdown",
      "metadata": {
        "id": "DxVLYLqEtj-v",
        "colab_type": "text"
      },
      "source": [
        "## Feature Engineering"
      ]
    },
    {
      "cell_type": "code",
      "metadata": {
        "id": "8-qz5y9cTYOB",
        "colab_type": "code",
        "colab": {}
      },
      "source": [
        "def getYear(inDate):\n",
        "  return inDate.year\n",
        "def getMonth(inDate):\n",
        "  return inDate.month\n",
        "def getWeekday(inDate):\n",
        "  return inDate.weekday\n",
        "def getWeekendDay(inDate):\n",
        "  if (inDate.weekday == 'Saturday') or (inDate.weekday == 'Sunday'):\n",
        "    return True\n",
        "  else:\n",
        "    return False\n",
        "def getAgeGroups(inAge):\n",
        "  if (inAge < 28):\n",
        "    return 'young'\n",
        "  elif (49 > inAge > 27):\n",
        "    return 'younger'\n",
        "  elif (61 > inAge > 48):\n",
        "    return 'older'\n",
        "  else:\n",
        "    return 'old'\n",
        "\n",
        "dataset['date'] = pd.to_datetime(dataset['date'])\n",
        "dataset.insert(1, \"dateYear\", dataset['date'], allow_duplicates=True)\n",
        "dataset.insert(2, \"dateMonth\", dataset['date'], allow_duplicates=True)\n",
        "dataset.insert(3, \"dateWeekday\", dataset['date'], allow_duplicates=True)\n",
        "dataset.insert(4, \"dateWeekendDay\", dataset['date'], allow_duplicates=True)\n",
        "\n",
        "dataset.insert(6, \"ageGroups\", dataset['age'], allow_duplicates=True)\n",
        "\n",
        "dataset.dateYear = dataset['dateYear'].dt.year\n",
        "dataset.dateMonth = dataset['dateMonth'].dt.month\n",
        "dataset.dateWeekday = dataset['dateWeekday'].dt.day_name()\n",
        "dataset.dateWeekendDay = dataset.dateWeekendDay.apply(getWeekendDay)\n",
        "dataset.ageGroups = dataset.ageGroups.apply(getAgeGroups)"
      ],
      "execution_count": 0,
      "outputs": []
    },
    {
      "cell_type": "markdown",
      "metadata": {
        "id": "bzCHihLktj-6",
        "colab_type": "text"
      },
      "source": [
        "## Model, Pipeline and Scoring Initialization"
      ]
    },
    {
      "cell_type": "code",
      "metadata": {
        "id": "GXtb--5Ytj--",
        "colab_type": "code",
        "colab": {}
      },
      "source": [
        "X_default = dataset[['dateYear', 'dateMonth', 'dateWeekday', 'ageGroups', 'marital_status', 'education', 'job', 'credit_default', 'housing_loan', 'personal_loan', 'communication_type', 'n_contacts_campaign', 'days_since_last_contact', 'n_contacts_before', 'previous_conversion', 'duration']]\n",
        "y = dataset['success']\n",
        "\n",
        "X = X_default"
      ],
      "execution_count": 0,
      "outputs": []
    },
    {
      "cell_type": "code",
      "metadata": {
        "id": "AtICuwCbtj_H",
        "colab_type": "code",
        "colab": {}
      },
      "source": [
        "x_reg_alpha = 0\n",
        "x_reg_lambda = 0.007\n",
        "x_rscv = 10\n",
        "x_random_state = 1909\n",
        "x_n_estimators_min = 100\n",
        "x_n_estimators_max = 500\n",
        "x_max_depth_min = 1\n",
        "x_max_depth_max = 20\n",
        "x_rsLearningRate = 0.0001\n",
        "classifier = xgb.XGBClassifier(n_jobs=-1, random_state=x_random_state, objective='binary:logistic', reg_lambda=x_reg_lambda, reg_alpha=x_reg_alpha)"
      ],
      "execution_count": 0,
      "outputs": []
    },
    {
      "cell_type": "code",
      "metadata": {
        "id": "UhSvZBZ1tj_R",
        "colab_type": "code",
        "colab": {}
      },
      "source": [
        "scorer = make_scorer(f1_score, pos_label='Yes')"
      ],
      "execution_count": 0,
      "outputs": []
    },
    {
      "cell_type": "code",
      "metadata": {
        "id": "jwLNxvgTtj_Z",
        "colab_type": "code",
        "colab": {}
      },
      "source": [
        "numeric_features = ['n_contacts_campaign', 'days_since_last_contact', 'n_contacts_before', 'duration']\n",
        "numeric_transformer = Pipeline([\n",
        "    ('scaler', MinMaxScaler()),\n",
        "])\n",
        "\n",
        "categorical_features = ['dateYear', 'dateMonth', 'dateWeekday', 'ageGroups', 'marital_status', 'education', 'job', 'credit_default', 'housing_loan', 'personal_loan', 'communication_type', 'previous_conversion']\n",
        "categorical_transformer = Pipeline([\n",
        "    ('onehotencoder', OneHotEncoder(drop='first')),\n",
        "])\n",
        "\n",
        "preprocessor = ColumnTransformer([\n",
        "    ('numeric_transformer', numeric_transformer, numeric_features),\n",
        "    ('categorical_transformer', categorical_transformer, categorical_features)\n",
        "])\n",
        "\n",
        "pipeline = Pipeline([\n",
        "    ('preprocessor', preprocessor), \n",
        "    ('classifier', classifier)\n",
        "])"
      ],
      "execution_count": 0,
      "outputs": []
    },
    {
      "cell_type": "code",
      "metadata": {
        "id": "y16hY0mwa6rg",
        "colab_type": "code",
        "colab": {}
      },
      "source": [
        "param_distributions = {}\n",
        "def runAlgo(x):\n",
        "  global param_distributions\n",
        "\n",
        "  x_rscv = StratifiedKFold(n_splits=10, shuffle=True, random_state=x_random_state)\n",
        "  x_rscv = x_rscv.split(X, y)\n",
        "\n",
        "  param_distributions = {\n",
        "                          \"classifier__learning_rate\": uniform.rvs(0.0001, 0.1, size=10),\n",
        "                          \"classifier__gamma\" : uniform.rvs(0, 2, size=10),\n",
        "                          \"classifier__max_depth\": randint.rvs(2, 100, size=10),\n",
        "                          \"classifier__colsample_bytree\": uniform.rvs(0.1, 0.9, size=10),\n",
        "                          \"classifier__subsample\": uniform.rvs(0.1, 0.9, size=10),\n",
        "                          \"classifier__reg_alpha\": uniform.rvs(0, 0.9, size=10),\n",
        "                          \"classifier__reg_lambda\": uniform.rvs(0.0001, 5, size=10),\n",
        "                          \"classifier__min_child_weight\": randint.rvs(1, 7, size=10),\n",
        "                          \"classifier__n_estimators\": randint.rvs(100, 1000, size=10)\n",
        "                        }\n",
        "  search = RandomizedSearchCV(\n",
        "    pipeline, param_distributions=param_distributions, n_iter=3, scoring=scorer, \n",
        "    n_jobs=-1, cv=x_rscv, random_state=x_random_state, return_train_score=True)\n",
        "  \n",
        "  search = search.fit(X, y)\n",
        "\n",
        "\n",
        "  training_score = search.cv_results_['mean_train_score'][search.best_index_] * 100\n",
        "  test_score = search.cv_results_['mean_test_score'][search.best_index_] * 100\n",
        "\n",
        "  logData = [[datetime.now()\n",
        "              ,search.best_params_['classifier__learning_rate']\n",
        "              ,search.best_params_['classifier__gamma']\n",
        "              ,search.best_params_['classifier__max_depth']\n",
        "              ,search.best_params_['classifier__colsample_bytree']\n",
        "              ,search.best_params_['classifier__subsample']\n",
        "              ,search.best_params_['classifier__reg_alpha']\n",
        "              ,search.best_params_['classifier__reg_lambda']\n",
        "              ,search.best_params_['classifier__min_child_weight']\n",
        "              ,search.best_params_['classifier__n_estimators']\n",
        "              ,training_score\n",
        "              ,test_score\n",
        "              ,search.cv_results_['std_train_score'][search.best_index_]\n",
        "              ,search.cv_results_['std_test_score'][search.best_index_]\n",
        "              ,x]]\n",
        "  with open('log.csv', 'a') as csvfile:\n",
        "    writer = csv.writer(csvfile, delimiter=';')\n",
        "    writer.writerows(logData)"
      ],
      "execution_count": 0,
      "outputs": []
    },
    {
      "cell_type": "code",
      "metadata": {
        "id": "SuR-jcv5Ent4",
        "colab_type": "code",
        "colab": {}
      },
      "source": [
        "lenDataset = len(X.columns)\n",
        "for x in range(7, lenDataset - 1):\n",
        "  X.drop(X.columns[x], axis=1)\n",
        "  print(datetime.now(), \"Start Runde \" , x, \" von \", lenDataset)\n",
        "  runAlgo(x)\n",
        "  X = X_default"
      ],
      "execution_count": 0,
      "outputs": []
    }
  ]
}