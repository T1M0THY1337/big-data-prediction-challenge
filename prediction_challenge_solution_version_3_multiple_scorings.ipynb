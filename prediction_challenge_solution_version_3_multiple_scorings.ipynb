{
  "nbformat": 4,
  "nbformat_minor": 0,
  "metadata": {
    "kernelspec": {
      "name": "python3",
      "display_name": "Python 3"
    },
    "language_info": {
      "codemirror_mode": {
        "name": "ipython",
        "version": 3
      },
      "file_extension": ".py",
      "mimetype": "text/x-python",
      "name": "python",
      "nbconvert_exporter": "python",
      "pygments_lexer": "ipython3",
      "version": "3.7.4"
    },
    "colab": {
      "name": "prediction_challenge_solution-version_3-multiple_scorings.ipynb",
      "provenance": [],
      "collapsed_sections": [
        "lEtpbsTkxEaV"
      ],
      "include_colab_link": true
    },
    "accelerator": "GPU"
  },
  "cells": [
    {
      "cell_type": "markdown",
      "metadata": {
        "id": "view-in-github",
        "colab_type": "text"
      },
      "source": [
        "<a href=\"https://colab.research.google.com/github/T1M0THY1337/big-data-prediction-challenge/blob/master/prediction_challenge_solution_version_3_multiple_scorings.ipynb\" target=\"_parent\"><img src=\"https://colab.research.google.com/assets/colab-badge.svg\" alt=\"Open In Colab\"/></a>"
      ]
    },
    {
      "cell_type": "markdown",
      "metadata": {
        "id": "YNapCUQ9tj-C",
        "colab_type": "text"
      },
      "source": [
        "# Prediction Challange by Sebastian and Tim\n",
        "\n",
        "Your job is to predict whether or not a person will become a customer of a bank. The data itself contains basic demographic information about numerous  customers as well as data related to phone-based marketing calls during specific campaigns."
      ]
    },
    {
      "cell_type": "markdown",
      "metadata": {
        "id": "lEtpbsTkxEaV",
        "colab_type": "text"
      },
      "source": [
        "# Header"
      ]
    },
    {
      "cell_type": "markdown",
      "metadata": {
        "id": "T_8CKo6vuiKW",
        "colab_type": "text"
      },
      "source": [
        "## Version 0.1\n",
        "\n",
        "\n",
        "---\n",
        "\n",
        "\n",
        "**2020-01-29** Feature Engineering (Date), Hyperparameter Tuning\\\n",
        "**2020-01-24** Start mit dem Minimum Working Example"
      ]
    },
    {
      "cell_type": "markdown",
      "metadata": {
        "id": "yYyRmTQNtj-F",
        "colab_type": "text"
      },
      "source": [
        "## Data Dictionary\n",
        "\n",
        "<table style=\"width: 100%;\">\n",
        "    <thead>\n",
        "        <tr>\n",
        "            <th style=\"width: 30%; text-align: left;\">Feature</th>\n",
        "            <th style=\"width: 70%; text-align: left;\">Description</th>\n",
        "        </tr>\n",
        "    </thead>\n",
        "    <tbody>\n",
        "        <tr>\n",
        "            <td>date</td>\n",
        "            <td>The last contact date</td>\n",
        "        </tr>\n",
        "        <tr>\n",
        "            <td>age</td>\n",
        "            <td>The age of the customer</td>\n",
        "        </tr>\n",
        "        <tr>\n",
        "            <td>marital_status</td>\n",
        "            <td>The marital status of the customer</td>\n",
        "        </tr>\n",
        "        <tr>\n",
        "            <td>education</td>\n",
        "            <td>The educationan of the customer</td>\n",
        "        </tr>\n",
        "        <tr>\n",
        "            <td>job</td>\n",
        "            <td>The type of job of the customer</td>\n",
        "        </tr>\n",
        "        <tr>\n",
        "            <td>credit_default</td>\n",
        "            <td>Whether or not the customer has a credit in default</td>\n",
        "        </tr>\n",
        "        <tr>\n",
        "            <td>housing_loan</td>\n",
        "            <td>Whether or not the customer has a housing loan</td>\n",
        "        </tr>\n",
        "        <tr>\n",
        "            <td>personal_loan</td>\n",
        "            <td>Whether or not the customer has a personal loan</td>\n",
        "        </tr>\n",
        "        <tr>\n",
        "            <td>communication_type</td>\n",
        "            <td>The type of contact communication</td>\n",
        "        </tr>\n",
        "        <tr>\n",
        "            <td>n_contacts_campaign</td>\n",
        "            <td>The number of contacts performed during this marketing campaign and for this customer</td>\n",
        "        </tr>\n",
        "        <tr>\n",
        "            <td>days_since_last_contact</td>\n",
        "            <td>The number of days passed by after the customer was last contacted from a previous domain</td>\n",
        "        </tr>\n",
        "        <tr>\n",
        "            <td>n_contacts_before</td>\n",
        "            <td>The number of contacts performed before this marketing campaign and for this customer</td>\n",
        "        </tr>\n",
        "        <tr>\n",
        "            <td>previous_conversion</td>\n",
        "            <td>Whether or not the customer has been a customer before</td>\n",
        "        </tr>\n",
        "        <tr>\n",
        "            <td>success</td>\n",
        "            <td>Whether or not the customer became an actual customer (target variable)</td>\n",
        "        </tr>\n",
        "    </tbody>   \n",
        "</table>   "
      ]
    },
    {
      "cell_type": "markdown",
      "metadata": {
        "id": "I-ZH8xKaxLGH",
        "colab_type": "text"
      },
      "source": [
        "# Programming"
      ]
    },
    {
      "cell_type": "markdown",
      "metadata": {
        "id": "GGyVwYL-tj-H",
        "colab_type": "text"
      },
      "source": [
        "## Package Import"
      ]
    },
    {
      "cell_type": "code",
      "metadata": {
        "id": "zNkzZA6xtj-L",
        "colab_type": "code",
        "colab": {}
      },
      "source": [
        "import numpy as np\n",
        "import pandas as pd\n",
        "import xgboost as xgb\n",
        "import sys as sys\n",
        "import csv, datetime\n",
        "from datetime import datetime\n",
        "from scipy.stats import uniform, randint\n",
        "from sklearn.compose import ColumnTransformer\n",
        "from sklearn.metrics import f1_score, make_scorer, roc_auc_score, roc_curve, recall_score, precision_score\n",
        "from sklearn.model_selection import RandomizedSearchCV, cross_validate, StratifiedKFold\n",
        "from sklearn.pipeline import Pipeline\n",
        "from sklearn.preprocessing import MinMaxScaler, LabelEncoder, OneHotEncoder"
      ],
      "execution_count": 0,
      "outputs": []
    },
    {
      "cell_type": "markdown",
      "metadata": {
        "id": "PRXDmV7stj-W",
        "colab_type": "text"
      },
      "source": [
        "## Data Import"
      ]
    },
    {
      "cell_type": "code",
      "metadata": {
        "id": "JL64eb7ztj-Z",
        "colab_type": "code",
        "colab": {}
      },
      "source": [
        "dataset = pd.read_csv(\n",
        "    'https://raw.githubusercontent.com/saschaschworm/big-data-and-data-science/' +\n",
        "    'master/datasets/prediction-challenge/dataset.csv', \n",
        "    index_col='identifier', parse_dates=['date'])\n",
        "\n",
        "prediction_dataset = pd.read_csv(\n",
        "    'https://raw.githubusercontent.com/saschaschworm/big-data-and-data-science/' +\n",
        "    'master/datasets/prediction-challenge/prediction-dataset.csv', \n",
        "    index_col='identifier', parse_dates=['date'])"
      ],
      "execution_count": 0,
      "outputs": []
    },
    {
      "cell_type": "markdown",
      "metadata": {
        "id": "DxVLYLqEtj-v",
        "colab_type": "text"
      },
      "source": [
        "## Feature Engineering"
      ]
    },
    {
      "cell_type": "code",
      "metadata": {
        "id": "-R43QutQtj-x",
        "colab_type": "code",
        "colab": {}
      },
      "source": [
        "# Create some new features based on the given features\n",
        "# or enrich the dataset with features from datasets.\n",
        "# dataset.head(3)"
      ],
      "execution_count": 0,
      "outputs": []
    },
    {
      "cell_type": "code",
      "metadata": {
        "id": "8-qz5y9cTYOB",
        "colab_type": "code",
        "colab": {}
      },
      "source": [
        "def getYear(inDate):\n",
        "  return inDate.year\n",
        "def getMonth(inDate):\n",
        "  return inDate.month\n",
        "def getWeekday(inDate):\n",
        "  return inDate.weekday\n",
        "def getWeekendDay(inDate):\n",
        "  if (inDate.weekday == 'Saturday') or (inDate.weekday == 'Sunday'):\n",
        "    return True\n",
        "  else:\n",
        "    return False\n",
        "def getAgeGroups(inAge):\n",
        "  if (inAge < 28):\n",
        "    return 'young'\n",
        "  elif (49 > inAge > 27):\n",
        "    return 'younger'\n",
        "  elif (61 > inAge > 48):\n",
        "    return 'older'\n",
        "  else:\n",
        "    return 'old'\n",
        "\n",
        "def getDurationGroupsA(inDuration):\n",
        "  if (inDuration < 250):\n",
        "    return 'very_short'\n",
        "  elif (250 < inDuration < 500):\n",
        "    return 'short'\n",
        "  elif (500 < inDuration < 750):\n",
        "    return 'lower_medium'\n",
        "  elif (750 < inDuration < 1000):\n",
        "    return 'medium'\n",
        "  elif (1000 < inDuration < 1250):\n",
        "    return 'higher_medium'\n",
        "  elif (1250 < inDuration < 1500):\n",
        "    return 'long'\n",
        "  elif (1500 < inDuration < 1750):\n",
        "    return 'very_long'\n",
        "  else:\n",
        "    return 'very_big_call'\n",
        "\n",
        "def getDurationGroupsB(inDuration):\n",
        "  if (inDuration < 250):\n",
        "    return 0\n",
        "  elif (250 < inDuration < 500):\n",
        "    return 1\n",
        "  elif (500 < inDuration < 750):\n",
        "    return 2\n",
        "  elif (750 < inDuration < 1000):\n",
        "    return 3\n",
        "  elif (1000 < inDuration < 1250):\n",
        "    return 4\n",
        "  elif (1250 < inDuration < 1500):\n",
        "    return 5\n",
        "  elif (1500 < inDuration < 1750):\n",
        "    return 6\n",
        "  else:\n",
        "    return 7\n",
        "\n",
        "\n",
        "dataset['date'] = pd.to_datetime(dataset['date'])\n",
        "dataset.insert(1, \"dateYear\", dataset['date'], allow_duplicates=True)\n",
        "dataset.insert(2, \"dateMonth\", dataset['date'], allow_duplicates=True)\n",
        "dataset.insert(3, \"dateWeekday\", dataset['date'], allow_duplicates=True)\n",
        "dataset.insert(4, \"dateWeekendDay\", dataset['date'], allow_duplicates=True)\n",
        "\n",
        "dataset.insert(6, \"ageGroups\", dataset['age'], allow_duplicates=True)\n",
        "dataset.insert(19, \"durationGroups\", dataset['duration'], allow_duplicates=True)\n",
        "\n",
        "# dataset.dateYear = dataset.dateYear.apply(getYear)\n",
        "# dataset.dateMonth = dataset.dateMonth.apply(getMonth)\n",
        "\n",
        "dataset.dateYear = dataset['dateYear'].dt.year\n",
        "dataset.dateMonth = dataset['dateMonth'].dt.month\n",
        "dataset.dateWeekday = dataset['dateWeekday'].dt.weekday_name\n",
        "dataset.dateWeekendDay = dataset.dateWeekendDay.apply(getWeekendDay)\n",
        "dataset.ageGroups = dataset.ageGroups.apply(getAgeGroups)\n",
        "dataset.durationGroups = dataset.durationGroups.apply(getDurationGroupsA)"
      ],
      "execution_count": 0,
      "outputs": []
    },
    {
      "cell_type": "markdown",
      "metadata": {
        "id": "bzCHihLktj-6",
        "colab_type": "text"
      },
      "source": [
        "## Model, Pipeline and Scoring Initialization"
      ]
    },
    {
      "cell_type": "code",
      "metadata": {
        "id": "GXtb--5Ytj--",
        "colab_type": "code",
        "colab": {}
      },
      "source": [
        "# dataset[['date', 'age', 'marital_status', 'education', 'job', 'credit_default', 'housing_loan', 'personal_loan', 'communication_type', 'n_contacts_campaign', 'days_since_last_contact', 'n_contacts_before', 'previous_conversion', 'duration']]\n",
        "\n",
        "X = dataset[['dateYear', 'dateMonth', 'dateWeekday', 'ageGroups', 'marital_status', 'education', 'job', 'credit_default', 'housing_loan', 'personal_loan', 'communication_type', 'n_contacts_campaign', 'days_since_last_contact', 'n_contacts_before', 'previous_conversion', 'duration', 'durationGroups']]\n",
        "y = dataset['success']"
      ],
      "execution_count": 0,
      "outputs": []
    },
    {
      "cell_type": "markdown",
      "metadata": {
        "id": "70l38BP0xoEh",
        "colab_type": "text"
      },
      "source": [
        "## Handle Imbalanced Dataset\n",
        "with Parameter fpr xgboost: scale_pos_weight"
      ]
    },
    {
      "cell_type": "code",
      "metadata": {
        "id": "UyP6l1bPxmwi",
        "colab_type": "code",
        "colab": {}
      },
      "source": [
        "ratio = float(np.sum(y == \"No\")) / np.sum(y == \"Yes\")\n",
        "ratio\n",
        "\n",
        "x_random_state = 1909"
      ],
      "execution_count": 0,
      "outputs": []
    },
    {
      "cell_type": "code",
      "metadata": {
        "id": "v0f-nV_LS2Lw",
        "colab_type": "code",
        "colab": {}
      },
      "source": [
        "# xgb.XGBClassifier?"
      ],
      "execution_count": 0,
      "outputs": []
    },
    {
      "cell_type": "code",
      "metadata": {
        "id": "AtICuwCbtj_H",
        "colab_type": "code",
        "colab": {}
      },
      "source": [
        "classifier = xgb.XGBClassifier(n_jobs=-1, random_state=x_random_state, objective='binary:logistic', scale_pos_weight=ratio)"
      ],
      "execution_count": 0,
      "outputs": []
    },
    {
      "cell_type": "code",
      "metadata": {
        "id": "6n7P31bISudv",
        "colab_type": "code",
        "colab": {}
      },
      "source": [
        "x_rscv = StratifiedKFold(n_splits=5, shuffle=True, random_state=x_random_state)\n",
        "x_rscv = x_rscv.split(X, y)"
      ],
      "execution_count": 0,
      "outputs": []
    },
    {
      "cell_type": "code",
      "metadata": {
        "id": "UhSvZBZ1tj_R",
        "colab_type": "code",
        "colab": {}
      },
      "source": [
        "#scorer = make_scorer(f1_score, pos_label='Yes')\n",
        "\n",
        "recall_scorer = make_scorer(recall_score, average='binary', pos_label='Yes')\n",
        "f1_scorer = make_scorer(f1_score, average='binary', pos_label='Yes')"
      ],
      "execution_count": 0,
      "outputs": []
    },
    {
      "cell_type": "code",
      "metadata": {
        "id": "jwLNxvgTtj_Z",
        "colab_type": "code",
        "colab": {}
      },
      "source": [
        "numeric_features = ['n_contacts_campaign', 'days_since_last_contact', 'n_contacts_before', 'duration']\n",
        "numeric_transformer = Pipeline([\n",
        "    ('scaler', MinMaxScaler()),\n",
        "])\n",
        "\n",
        "categorical_features = ['dateYear', 'dateMonth', 'dateWeekday', 'ageGroups', 'marital_status', 'education', 'job', 'credit_default', 'housing_loan', 'personal_loan', 'communication_type', 'previous_conversion', 'durationGroups']\n",
        "categorical_transformer = Pipeline([\n",
        "    ('onehotencoder', OneHotEncoder(drop='first')),\n",
        "])\n",
        "\n",
        "preprocessor = ColumnTransformer([\n",
        "    ('numeric_transformer', numeric_transformer, numeric_features),\n",
        "    ('categorical_transformer', categorical_transformer, categorical_features)\n",
        "])\n",
        "\n",
        "pipeline = Pipeline([\n",
        "    ('preprocessor', preprocessor),\n",
        "    ('classifier', classifier)\n",
        "])"
      ],
      "execution_count": 0,
      "outputs": []
    },
    {
      "cell_type": "code",
      "metadata": {
        "id": "RglM927Qtj_p",
        "colab_type": "code",
        "colab": {}
      },
      "source": [
        "param_distributions = {\n",
        "                        \"classifier__learning_rate\": uniform.rvs(0.0001, 0.1, size=20),\n",
        "                        \"classifier__gamma\" : uniform.rvs(0, 2, size=20),\n",
        "                        \"classifier__max_depth\": randint.rvs(2, 100, size=20),\n",
        "                        \"classifier__colsample_bytree\": uniform.rvs(0.1, 0.9, size=20),\n",
        "                        \"classifier__subsample\": uniform.rvs(0.1, 0.9, size=20),\n",
        "                        \"classifier__reg_alpha\": uniform.rvs(0, 0.9, size=20),\n",
        "                        \"classifier__reg_lambda\": uniform.rvs(0.0001, 5, size=20),\n",
        "                        \"classifier__min_child_weight\": randint.rvs(1, 7, size=20),\n",
        "                        \"classifier__n_estimators\": randint.rvs(100, 1000, size=20)\n",
        "                      }"
      ],
      "execution_count": 0,
      "outputs": []
    },
    {
      "cell_type": "code",
      "metadata": {
        "id": "h-cGOMygtj_3",
        "colab_type": "code",
        "colab": {}
      },
      "source": [
        "search = RandomizedSearchCV(\n",
        "    pipeline, param_distributions=param_distributions, n_iter=10, scoring={'recall_score': recall_scorer, 'f1_score': f1_scorer, 'AUC': 'roc_auc'}, \n",
        "    n_jobs=-1, cv=x_rscv, random_state=x_random_state, refit='recall_score', return_train_score=True)"
      ],
      "execution_count": 0,
      "outputs": []
    },
    {
      "cell_type": "code",
      "metadata": {
        "id": "osUP_vO-tj_8",
        "colab_type": "code",
        "colab": {}
      },
      "source": [
        "search = search.fit(X, y)"
      ],
      "execution_count": 0,
      "outputs": []
    },
    {
      "cell_type": "code",
      "metadata": {
        "id": "isW770lrosok",
        "colab_type": "code",
        "colab": {}
      },
      "source": [
        "search.cv_results_"
      ],
      "execution_count": 0,
      "outputs": []
    },
    {
      "cell_type": "code",
      "metadata": {
        "id": "gD1RC9osIEE6",
        "colab_type": "code",
        "colab": {
          "base_uri": "https://localhost:8080/",
          "height": 54
        },
        "outputId": "9fc90e5b-f24c-4eb4-a1a9-4527dca02189"
      },
      "source": [
        "f'Optimal parameters: {search.best_params_}'"
      ],
      "execution_count": 79,
      "outputs": [
        {
          "output_type": "execute_result",
          "data": {
            "text/plain": [
              "\"Optimal parameters: {'classifier__subsample': 0.5924940650360587, 'classifier__reg_lambda': 3.506244188886414, 'classifier__reg_alpha': 0.7697685845504728, 'classifier__n_estimators': 609, 'classifier__min_child_weight': 1, 'classifier__max_depth': 64, 'classifier__learning_rate': 0.004941000818607644, 'classifier__gamma': 1.6021414998334342, 'classifier__colsample_bytree': 0.8641583807091044}\""
            ]
          },
          "metadata": {
            "tags": []
          },
          "execution_count": 79
        }
      ]
    },
    {
      "cell_type": "markdown",
      "metadata": {
        "id": "uTxta8l6tkAB",
        "colab_type": "text"
      },
      "source": [
        "## Evaluation"
      ]
    },
    {
      "cell_type": "code",
      "metadata": {
        "id": "l_G8-du6tkAC",
        "colab_type": "code",
        "colab": {}
      },
      "source": [
        "training_score = search.cv_results_['mean_train_f1_score'][search.best_index_] * 100\n",
        "test_score = search.cv_results_['mean_test_f1_score'][search.best_index_] * 100"
      ],
      "execution_count": 0,
      "outputs": []
    },
    {
      "cell_type": "code",
      "metadata": {
        "id": "9d_TYdu0tkAG",
        "colab_type": "code",
        "colab": {
          "base_uri": "https://localhost:8080/",
          "height": 34
        },
        "outputId": "49c2b23a-5b1f-4765-912a-b87d9fe61814"
      },
      "source": [
        "f'Mean F1 Score (Training/Test): {training_score:.2f}%/{test_score:.2f}%'"
      ],
      "execution_count": 87,
      "outputs": [
        {
          "output_type": "execute_result",
          "data": {
            "text/plain": [
              "'Mean F1 Score (Training/Test): 73.39%/62.27%'"
            ]
          },
          "metadata": {
            "tags": []
          },
          "execution_count": 87
        }
      ]
    },
    {
      "cell_type": "code",
      "metadata": {
        "colab_type": "code",
        "id": "EanpXjF-wdD2",
        "colab": {}
      },
      "source": [
        "training_score = search.cv_results_['mean_train_recall_score'][search.best_index_] * 100\n",
        "test_score = search.cv_results_['mean_test_recall_score'][search.best_index_] * 100"
      ],
      "execution_count": 0,
      "outputs": []
    },
    {
      "cell_type": "code",
      "metadata": {
        "colab_type": "code",
        "outputId": "1c6f0550-4ea0-482b-fbd8-57e83ef42c1a",
        "id": "3lLys1r-wj7y",
        "colab": {
          "base_uri": "https://localhost:8080/",
          "height": 34
        }
      },
      "source": [
        "f'Mean Recall Score (Training/Test): {training_score:.2f}%/{test_score:.2f}%'"
      ],
      "execution_count": 89,
      "outputs": [
        {
          "output_type": "execute_result",
          "data": {
            "text/plain": [
              "'Mean Recall Score (Training/Test): 98.67%/83.91%'"
            ]
          },
          "metadata": {
            "tags": []
          },
          "execution_count": 89
        }
      ]
    },
    {
      "cell_type": "code",
      "metadata": {
        "colab_type": "code",
        "id": "WIA6UslLwfvj",
        "colab": {}
      },
      "source": [
        "training_score = search.cv_results_['mean_train_AUC'][search.best_index_] * 100\n",
        "test_score = search.cv_results_['mean_test_AUC'][search.best_index_] * 100"
      ],
      "execution_count": 0,
      "outputs": []
    },
    {
      "cell_type": "code",
      "metadata": {
        "colab_type": "code",
        "outputId": "706ebbda-f9af-4ba7-99c4-b72d740694d7",
        "id": "-sV46V4ewmZV",
        "colab": {
          "base_uri": "https://localhost:8080/",
          "height": 34
        }
      },
      "source": [
        "f'Mean AUC Score (Training/Test): {training_score:.2f}%/{test_score:.2f}%'"
      ],
      "execution_count": 92,
      "outputs": [
        {
          "output_type": "execute_result",
          "data": {
            "text/plain": [
              "'Mean AUC Score (Training/Test): 98.36%/94.26%'"
            ]
          },
          "metadata": {
            "tags": []
          },
          "execution_count": 92
        }
      ]
    },
    {
      "cell_type": "code",
      "metadata": {
        "id": "aWgC5RlCw21G",
        "colab_type": "code",
        "colab": {
          "base_uri": "https://localhost:8080/",
          "height": 34
        },
        "outputId": "4ee779d6-f7f2-4779-b6c9-03785aed0693"
      },
      "source": [
        "mean_fit_time = search.cv_results_['mean_fit_time'][search.best_index_]\n",
        "mean_score_time = search.cv_results_['mean_score_time'][search.best_index_]\n",
        "f'Mean mean_fit_time / mean_score_time: {mean_fit_time:.2f}/{mean_score_time:.2f}'"
      ],
      "execution_count": 85,
      "outputs": [
        {
          "output_type": "execute_result",
          "data": {
            "text/plain": [
              "'Mean mean_fit_time / mean_score_time: 74.67/2.98'"
            ]
          },
          "metadata": {
            "tags": []
          },
          "execution_count": 85
        }
      ]
    },
    {
      "cell_type": "markdown",
      "metadata": {
        "id": "ejCp1lI-9h9c",
        "colab_type": "text"
      },
      "source": [
        "## Log Datei füttern"
      ]
    },
    {
      "cell_type": "code",
      "metadata": {
        "id": "OEWS-tsj9hhp",
        "colab_type": "code",
        "colab": {}
      },
      "source": [
        "# datetime;alpha;lambda;random_state;n_estimators_min;n_estimators_max;max_depth_min;x_max_depth_max;best_n_estimators;best_max_depth;best_learning_rate;f1_training;f1_test;std_train_score;std_test_score\n",
        "\n",
        "logData = [[datetime.now()\n",
        "            ,search.best_params_['classifier__learning_rate']\n",
        "            ,search.best_params_['classifier__gamma']\n",
        "            ,search.best_params_['classifier__max_depth']\n",
        "            ,search.best_params_['classifier__colsample_bytree']\n",
        "            ,search.best_params_['classifier__subsample']\n",
        "            ,search.best_params_['classifier__reg_alpha']\n",
        "            ,search.best_params_['classifier__reg_lambda']\n",
        "            ,search.best_params_['classifier__min_child_weight']\n",
        "            ,search.best_params_['classifier__n_estimators']\n",
        "            ,training_score\n",
        "            ,test_score\n",
        "            ,search.cv_results_['std_train_score'][search.best_index_]\n",
        "            ,search.cv_results_['std_test_score'][search.best_index_]]]\n",
        "with open('log2.csv', 'a') as csvfile:\n",
        "  writer = csv.writer(csvfile, delimiter=';')\n",
        "  writer.writerows(logData)"
      ],
      "execution_count": 0,
      "outputs": []
    },
    {
      "cell_type": "markdown",
      "metadata": {
        "id": "ce1oD7CDtkAO",
        "colab_type": "text"
      },
      "source": [
        "## Prediction"
      ]
    },
    {
      "cell_type": "code",
      "metadata": {
        "id": "njPYhiz5tkAS",
        "colab_type": "code",
        "colab": {}
      },
      "source": [
        "sys.exit()\n",
        "predictions = search.best_estimator_.predict(prediction_dataset)"
      ],
      "execution_count": 0,
      "outputs": []
    },
    {
      "cell_type": "markdown",
      "metadata": {
        "id": "y6H61WM5tkAZ",
        "colab_type": "text"
      },
      "source": [
        "## Submission Dataset Preparation\n",
        "\n",
        "Your upload to the Online-Campus should contain your written report (the actual seminar paper), this notebook as file as well as the generated submission dataset with your predictions."
      ]
    },
    {
      "cell_type": "code",
      "metadata": {
        "id": "PwJtq1XltkAb",
        "colab_type": "code",
        "colab": {}
      },
      "source": [
        "submission = pd.DataFrame(\n",
        "    predictions, index=prediction_dataset.index, columns=['prediction'])"
      ],
      "execution_count": 0,
      "outputs": []
    },
    {
      "cell_type": "code",
      "metadata": {
        "id": "0PFaGgAjtkAh",
        "colab_type": "code",
        "colab": {}
      },
      "source": [
        "matriculation_number = '12345678'"
      ],
      "execution_count": 0,
      "outputs": []
    },
    {
      "cell_type": "code",
      "metadata": {
        "id": "i4Rd5zVutkAm",
        "colab_type": "code",
        "colab": {}
      },
      "source": [
        "submission.to_csv(\n",
        "    f'./submission-{matriculation_number}.csv', index_label='identifier')"
      ],
      "execution_count": 0,
      "outputs": []
    },
    {
      "cell_type": "markdown",
      "metadata": {
        "id": "16tuFXaYwPmR",
        "colab_type": "text"
      },
      "source": [
        "# Nützliche Links\n",
        "* XGboost Implementation: [https://www.datacamp.com/community/tutorials/xgboost-in-python](https://www.datacamp.com/community/tutorials/xgboost-in-python)\n",
        "* XGBoost Parameter List: [https://xgboost.readthedocs.io/en/latest/parameter.html](https://xgboost.readthedocs.io/en/latest/parameter.html)\n",
        "* XGBoost Tuning Parameters: [https://kehuiyao.github.io/2019/03/21/xgboost-tuning-parameters/](https://kehuiyao.github.io/2019/03/21/xgboost-tuning-parameters/)"
      ]
    }
  ]
}